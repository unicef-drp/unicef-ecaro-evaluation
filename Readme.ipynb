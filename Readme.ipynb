{
 "cells": [
  {
   "cell_type": "code",
   "execution_count": 3,
   "id": "63193e35-6fc4-4a6a-b823-d0f277bb7143",
   "metadata": {
    "editable": true,
    "slideshow": {
     "slide_type": ""
    },
    "tags": []
   },
   "outputs": [],
   "source": [
    "from ploomber.spec import DAGSpec\n",
    "from unicef_cpe.config import PROJ_ROOT\n",
    "spec = DAGSpec(PROJ_ROOT / 'pipeline.yaml')\n",
    "dag = spec.to_dag()"
   ]
  },
  {
   "cell_type": "code",
   "execution_count": 4,
   "id": "21757fad",
   "metadata": {},
   "outputs": [
    {
     "name": "stderr",
     "output_type": "stream",
     "text": [
      "/Users/gabriele/anaconda3/envs/unicef-cpe/lib/python3.10/site-packages/ploomber/dag/dag.py:455: UserWarning: \n",
      "=========================== DAG render with warnings ===========================\n",
      "- NotebookRunner: 50_parttners_to_type -> MetaProduct({'data': File('data/pr...mapping.xlsx'), 'data2': File('data/pr...r-types.xlsx'), 'nb': File('noteboo...o_type.ipynb')}) -\n",
      "- /Users/gabriele/App/rowsquared/unicef-ecaro-evaluation/pipelines/50_parttners_to_type.ipynb -\n",
      "These parameters are not used in the task's source code: 'COUNTRY'\n",
      "- NotebookRunner: 04_coars_context_summarization -> MetaProduct({'data': File('data/pr...mmaries.xlsx'), 'nb': File('noteboo...zation.ipynb')}) -\n",
      "- /Users/gabriele/App/rowsquared/unicef-ecaro-evaluation/pipelines/04_coars_context_summarization.ipynb -\n",
      "These parameters are not used in the task's source code: 'STARTING_YEAR'\n",
      "============================== Summary (2 tasks) ===============================\n",
      "NotebookRunner: 50_parttners_to_type -> MetaProduct({'data': File('data/pr...mapping.xlsx'), 'data2': File('data/pr...r-types.xlsx'), 'nb': File('noteboo...o_type.ipynb')})\n",
      "NotebookRunner: 04_coars_context_summarization -> MetaProduct({'data': File('data/pr...mmaries.xlsx'), 'nb': File('noteboo...zation.ipynb')})\n",
      "=========================== DAG render with warnings ===========================\n",
      "\n",
      "  warnings.warn(str(warnings_))\n",
      "Building task '13_psns_comparative_advantages_extraction':   0%|          | 0/1 [00:00<?, ?it/s]\n",
      "Executing:   0%|          | 0/14 [00:00<?, ?cell/s]\n",
      "Executing:   7%|▋         | 1/14 [00:00<00:10,  1.21cell/s]\n",
      "Executing:  29%|██▊       | 4/14 [00:04<00:11,  1.11s/cell]\n",
      "Executing:  50%|█████     | 7/14 [00:06<00:06,  1.07cell/s]\n",
      "Executing:  57%|█████▋    | 8/14 [00:45<00:52,  8.71s/cell]\n",
      "Executing: 100%|██████████| 14/14 [00:57<00:00,  4.13s/cell]\n",
      "Building task '13_psns_comparative_advantages_extraction': 100%|██████████| 1/1 [00:57<00:00, 57.87s/it]\n"
     ]
    }
   ],
   "source": [
    "build = dag.build()"
   ]
  },
  {
   "cell_type": "code",
   "execution_count": null,
   "id": "841e608c-e493-4b28-87c9-2dee5dcc7cc7",
   "metadata": {
    "editable": true,
    "slideshow": {
     "slide_type": ""
    },
    "tags": []
   },
   "outputs": [],
   "source": [
    "build"
   ]
  },
  {
   "cell_type": "code",
   "execution_count": null,
   "id": "2f1527b1-e2ce-4129-a5af-405f64b30749",
   "metadata": {},
   "outputs": [],
   "source": [
    "dag.render()\n",
    "dag.plot()"
   ]
  },
  {
   "cell_type": "code",
   "execution_count": null,
   "id": "e90402de-1182-48e3-8730-23fbf45bc5cc",
   "metadata": {},
   "outputs": [],
   "source": [
    "##"
   ]
  }
 ],
 "metadata": {
  "kernelspec": {
   "display_name": "unicef-cpe",
   "language": "python",
   "name": "python3"
  },
  "language_info": {
   "codemirror_mode": {
    "name": "ipython",
    "version": 3
   },
   "file_extension": ".py",
   "mimetype": "text/x-python",
   "name": "python",
   "nbconvert_exporter": "python",
   "pygments_lexer": "ipython3",
   "version": "3.10.15"
  }
 },
 "nbformat": 4,
 "nbformat_minor": 5
}
