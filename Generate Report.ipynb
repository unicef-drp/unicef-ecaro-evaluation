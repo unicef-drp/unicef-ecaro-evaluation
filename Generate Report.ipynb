{
 "cells": [
  {
   "cell_type": "code",
   "execution_count": null,
   "id": "63193e35-6fc4-4a6a-b823-d0f277bb7143",
   "metadata": {
    "editable": true,
    "slideshow": {
     "slide_type": ""
    },
    "tags": []
   },
   "outputs": [],
   "source": [
    "from ploomber.spec import DAGSpec\n",
    "from unicef_cpe.config import PROJ_ROOT\n",
    "from unicef_cpe.utils import generate_output_excel\n",
    "import subprocess\n",
    "from datetime import datetime"
   ]
  },
  {
   "cell_type": "code",
   "execution_count": null,
   "id": "95618948",
   "metadata": {},
   "outputs": [],
   "source": [
    "spec = DAGSpec(PROJ_ROOT / 'pipeline.yaml')\n",
    "dag = spec.to_dag()\n",
    "\n",
    "country = spec.env.get('COUNTRY')"
   ]
  },
  {
   "cell_type": "markdown",
   "id": "330acd0c",
   "metadata": {},
   "source": [
    "### Generating the AI Report  \n",
    "\n",
    "Once you have completed the **README** setup instructions, you can execute this notebook to process the data and generate the **AI report**.\n",
    "\n",
    "**1. Configure the Report Parameters**\n",
    "    - Open the **`env.yaml`** file.  \n",
    "    - Set the **year** for which you want to generate the report.  \n",
    "    - Specify the **country code** (e.g., for Georgia, use `GEO`).  \n",
    "\n",
    "**2. Understand the Processing Pipeline**\n",
    "    - The **`pipeline.yaml`** file defines the different processing steps executed in this workflow.  \n",
    "    - The corresponding notebooks for each step are located in the **`/pipelines`** directory.  \n",
    "\n",
    "**3. Modify the Pipeline Execution (Optional)**\n",
    "- If you **do not** want to execute a specific step, **comment out** the corresponding section in the **`pipeline.yaml`** file.  \n",
    "\n",
    "**4. Start Processing** \n",
    "- Run the next cell in the notebook to begin data processing.  \n",
    "\n",
    "> ⚠ **Note:**  \n",
    "> - By default, this version assumes that the **LLM model** is from **OpenAI**.  \n",
    "> - If you **do not** have an OpenAI account, you can use **Ollama**, but you must **manually set** the model name and version in the relevant notebooks.  "
   ]
  },
  {
   "cell_type": "code",
   "execution_count": null,
   "id": "21757fad",
   "metadata": {},
   "outputs": [],
   "source": [
    "build = dag.build()"
   ]
  },
  {
   "cell_type": "markdown",
   "id": "7eed7d51",
   "metadata": {},
   "source": [
    "### Handling Execution Failures  \n",
    "\n",
    "If the execution of the previous cell **fails**, the system will display the notebook that encountered an error.  \n",
    "\n",
    "**Locating the Error**  \n",
    "- The error details can be found in the **respective notebook** within the **`notebooks/pipeline_output/`** folder.  \n",
    "\n",
    "**Fixing the Issue**  \n",
    "- To resolve the issue, edit the notebook located in **`/pipelines`**, **not** in `notebooks/pipeline_output`, as the latter stores executed notebooks.  \n",
    "\n",
    "**Re-executing the Process**  \n",
    "- Once the issue is fixed, **rerun the previous cell**.  \n",
    "- Successfully executed notebooks **will not be reprocessed**.  \n",
    "\n",
    "**Forcing a Full Re-execution**  \n",
    "- If you want to **reprocess all notebooks**, modify the execution command:  \n",
    "  ```python\n",
    "  build = dag.build(force=True)\n",
    "  ```"
   ]
  },
  {
   "cell_type": "code",
   "execution_count": null,
   "id": "9894c09d",
   "metadata": {},
   "outputs": [],
   "source": [
    "# Generate Excel Output file \n",
    "generate_output_excel(PROJ_ROOT, country)"
   ]
  },
  {
   "cell_type": "markdown",
   "id": "74b13855",
   "metadata": {},
   "source": [
    "### Locating the Generated Data\n",
    "\n",
    "Once the previous cell is successfully executed, you can find the output datasets in:\n",
    "**Processed datasets**:\n",
    "```plaintext\n",
    "data/processed/{country}/\n",
    "```\n",
    "**Excel file containing all generated datasets in separate sheets**: \n",
    "```plaintext\n",
    "data/outputs/{country}/cpe_evaluation_data.xlsx\n",
    "```"
   ]
  },
  {
   "cell_type": "markdown",
   "id": "ab55695d",
   "metadata": {},
   "source": [
    "### Generating the AI Report with Quarto\n",
    "\n",
    "Once the data processing pipeline has successfully executed, you can generate the **AI-assisted country report** using **Quarto**.  \n",
    "\n",
    "**How the Report Generation Works**\n",
    "1. **Quarto renders the report template** (`report.qmd`) located in `reports/notebooks/`.\n",
    "2. The **report is generated as an HTML file**.\n",
    "```plaintext\n",
    "data/outputs/{country}/unicef-ecaro-cpe-report-{country}-vYYYYMMDD.html\n",
    "```"
   ]
  },
  {
   "cell_type": "code",
   "execution_count": null,
   "id": "2372abe1",
   "metadata": {},
   "outputs": [],
   "source": [
    "date_version = datetime.today().strftime('%Y%m%d')  # Generate date-based version\n",
    "\n",
    "# Define command (without absolute or relative path in -o)\n",
    "quarto_cmd = (\n",
    "    f'cd reports/notebooks && '\n",
    "    f'quarto render report.qmd '\n",
    "    f'-o unicef-ecaro-cpe-report-{country}-v{date_version}.html '\n",
    "    f'-P COUNTRY={country} -M subtitle=\"Country Report\"'\n",
    ")\n",
    "\n",
    "# Print the command for reference\n",
    "print(f\"Running: {quarto_cmd}\")\n",
    "\n",
    "# Execute the command\n",
    "subprocess.run(quarto_cmd, shell=True, check=True)\n",
    "\n",
    "# Move the output file to the desired directory\n",
    "output_src = f'reports/notebooks/unicef-ecaro-cpe-report-{country}-v{date_version}.html'\n",
    "output_dest = f'data/outputs/{country}/unicef-ecaro-cpe-report-{country}-v{date_version}.html'\n",
    "\n",
    "subprocess.run(f\"mv {output_src} {output_dest}\", shell=True, check=True)\n",
    "\n",
    "print(f\"Report successfully saved to {output_dest}\")"
   ]
  }
 ],
 "metadata": {
  "kernelspec": {
   "display_name": "unicef-ecaro-cpe",
   "language": "python",
   "name": "python3"
  },
  "language_info": {
   "codemirror_mode": {
    "name": "ipython",
    "version": 3
   },
   "file_extension": ".py",
   "mimetype": "text/x-python",
   "name": "python",
   "nbconvert_exporter": "python",
   "pygments_lexer": "ipython3",
   "version": "3.10.16"
  }
 },
 "nbformat": 4,
 "nbformat_minor": 5
}
