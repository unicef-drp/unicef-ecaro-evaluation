{
 "cells": [
  {
   "cell_type": "code",
   "execution_count": null,
   "metadata": {
    "tags": [
     "parameters"
    ]
   },
   "outputs": [],
   "source": [
    "# IMPORTANT: The parameters below are set only for running this notebook independently. \n",
    "# When executing the full Ploomber pipeline, these values will be overridden by the settings in `pipeline.yaml`. \n",
    "# Any modifications made here will not persist when running the pipeline.\n",
    "upstream = None\n",
    "COUNTRY =  'ARM' # Code of the Country\n",
    "product = {'data': f'../data/processed/{COUNTRY}/activities_programme_stucture.xlsx'}  # Path to save the final data product (stored under the 'data' key)\n",
    "data_source = 'data/raw/insight-programme-cubes/Funds Utilization Analysis Cube - Activity By Year.xlsx'  # Path to the source data directory"
   ]
  },
  {
   "cell_type": "code",
   "execution_count": null,
   "metadata": {},
   "outputs": [],
   "source": [
    "import pandas as pd\n",
    "from unicef_cpe.config import PROJ_ROOT\n",
    "import unicef_cpe\n",
    "from pathlib import Path"
   ]
  },
  {
   "cell_type": "code",
   "execution_count": null,
   "metadata": {},
   "outputs": [],
   "source": [
    "\n",
    "file_path = PROJ_ROOT / data_source\n",
    "df_activities = unicef_cpe.processing.read_vision_programme_data(file_path)\n",
    "\n",
    "mask = df_activities['country'].eq(COUNTRY)\n",
    "df_activities = df_activities[mask].copy()\n",
    "print(df_activities.head())"
   ]
  },
  {
   "cell_type": "code",
   "execution_count": null,
   "metadata": {},
   "outputs": [],
   "source": [
    "df_programme = unicef_cpe.processing.get_programme_structure()\n",
    "df_programme.drop('country',inplace=True, axis=1)\n",
    "print(df_programme.head())"
   ]
  },
  {
   "cell_type": "code",
   "execution_count": null,
   "metadata": {},
   "outputs": [],
   "source": [
    "print('Shape before:', df_activities.shape)\n",
    "df_activities['activity_wbs'] = df_activities['activity'].str.split(r'\\s+', n=1, regex=True).str.get(0)\n",
    "df_activities['activity'] = df_activities['activity'].str.split(r'\\s+', n=1, regex=True).str.get(-1)\n",
    "print('Shape after:', df_activities.shape)\n",
    "print(df_activities.head())"
   ]
  },
  {
   "cell_type": "code",
   "execution_count": null,
   "metadata": {},
   "outputs": [],
   "source": [
    "df_activities = df_activities.merge(df_programme, left_on='activity_wbs', right_on='activity_code', how='left')\n",
    "\n",
    "# Remove all rows that do not have a corresponding Activity code in df_programme. \n",
    "# That is those that are not in the structure, i.e. either earlier years or not in the country list.\n",
    "df_activities.dropna(subset=['activity_code'], inplace=True)"
   ]
  },
  {
   "cell_type": "code",
   "execution_count": null,
   "metadata": {},
   "outputs": [],
   "source": [
    "df_activities['expenditure'] = df_activities['value'].astype(float)\n",
    "df_activities['year'] = df_activities['year'].astype(int)"
   ]
  },
  {
   "cell_type": "code",
   "execution_count": null,
   "metadata": {},
   "outputs": [],
   "source": [
    "print(df_activities.head())"
   ]
  },
  {
   "cell_type": "code",
   "execution_count": null,
   "metadata": {},
   "outputs": [],
   "source": [
    "\n",
    "output_path = Path(product['data'])\n",
    "output_path.parent.mkdir(parents=True, exist_ok=True)  # Create missing directories\n",
    "df_activities.to_excel(product['data'], index=False)"
   ]
  },
  {
   "cell_type": "code",
   "execution_count": null,
   "metadata": {},
   "outputs": [],
   "source": [
    "################################################################################################################################################################################################"
   ]
  }
 ],
 "metadata": {
  "kernelspec": {
   "display_name": "unicef-cpe",
   "language": "python",
   "name": "python3"
  },
  "language_info": {
   "codemirror_mode": {
    "name": "ipython",
    "version": 3
   },
   "file_extension": ".py",
   "mimetype": "text/x-python",
   "name": "python",
   "nbconvert_exporter": "python",
   "pygments_lexer": "ipython3",
   "version": "3.10.15"
  }
 },
 "nbformat": 4,
 "nbformat_minor": 2
}
