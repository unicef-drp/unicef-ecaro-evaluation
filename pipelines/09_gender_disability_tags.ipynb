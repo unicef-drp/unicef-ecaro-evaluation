{
 "cells": [
  {
   "cell_type": "code",
   "execution_count": null,
   "metadata": {
    "tags": [
     "parameters"
    ]
   },
   "outputs": [],
   "source": [
    "# IMPORTANT: The parameters below are set only for running this notebook independently. \n",
    "# When executing the full Ploomber pipeline, these values will be overridden by the settings in `pipeline.yaml`. \n",
    "# Any modifications made here will not persist when running the pipeline.\n",
    "upstream = None\n",
    "COUNTRY =  'ARM' # Code of the Country\n",
    "product = {\n",
    "    'data_gender_marker': f'../data/processed/{COUNTRY}/gender_marker.xlsx',\n",
    "    'data_gender_marker_count': f'../data/processed/{COUNTRY}/gender_marker_count.xlsx',\n",
    "    'data_disability_tag': f'../data/processed/{COUNTRY}/disability_tag.xlsx',\n",
    "    'data_disability_tag_count': f'../data/processed/{COUNTRY}/disability_tag_count.xlsx',\n",
    "    'data_humanitarian_marker': f'../data/processed/{COUNTRY}/humanitarian_marker.xlsx',\n",
    "    'data_humanitarian_marker_count': f'../data/processed/{COUNTRY}/humanitarian_marker_count_count.xlsx',\n",
    "    'data_adolescent_tag': f'../data/processed/{COUNTRY}/adolescent_tag.xlsx',\n",
    "    'data_adolescent_tag_count': f'../data/processed/{COUNTRY}/adolescent_tag_count.xlsx',\n",
    " \n",
    " }  # Path to save the final data product (stored under the 'data' key)\n",
    "\n",
    "data_source = 'data/raw/insight-programme-management'  # Path to the source data directory"
   ]
  },
  {
   "cell_type": "markdown",
   "metadata": {},
   "source": [
    "This Notebook processes the programme structure to extract information about gender and humanitarian markers; and disability and adolescence tags by year. The markers are at output level and the tags at activity level."
   ]
  },
  {
   "cell_type": "code",
   "execution_count": null,
   "metadata": {},
   "outputs": [],
   "source": [
    "import re\n",
    "import pandas as pd\n",
    "from pathlib import Path\n",
    "from unicef_cpe.utils import *\n",
    "from unicef_cpe.config import PROJ_ROOT"
   ]
  },
  {
   "cell_type": "code",
   "execution_count": null,
   "metadata": {},
   "outputs": [],
   "source": [
    "country_map = {k:v for k,v in get_ecaro_countries_mapping(priority=False).items() if k in COUNTRY}\n",
    "country_code_map = {v:k for k,v in country_map.items() }"
   ]
  },
  {
   "cell_type": "markdown",
   "metadata": {},
   "source": [
    "### 5. Programme Structure"
   ]
  },
  {
   "cell_type": "code",
   "execution_count": null,
   "metadata": {},
   "outputs": [],
   "source": [
    "file_path = PROJ_ROOT / data_source\n",
    "file_paths = sorted(Path(file_path).glob('*.xlsx'))\n",
    "file_paths"
   ]
  },
  {
   "cell_type": "markdown",
   "metadata": {},
   "source": [
    "Read in the data"
   ]
  },
  {
   "cell_type": "code",
   "execution_count": null,
   "metadata": {},
   "outputs": [],
   "source": [
    "dfs = []\n",
    "for path in file_paths:\n",
    "    df_programmes = pd.read_excel(path, skiprows=12)\n",
    "    dfs.append(df_programmes)\n",
    "df_programmes = pd.concat(dfs, axis=0, ignore_index=True)\n",
    "df_programmes.rename(lambda x: x.lower().replace(' ', '_'), axis=1, inplace=True)\n",
    "print('Shape:', df_programmes.shape)"
   ]
  },
  {
   "cell_type": "code",
   "execution_count": null,
   "metadata": {},
   "outputs": [],
   "source": [
    "# de-duplicate data (same as Mykola)\n",
    "print('Shape before:', df_programmes.shape)\n",
    "df_programmes.dropna(subset=['activity_wbs'], ignore_index=True, inplace=True)\n",
    "assert df_programmes.duplicated(subset=['activity_wbs']).sum() == 0, 'Duplicated activities'\n",
    "print('Shape after:', df_programmes.shape)\n"
   ]
  },
  {
   "cell_type": "code",
   "execution_count": null,
   "metadata": {},
   "outputs": [],
   "source": [
    "# clean up columns to keep and fill blank spaces\n",
    "to_keep = [\n",
    "    'business_area',\n",
    "    'cp_wbs',\n",
    "    'cp_short_text',\n",
    "    # 'outcome_wbs',\n",
    "    'output_wbs',\n",
    "    'activity_wbs',\n",
    "    'gender_equality_marker_name',\n",
    "    'humanitarian_marker_name',\n",
    "    'disability_tag',\n",
    "    'adolescent_tag',\n",
    "    # 'output_funding',\n",
    "    'utilized',\n",
    "]\n",
    "\n",
    "print('Shape before:', df_programmes.shape)\n",
    "\n",
    "df_programmes = df_programmes[to_keep].copy()\n",
    "\n",
    "# Mark missing values in the Tags to not confuse with zero\n",
    "for column in ('gender_equality_marker_name', 'humanitarian_marker_name', 'disability_tag', 'adolescent_tag'):\n",
    "    df_programmes[column] = df_programmes[column].fillna('Missing values')\n",
    "\n",
    "df_programmes['utilized'] = df_programmes['utilized'].fillna(0.)\n",
    "assert df_programmes.isna().sum().sum() == 0, 'Missing values'\n",
    "\n",
    "# map business areas to iso codes\n",
    "df_programmes['business_area'] = df_programmes['business_area'].apply(replace_business_areas_with_iso)\n",
    "df_programmes.rename({'business_area': 'country'}, axis=1, inplace=True)\n",
    "\n",
    "\n",
    "\n",
    "#Filter only relevant country\n",
    "df_programmes = df_programmes[df_programmes[\"country\"] == COUNTRY].copy()\n",
    "print('Shape after:', df_programmes.shape)"
   ]
  },
  {
   "cell_type": "code",
   "execution_count": null,
   "metadata": {},
   "outputs": [],
   "source": [
    "def extract_two_years(string):\n",
    "    # Regex pattern to match four-digit years (2010 as an example)\n",
    "    year_pattern = r'(20\\d{2})'\n",
    "    # match = re.search(r'(20\\d{2})', text) \n",
    "    # Find all matches in the string\n",
    "    years = re.findall(year_pattern, string)\n",
    "        \n",
    "    # If exactly two years are found, return them as a string\n",
    "    if len(years) == 2:\n",
    "        return 'CP ' + years[0] + '-' + years[1]\n",
    "    else:\n",
    "        return None  # or return an appropriate default value"
   ]
  },
  {
   "cell_type": "code",
   "execution_count": null,
   "metadata": {},
   "outputs": [],
   "source": [
    "# Rename CP to make them uniform, eg. CP 2015 - 2020\n",
    "df_programmes['cp_short_text'] = df_programmes['cp_short_text'].apply(extract_two_years)"
   ]
  },
  {
   "cell_type": "markdown",
   "metadata": {},
   "source": [
    "**Gender, Disability, Adolecent and Humanitarian Marker/Tags Processing for Funds**"
   ]
  },
  {
   "cell_type": "markdown",
   "metadata": {},
   "source": [
    "Rating for the Gender Equality Marker (by output): 0 = NONE, 1 = MARGINAL, 2 = SIGNIFICANT, 3 = PRINCIPAL\n",
    "\n",
    "The Disability Tag (by activity) is supposed to involve rating every activity against a three-category scale; 3, 2, or 0. But in the xlsx file the rating seems to follow the same structure as the Gender Equality Marker, so I will use this here.\n",
    "\n",
    "Rating for the Humanitarian Marker (by output):  0 = NONE, 1 = MARGINAL, 2 = SIGNIFICANT, 3 = PRINCIPAL\n",
    "\n",
    "The Adolecent Tag (by activity) is rated yes/no."
   ]
  },
  {
   "cell_type": "markdown",
   "metadata": {},
   "source": [
    "***Marker/Tag Processing Function***"
   ]
  },
  {
   "cell_type": "code",
   "execution_count": null,
   "metadata": {},
   "outputs": [],
   "source": [
    "def marker_tag_funds(df, tag_type):\n",
    "    '''\n",
    "    input df: contains data on CP utilization \n",
    "    tag_type: marker/tag that needs to be evaluated (can't be adolescent_tag)\n",
    "    output df: contains columns ['PRINCIPAL', 'SIGNIFICANT', 'MARGINAL', 'NONE', 'Missing values'] \n",
    "    and the normalized funds in % associated with the columns \n",
    "    '''\n",
    "    # Step 1: Aggregate the total utilized funds for each combination\n",
    "    agg = df.groupby(['country', 'cp_short_text', tag_type])['utilized'].sum().reset_index()\n",
    "\n",
    "    # Step 2: Normalize the values to %\n",
    "    agg['total_utilized'] = agg.groupby(['country', 'cp_short_text'])['utilized'].transform('sum')\n",
    "    agg['normalized'] = 100 * (agg['utilized'] / agg['total_utilized'])\n",
    "\n",
    "    # Step 3: Pivot the DataFrame to reshape it\n",
    "    df_out = agg.pivot_table(index=['country', 'cp_short_text'], \n",
    "                                        columns=tag_type, \n",
    "                                        values='normalized', \n",
    "                                        fill_value=0).reset_index()\n",
    "\n",
    "    # Add the total utilized funds as a separate column in df_out\n",
    "    total_utilized = agg[['country', 'cp_short_text', 'total_utilized']].drop_duplicates()\n",
    "    df_out = df_out.merge(total_utilized, on=['country', 'cp_short_text'], how='left')\n",
    "\n",
    "    # Optional: Rename the columns for better readability\n",
    "    df_out.columns.name = None  # Remove the name of the columns index\n",
    "    df_out = df_out.rename_axis(None, axis=1)  # Remove the name of the index\n",
    "\n",
    "    tag_order = ['PRINCIPAL', 'SIGNIFICANT', 'MARGINAL', 'NONE', 'Missing values']\n",
    "    order = ['country', 'cp_short_text','total_utilized'] + tag_order\n",
    "    order = [o for o in order if o in df_out.columns]\n",
    "    df_out = df_out[order]\n",
    "\n",
    "    return df_out"
   ]
  },
  {
   "cell_type": "code",
   "execution_count": null,
   "metadata": {},
   "outputs": [],
   "source": [
    "def adolescent_tag_funds(df, tag_type = 'adolescent_tag'):\n",
    "    '''\n",
    "    input df: contains data on CP utilization \n",
    "    tag_type: only for adolescent_tag or other YES/NO tags\n",
    "    output df: contains columns ['YES', 'NO'] \n",
    "    and the normalized funds in % associated with the columns \n",
    "    '''\n",
    "    # Step 1: Aggregate the total utilized funds for each combination\n",
    "    agg = df.groupby(['country', 'cp_short_text', tag_type])['utilized'].sum().reset_index()\n",
    "\n",
    "    # Step 2: Normalize the values to %\n",
    "    agg['total_utilized'] = agg.groupby(['country', 'cp_short_text'])['utilized'].transform('sum')\n",
    "    agg['normalized'] = 100 * (agg['utilized'] / agg['total_utilized'])\n",
    "\n",
    "    # Step 3: Pivot the DataFrame to reshape it\n",
    "    df_out = agg.pivot_table(index=['country', 'cp_short_text'], \n",
    "                                        columns=tag_type, \n",
    "                                        values='normalized', \n",
    "                                        fill_value=0).reset_index()\n",
    "\n",
    "    # Add the total utilized funds as a separate column in df_out\n",
    "    total_utilized = agg[['country', 'cp_short_text', 'total_utilized']].drop_duplicates()\n",
    "    df_out = df_out.merge(total_utilized, on=['country', 'cp_short_text'], how='left')\n",
    "\n",
    "    # Optional: Rename the columns for better readability\n",
    "    df_out.columns.name = None  # Remove the name of the columns index\n",
    "    df_out = df_out.rename_axis(None, axis=1)  # Remove the name of the index\n",
    "\n",
    "    tag_order = ['YES', 'NO', 'Missing values']\n",
    "    order = ['country', 'cp_short_text','total_utilized'] + tag_order\n",
    "    order = [o for o in order if o in df_out.columns]\n",
    "    df_out = df_out[order]\n",
    "\n",
    "    return df_out"
   ]
  },
  {
   "cell_type": "markdown",
   "metadata": {},
   "source": [
    "***Gender Marker Processing***"
   ]
  },
  {
   "cell_type": "code",
   "execution_count": null,
   "metadata": {},
   "outputs": [],
   "source": [
    "df_gender = marker_tag_funds(df_programmes, 'gender_equality_marker_name')\n",
    "print(df_gender.head())"
   ]
  },
  {
   "cell_type": "markdown",
   "metadata": {},
   "source": [
    "***Disability Tag Processing***"
   ]
  },
  {
   "cell_type": "code",
   "execution_count": null,
   "metadata": {},
   "outputs": [],
   "source": [
    "df_disability = marker_tag_funds(df_programmes, 'disability_tag')\n",
    "print(df_disability.head())"
   ]
  },
  {
   "cell_type": "markdown",
   "metadata": {},
   "source": [
    "***Humanitarian Marker Processing***"
   ]
  },
  {
   "cell_type": "code",
   "execution_count": null,
   "metadata": {},
   "outputs": [],
   "source": [
    "df_humanitarian = marker_tag_funds(df_programmes, 'humanitarian_marker_name')\n",
    "print(df_humanitarian.head())"
   ]
  },
  {
   "cell_type": "markdown",
   "metadata": {},
   "source": [
    "***Adolescent Tag Processing***"
   ]
  },
  {
   "cell_type": "code",
   "execution_count": null,
   "metadata": {},
   "outputs": [],
   "source": [
    "df_adolescent = adolescent_tag_funds(df_programmes)\n",
    "print(df_adolescent.head())"
   ]
  },
  {
   "cell_type": "markdown",
   "metadata": {},
   "source": [
    "**Number of outputs/activities with certain Gender, Disability and Humanitarian Marker/Tag**"
   ]
  },
  {
   "cell_type": "markdown",
   "metadata": {},
   "source": [
    "Gender Equality Marker: by output\n",
    "\n",
    "Disability Tag: by activity\n",
    "\n",
    "Humanitarian Marker: by output\n",
    "\n",
    "Adolecent Tag: by activity (not implemented) "
   ]
  },
  {
   "cell_type": "code",
   "execution_count": null,
   "metadata": {},
   "outputs": [],
   "source": [
    "# count the number of activities per output, then use marker_tag_counting function to count no of outputs/activities\n",
    "output_counts = df_programmes['output_wbs'].value_counts()\n",
    "activity_counts = df_programmes['activity_wbs'].value_counts()\n",
    "# Map the counts back to the DataFrame\n",
    "df_programmes['output_proportion'] = df_programmes['output_wbs'].map(1./output_counts)\n",
    "df_programmes['activity_proportion'] = df_programmes['activity_wbs'].map(1./activity_counts)"
   ]
  },
  {
   "cell_type": "code",
   "execution_count": null,
   "metadata": {},
   "outputs": [],
   "source": [
    "def marker_tag_counting(df, tag_type, level):\n",
    "    \n",
    "    # Step 1: Count outputs for each combination for gender\n",
    "    agg = df.groupby(['country', 'cp_short_text', tag_type])[level].sum().reset_index()\n",
    "    \n",
    "    # Step 2: total count\n",
    "    agg['total_count'] = agg.groupby(['country', 'cp_short_text'])[level].transform('sum')\n",
    "\n",
    "    # Step 3: Pivot the DataFrame to reshape it\n",
    "    df_out = agg.pivot_table(index=['country', 'cp_short_text'], \n",
    "                                        columns=tag_type, \n",
    "                                        values=level, \n",
    "                                        fill_value=0).reset_index()\n",
    "    \n",
    "    # Add the total count as a separate column in df_out\n",
    "    total_count = agg[['country', 'cp_short_text', 'total_count']].drop_duplicates()\n",
    "    df_out = df_out.merge(total_count, on=['country', 'cp_short_text'], how='left')\n",
    "\n",
    "    # Optional: Rename the columns for better readability\n",
    "    df_out.columns.name = None  # Remove the name of the columns index\n",
    "    df_out = df_out.rename_axis(None, axis=1)  # Remove the name of the index\n",
    "\n",
    "\n",
    "    tag_order = ['PRINCIPAL', 'SIGNIFICANT', 'MARGINAL', 'NONE', 'Missing values']\n",
    "    order = ['country', 'cp_short_text', 'total_count'] + tag_order\n",
    "    order = [o for o in order if o in df_out.columns]\n",
    "    df_out = df_out[order]\n",
    "\n",
    "    return df_out"
   ]
  },
  {
   "cell_type": "code",
   "execution_count": null,
   "metadata": {},
   "outputs": [],
   "source": [
    "def adolescent_tag_counting(df, tag_type='adolescent_tag', level='activity_proportion'):\n",
    "    \n",
    "    # Step 1: Count outputs for each combination for gender\n",
    "    agg = df.groupby(['country', 'cp_short_text', tag_type])[level].sum().reset_index()\n",
    "    \n",
    "    # Step 2: total count\n",
    "    agg['total_count'] = agg.groupby(['country', 'cp_short_text'])[level].transform('sum')\n",
    "\n",
    "    # Step 3: Pivot the DataFrame to reshape it\n",
    "    df_out = agg.pivot_table(index=['country', 'cp_short_text'], \n",
    "                                        columns=tag_type, \n",
    "                                        values=level, \n",
    "                                        fill_value=0).reset_index()\n",
    "    \n",
    "    # Add the total count as a separate column in df_out\n",
    "    total_count = agg[['country', 'cp_short_text', 'total_count']].drop_duplicates()\n",
    "    df_out = df_out.merge(total_count, on=['country', 'cp_short_text'], how='left')\n",
    "\n",
    "    # Optional: Rename the columns for better readability\n",
    "    df_out.columns.name = None  # Remove the name of the columns index\n",
    "    df_out = df_out.rename_axis(None, axis=1)  # Remove the name of the index\n",
    "\n",
    "\n",
    "    tag_order = ['YES', 'NO', 'Missing values']\n",
    "    order = ['country', 'cp_short_text', 'total_count'] + tag_order\n",
    "    order = [o for o in order if o in df_out.columns]\n",
    "    df_out = df_out[order]\n",
    "\n",
    "    return df_out"
   ]
  },
  {
   "cell_type": "markdown",
   "metadata": {},
   "source": [
    "**Gender (level=output)**"
   ]
  },
  {
   "cell_type": "code",
   "execution_count": null,
   "metadata": {},
   "outputs": [],
   "source": [
    "df_gender_count = marker_tag_counting(df_programmes, 'gender_equality_marker_name', 'output_proportion')\n",
    "print(df_gender_count.head())"
   ]
  },
  {
   "cell_type": "markdown",
   "metadata": {},
   "source": [
    "**Disability (level = activity)**"
   ]
  },
  {
   "cell_type": "code",
   "execution_count": null,
   "metadata": {},
   "outputs": [],
   "source": [
    "df_disability_count = marker_tag_counting(df_programmes, 'disability_tag', 'activity_proportion')\n",
    "print(df_disability_count.head())"
   ]
  },
  {
   "cell_type": "markdown",
   "metadata": {},
   "source": [
    "**Humanitarian (level = output)**"
   ]
  },
  {
   "cell_type": "code",
   "execution_count": null,
   "metadata": {},
   "outputs": [],
   "source": [
    "df_humanitarian_count = marker_tag_counting(df_programmes, 'humanitarian_marker_name', 'output_proportion')\n",
    "print(df_humanitarian_count.head())"
   ]
  },
  {
   "cell_type": "code",
   "execution_count": null,
   "metadata": {},
   "outputs": [],
   "source": [
    "df_adolescent_count = adolescent_tag_counting(df_programmes)\n",
    "print(df_adolescent_count.head())"
   ]
  },
  {
   "cell_type": "markdown",
   "metadata": {},
   "source": [
    "**Output to Excel**"
   ]
  },
  {
   "cell_type": "code",
   "execution_count": null,
   "metadata": {},
   "outputs": [],
   "source": [
    "# Write the dataframes to separate sheets\n",
    "\n",
    "output_path = Path(product['data_gender_marker'])\n",
    "output_path.parent.mkdir(parents=True, exist_ok=True)  # Create missing directories\n",
    "\n",
    "\n",
    "\n",
    "# Create missing directories\n",
    "df_gender.to_excel(product['data_gender_marker'], index=False)\n",
    "df_gender_count.to_excel(product['data_gender_marker_count'], index=False)\n",
    "df_disability.to_excel(product['data_disability_tag'], index=False)\n",
    "df_disability_count.to_excel(product['data_disability_tag_count'], index=False)\n",
    "df_humanitarian.to_excel(product['data_humanitarian_marker'], index=False)\n",
    "df_humanitarian_count.to_excel(product['data_humanitarian_marker_count'], index=False)\n",
    "df_adolescent.to_excel(product['data_adolescent_tag'], index=False)\n",
    "df_adolescent_count.to_excel(product['data_adolescent_tag_count'], index=False)"
   ]
  }
 ],
 "metadata": {
  "kernelspec": {
   "display_name": "unicef-ecaro-cpe",
   "language": "python",
   "name": "python3"
  },
  "language_info": {
   "codemirror_mode": {
    "name": "ipython",
    "version": 3
   },
   "file_extension": ".py",
   "mimetype": "text/x-python",
   "name": "python",
   "nbconvert_exporter": "python",
   "pygments_lexer": "ipython3",
   "version": "3.10.16"
  }
 },
 "nbformat": 4,
 "nbformat_minor": 2
}
