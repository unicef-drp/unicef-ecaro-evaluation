{
 "cells": [
  {
   "cell_type": "code",
   "execution_count": null,
   "metadata": {
    "tags": [
     "parameters"
    ]
   },
   "outputs": [],
   "source": [
    "# IMPORTANT: The parameters below are set only for running this notebook independently. \n",
    "# When executing the full Ploomber pipeline, these values will be overridden by the settings in `pipeline.yaml`. \n",
    "# Any modifications made here will not persist when running the pipeline.\n",
    "\n",
    "\n",
    "YEAR = 2018\n",
    "COUNTRY =  'ARM' # Code of the Country\n",
    "STARTING_YEAR = 2018\n",
    "upstream = {\n",
    "    \"60_indicator_mapping\": {\n",
    "        \"data\": f\"../data/processed/{COUNTRY}/insight_indicators.xlsx\",\n",
    "    }\n",
    "}\n",
    "product = {\n",
    "    \"data\": f\"../data/processed/{COUNTRY}/indicator_codes.xlsx\",\n",
    "}\n",
    "\n",
    "\n",
    "data_source = ['data/raw/Standard and Additional Indicators/Standard and Additional Indicators-cp-2018-2021.xlsx', 'data/raw/Standard and Additional Indicators/Standard and Additional Indicators-cp-2022-2025.xlsx']\n",
    "\n"
   ]
  },
  {
   "cell_type": "markdown",
   "metadata": {},
   "source": [
    "## Effectiveness - 3\n",
    "### To what extent UNICEF positioning in the general public, CSOs , and private sector enables the delivery of results for children?\n",
    "\n",
    "\n",
    "This Notebook produces a spreadsheet summarising indicators and mapping them to goal areas. The indicator code, description, category (standard and additional), unit (percent, number, text, etc.), baseline and target value, baseline and target year, goal areas and performance are included. Two performance metrics are:\n",
    "1. Finalization of indicator rating (by UNICEF)\n",
    "2. Indicator progress (based on % of indicator targets achieved) from unicef-ecaro-cpe-dataset.xlsx"
   ]
  },
  {
   "cell_type": "code",
   "execution_count": null,
   "metadata": {},
   "outputs": [],
   "source": [
    "import unicef_cpe\n",
    "from unicef_cpe.config import PROJ_ROOT\n",
    "from unicef_cpe.utils import *\n",
    "from unicef_cpe.genai import *"
   ]
  },
  {
   "cell_type": "code",
   "execution_count": null,
   "metadata": {},
   "outputs": [],
   "source": [
    "country_map = {k:v for k,v in get_ecaro_countries_mapping(priority=False).items() if k in COUNTRY}\n",
    "country_code_map = {v:k for k,v in country_map.items() }"
   ]
  },
  {
   "cell_type": "code",
   "execution_count": null,
   "metadata": {},
   "outputs": [],
   "source": [
    "df = pd.read_excel(upstream['60_insight_indicators']['data'])"
   ]
  },
  {
   "cell_type": "code",
   "execution_count": null,
   "metadata": {},
   "outputs": [],
   "source": [
    "CODE_MAPPING_PATH_cp_1 = PROJ_ROOT / data_source[0]\n",
    "CODE_MAPPING_PATH_cp_2 = PROJ_ROOT / data_source[1]\n",
    "df_map_1 = pd.read_excel(CODE_MAPPING_PATH_cp_1)\n",
    "df_map_2 = pd.read_excel(CODE_MAPPING_PATH_cp_2)"
   ]
  },
  {
   "cell_type": "code",
   "execution_count": 5,
   "metadata": {},
   "outputs": [],
   "source": [
    "indicator_goal_area_mapping = df_map_1.set_index('Indicator Code')['Goal Area Description'].to_dict()\n",
    "indicator_goal_area_mapping.update(df_map_2.set_index('Indicator Code')['Goal Area Description'].to_dict())\n",
    "\n",
    "indicator_category_mapping = df_map_1.set_index('Indicator Code')['Indicator Category'].to_dict()\n",
    "indicator_category_mapping.update(df_map_2.set_index('Indicator Code')['Indicator Category'].to_dict())"
   ]
  },
  {
   "cell_type": "code",
   "execution_count": null,
   "metadata": {},
   "outputs": [],
   "source": [
    "df['goal_area'] = df['indicator_code'].replace(indicator_goal_area_mapping)\n",
    "df['goal_area'] = df['goal_area'].replace({'Special Purpose': 'Cross Sectoral'})\n",
    "\n",
    "df['country_code'] = df['country'].copy()\n",
    "df['country'] = df['country'].replace(country_map)\n",
    "df['indicator_category'] = df['indicator_code'].replace(indicator_category_mapping)\n"
   ]
  },
  {
   "cell_type": "code",
   "execution_count": null,
   "metadata": {},
   "outputs": [],
   "source": [
    "\n",
    "output_path = Path(product['data'])\n",
    "output_path.parent.mkdir(parents=True, exist_ok=True)  # Create missing directories\n",
    "df.to_excel(product['data'], index=False)\n"
   ]
  },
  {
   "cell_type": "code",
   "execution_count": 8,
   "metadata": {},
   "outputs": [],
   "source": [
    "################################################################################################################################################################################################"
   ]
  }
 ],
 "metadata": {
  "kernelspec": {
   "display_name": "rowsquared",
   "language": "python",
   "name": "python3"
  },
  "language_info": {
   "codemirror_mode": {
    "name": "ipython",
    "version": 3
   },
   "file_extension": ".py",
   "mimetype": "text/x-python",
   "name": "python",
   "nbconvert_exporter": "python",
   "pygments_lexer": "ipython3",
   "version": "3.12.4"
  }
 },
 "nbformat": 4,
 "nbformat_minor": 2
}
