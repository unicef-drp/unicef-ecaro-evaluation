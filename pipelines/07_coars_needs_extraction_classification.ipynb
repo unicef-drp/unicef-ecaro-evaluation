{
 "cells": [
  {
   "cell_type": "code",
   "execution_count": null,
   "metadata": {
    "tags": [
     "parameters"
    ]
   },
   "outputs": [],
   "source": [
    "# IMPORTANT: The parameters below are set only for running this notebook independently. \n",
    "# When executing the full Ploomber pipeline, these values will be overridden by the settings in `pipeline.yaml`. \n",
    "# Any modifications made here will not persist when running the pipeline.\n",
    "\n",
    "COUNTRY =  'ARM' # Code of the Country\n",
    "\n",
    "upstream = {\n",
    "    \"03_coars_narratives\": {\n",
    "        \"data\": f\"../data/processed/{COUNTRY}/narrative_by_section.xlsx\",\n",
    "    },\n",
    "}\n",
    "product = {\n",
    "    \"data\": f\"../data/processed/{COUNTRY}/coar_needs_by_goal_area.xlsx\",\n",
    "}\n",
    "\n"
   ]
  },
  {
   "cell_type": "markdown",
   "metadata": {},
   "source": [
    "\n",
    "This Notebook uses an LLM model to analyze the coar summaries to identify the main needs and challenges. These are categorized into one or more goal areas."
   ]
  },
  {
   "cell_type": "code",
   "execution_count": null,
   "metadata": {},
   "outputs": [],
   "source": [
    "import  unicef_cpe\n",
    "import pandas as pd\n",
    "from unicef_cpe.config import PROJ_ROOT\n",
    "from pathlib import Path\n",
    "from unicef_cpe import utils, genai"
   ]
  },
  {
   "cell_type": "code",
   "execution_count": null,
   "metadata": {},
   "outputs": [],
   "source": [
    "# Restrict only to these countries to avoid unexpected costs and long executing times.\n",
    "country_map = {k:v for k,v in utils.get_ecaro_countries_mapping(priority=False).items() if k in COUNTRY}\n",
    "country_code_map = {v:k for k,v in country_map.items() }\n",
    "MODEL = 'gpt-4o'"
   ]
  },
  {
   "cell_type": "markdown",
   "metadata": {},
   "source": [
    "### Extract needs from COARs"
   ]
  },
  {
   "cell_type": "code",
   "execution_count": null,
   "metadata": {},
   "outputs": [],
   "source": [
    "df_coars = pd.read_excel(upstream['03_coars_narratives']['data'])\n",
    "print('Shape:', df_coars.shape)\n",
    "print(df_coars.head())\n"
   ]
  },
  {
   "cell_type": "code",
   "execution_count": null,
   "metadata": {},
   "outputs": [],
   "source": [
    "## Get ONLY the first paragraph for Each Country and each Year as describing the context.\n",
    "df_coars = df_coars.groupby(['country_code', 'country', 'year']).first().reset_index()\n",
    "print(df_coars.head())"
   ]
  },
  {
   "cell_type": "code",
   "execution_count": null,
   "metadata": {},
   "outputs": [],
   "source": [
    "## NOTE. Let's focus only context AFTER 2015\n",
    "print('Shape before:', df_coars.shape)\n",
    "year_mask = df_coars['year'] > 2015\n",
    "df_coars = df_coars[year_mask].copy()\n",
    "print('Shape After:', df_coars.shape)"
   ]
  },
  {
   "cell_type": "code",
   "execution_count": null,
   "metadata": {},
   "outputs": [],
   "source": [
    "df_list = []\n",
    "\n",
    "country_name = country_map.get(COUNTRY)\n",
    "\n",
    "country_mask = df_coars['country'] == country_name\n",
    "\n",
    "years = sorted(df_coars[country_mask]['year'].unique())\n",
    "\n",
    "for year in years:\n",
    "    year_mask = df_coars['year'] == year\n",
    "    \n",
    "    try:\n",
    "        # We take only the text from the first section as it is the **context** section. This section is were we can find the **needs**\n",
    "        text = df_coars[country_mask & year_mask]['section_text'].iloc[0]\n",
    "    except IndexError:\n",
    "        # Skip if there's no narrative text for this combination of country and year\n",
    "        print(f\"No narrative text available for {country_name} in {year}\")\n",
    "        continue\n",
    "\n",
    "    # Extract needs and categorize them by goal area\n",
    "    subjects = unicef_cpe.genai.extract_by_goal_area(text, subject = \"needs and challenges\", model=MODEL, api_type='openai')\n",
    "\n",
    "    subjects ='\\n'+ subjects\n",
    "    subject_list = subjects.split('\\n- **')[1:]  # Skip the first empty element after the split\n",
    "    for subject in subject_list:\n",
    "        # Split each need into goal area and its description\n",
    "        subject_description = subject.split('**:')\n",
    "        \n",
    "        goal_area = subject_description[0].replace('- **','').replace('**', '').replace('\\n', '').strip()\n",
    "        new_subject = subject_description[1].replace('\\n', '').strip()\n",
    "        df_list.append([COUNTRY,country_name, year, goal_area, new_subject])\n",
    "\n",
    "df_needs = pd.DataFrame(df_list, columns=['country_code', 'country', 'year', 'goal_area', 'need'])"
   ]
  },
  {
   "cell_type": "code",
   "execution_count": null,
   "metadata": {},
   "outputs": [],
   "source": [
    "print(df_needs.head())"
   ]
  },
  {
   "cell_type": "code",
   "execution_count": null,
   "metadata": {},
   "outputs": [],
   "source": [
    "output_path = Path(product['data'])\n",
    "output_path.parent.mkdir(parents=True, exist_ok=True)  # Create missing directories\n",
    "df_needs.to_excel(product['data'], index=False)"
   ]
  },
  {
   "cell_type": "code",
   "execution_count": 10,
   "metadata": {},
   "outputs": [],
   "source": [
    "################################################################################################################################################################################################"
   ]
  }
 ],
 "metadata": {
  "kernelspec": {
   "display_name": "unicef-cpe",
   "language": "python",
   "name": "python3"
  },
  "language_info": {
   "codemirror_mode": {
    "name": "ipython",
    "version": 3
   },
   "file_extension": ".py",
   "mimetype": "text/x-python",
   "name": "python",
   "nbconvert_exporter": "python",
   "pygments_lexer": "ipython3",
   "version": "3.10.15"
  }
 },
 "nbformat": 4,
 "nbformat_minor": 2
}
