{
 "cells": [
  {
   "cell_type": "code",
   "execution_count": null,
   "metadata": {
    "tags": [
     "parameters"
    ]
   },
   "outputs": [],
   "source": [
    "# IMPORTANT: The parameters below are set only for running this notebook independently. \n",
    "# When executing the full Ploomber pipeline, these values will be overridden by the settings in `pipeline.yaml`. \n",
    "# Any modifications made here will not persist when running the pipeline.\n",
    "upstream = None\n",
    "COUNTRY =  'ARM' # Code of the Country\n",
    "product = {'data': f'../data/processed/{COUNTRY}/unsdcf_df_priorities_by_goal_area.xlsx'}  # Path to save the final data product (stored under the 'data' key)\n",
    "data_source = 'data/corpora/unsdcf/'  # Path to the source data directory"
   ]
  },
  {
   "cell_type": "markdown",
   "metadata": {},
   "source": [
    "This Notebook uses an LLM model to analyze the United Nations sustainable development cooperation framework to summarize national priorities for all countries. These priorities are categorized into one or more goal areas."
   ]
  },
  {
   "cell_type": "code",
   "execution_count": null,
   "metadata": {},
   "outputs": [],
   "source": [
    "import re\n",
    "from pathlib import Path\n",
    "import pandas as pd\n",
    "import unicef_cpe \n",
    "from unicef_cpe.config import PROJ_ROOT"
   ]
  },
  {
   "cell_type": "code",
   "execution_count": null,
   "metadata": {},
   "outputs": [],
   "source": [
    "MODEL = 'gpt-4o'\n",
    "country_map = {k:v for k,v in unicef_cpe.utils.get_ecaro_countries_mapping(priority=False).items() if k in COUNTRY}\n",
    "country_code_map = {v:k for k,v in country_map.items() }"
   ]
  },
  {
   "cell_type": "markdown",
   "metadata": {},
   "source": [
    "### Extract Reccomendations from UNSDCF"
   ]
  },
  {
   "cell_type": "code",
   "execution_count": null,
   "metadata": {},
   "outputs": [],
   "source": [
    "data = []\n",
    "source_path =  PROJ_ROOT / Path(data_source)\n",
    "\n",
    "#for file_path in upstream_data['unsdcf'].glob('unsdcf/*.pdf'):\n",
    "for file_path in source_path.glob('*.pdf'):    \n",
    "    with open(file_path, 'r') as file:\n",
    "        country_code, *_ = file_path.name.split('-')\n",
    "        country_code = country_code.upper()\n",
    "        country = country_map.get(country_code)\n",
    "        year = re.search(r'\\d{4}-\\d{4}', file_path.name).group()\n",
    "        text = unicef_cpe.extraction.extract_text_from_file(file_path)\n",
    "        data.append((file_path.name, country_code, country, year, text))\n",
    "df_doc = pd.DataFrame(data, columns=['file_name', 'country_code','country', 'year', 'section_text'])\n",
    "df_doc.sort_values(['country_code', 'country', 'year', 'file_name'], ignore_index=True, inplace=True)\n",
    "print('Shape:', df_doc.shape)\n",
    "print(df_doc.head())\n"
   ]
  },
  {
   "cell_type": "code",
   "execution_count": 5,
   "metadata": {},
   "outputs": [],
   "source": [
    "def iterate_until_non_one_start(items):\n",
    "    found_one = False  # Flag to indicate when we start finding strings starting with \"1\"\n",
    "    result = []\n",
    "\n",
    "    for item in items:\n",
    "        # Check if the item starts with \"1\" followed by a period or space\n",
    "        if re.match(r\"^1(\\.| )\", item):\n",
    "            found_one = True  # Set the flag once we find a string starting with \"1\"\n",
    "            result.append(item)\n",
    "        # elif found_one:\n",
    "        #     # If we've started finding \"1\"-prefixed items, break on the first non-\"1\" prefix\n",
    "        #     break\n",
    "        else:\n",
    "            # Continue iterating without appending until we start with \"1\"\n",
    "            continue\n",
    "    \n",
    "    return result"
   ]
  },
  {
   "cell_type": "code",
   "execution_count": 6,
   "metadata": {},
   "outputs": [],
   "source": [
    "data = []\n",
    "\n",
    "# Iterate over each document in the original DataFrame\n",
    "for index, row in df_doc.iterrows():\n",
    "    \n",
    "    # Extract ection titles\n",
    "    section_titles = unicef_cpe.document_processing.extract_section_titles(row['section_text'], threshold=50, base_min_lines_between_titles=10, start_with_digit=True)\n",
    "\n",
    "    # Filter only Section from First Chapter. This is the relevant one\n",
    "    filtered_section_titles = iterate_until_non_one_start(section_titles)\n",
    "    \n",
    "    # Extract sections and their text based on the section titles\n",
    "    sections = unicef_cpe.document_processing.extract_sections_with_text(row['section_text'], filtered_section_titles)\n",
    "    # Add each section and its text to the new DataFrame\n",
    "    for section_title, section_text in sections:\n",
    "        # Clean the text \n",
    "        cleaned_section_text = unicef_cpe.utils.clean_text(section_text)\n",
    "        data.append({\n",
    "            'country_code': row['country_code'],\n",
    "            'country': row['country'],\n",
    "            'section_title': section_title,\n",
    "            'section_text': cleaned_section_text,\n",
    "            'year': row['year'],\n",
    "            'file_name': row['file_name'],\n",
    "        })\n",
    "\n",
    "# Create a new DataFrame from the collected data\n",
    "df_sections = pd.DataFrame(data)"
   ]
  },
  {
   "cell_type": "code",
   "execution_count": null,
   "metadata": {},
   "outputs": [],
   "source": [
    "df_list = []\n",
    "\n",
    "country_name = country_map.get(COUNTRY)\n",
    "\n",
    "\n",
    "country_mask = df_sections['country'] == country_name\n",
    "\n",
    "years = sorted(df_sections[country_mask]['year'].unique())\n",
    "\n",
    "for year in years:\n",
    "    year_mask = df_sections['year'] == year\n",
    "    \n",
    "    try:\n",
    "        df_filtered = df_sections[country_mask & year_mask].copy()\n",
    "        df_filtered['title_text_combined'] = df_filtered['section_title'] + '\\n' + df_filtered['section_text']\n",
    "\n",
    "        # Join all rows by '\\n\\n'\n",
    "        text = '\\n\\n'.join(df_filtered['title_text_combined'].tolist())\n",
    "\n",
    "    except IndexError:\n",
    "        # Skip if there's no narrative text for this combination of country and year\n",
    "        print(f\"No narrative text available for {country_name} in {year}\")\n",
    "        continue\n",
    "    print(f\"Summarizing national priorities for {country_name} in {year}\")\n",
    "    # Extract needs and categorize them by goal area\n",
    "    subjects = unicef_cpe.genai.extract_by_goal_area(text, subject = \"national priorities\", model=MODEL, api_type='openai')\n",
    "\n",
    "    subjects ='\\n'+ subjects\n",
    "    subject_list = subjects.split('\\n- **')[1:]  # Skip the first empty element after the split\n",
    "    for subject in subject_list:\n",
    "        # Split each need into goal area and its description\n",
    "        subject_description = subject.split('**:')\n",
    "        if len(subject_description)>1:\n",
    "            goal_area = subject_description[0].replace('- **','').replace('**', '').replace('\\n', '').strip()\n",
    "            new_subject = subject_description[1].replace('\\n', '').strip()\n",
    "            df_list.append([country_code, country_name, year, goal_area, new_subject])"
   ]
  },
  {
   "cell_type": "code",
   "execution_count": 8,
   "metadata": {},
   "outputs": [],
   "source": [
    "df_priorities = pd.DataFrame(df_list, columns=['country_code', 'country', 'year', 'goal_area', 'priority'])"
   ]
  },
  {
   "cell_type": "code",
   "execution_count": null,
   "metadata": {},
   "outputs": [],
   "source": [
    "print(df_priorities.head())"
   ]
  },
  {
   "cell_type": "code",
   "execution_count": null,
   "metadata": {},
   "outputs": [],
   "source": [
    "output_path = Path(product['data'])\n",
    "output_path.parent.mkdir(parents=True, exist_ok=True)  # Create missing directories\n",
    "df_priorities.to_excel(product['data'], index=False)"
   ]
  },
  {
   "cell_type": "code",
   "execution_count": 11,
   "metadata": {},
   "outputs": [],
   "source": [
    "################################################################################################################################################################################################"
   ]
  }
 ],
 "metadata": {
  "kernelspec": {
   "display_name": "unicef-cpe",
   "language": "python",
   "name": "python3"
  },
  "language_info": {
   "codemirror_mode": {
    "name": "ipython",
    "version": 3
   },
   "file_extension": ".py",
   "mimetype": "text/x-python",
   "name": "python",
   "nbconvert_exporter": "python",
   "pygments_lexer": "ipython3",
   "version": "3.10.15"
  }
 },
 "nbformat": 4,
 "nbformat_minor": 2
}
