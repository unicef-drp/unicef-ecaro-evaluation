{
 "cells": [
  {
   "cell_type": "code",
   "execution_count": null,
   "metadata": {
    "tags": [
     "parameters"
    ]
   },
   "outputs": [],
   "source": [
    "# IMPORTANT: The parameters below are set only for running this notebook independently. \n",
    "# When executing the full Ploomber pipeline, these values will be overridden by the settings in `pipeline.yaml`. \n",
    "# Any modifications made here will not persist when running the pipeline.\n",
    "\n",
    "upstream = None\n",
    "COUNTRY =  'ARM' # Code of the Country\n",
    "product = {'data': f'../data/interim/{COUNTRY}/unicef-ecaro-cpe-corpus.jsonl'}  # Path to save the final data product (stored under the 'data' key)\n",
    "data_source = 'data/corpora'  # Path to the source data directory"
   ]
  },
  {
   "cell_type": "markdown",
   "metadata": {},
   "source": [
    "This notebook extract text from COARs, CPDs, RD Letters and SitAns and writes it into a jsonl file."
   ]
  },
  {
   "cell_type": "code",
   "execution_count": null,
   "metadata": {},
   "outputs": [],
   "source": [
    "import re\n",
    "from pathlib import Path\n",
    "import importlib\n",
    "import pandas as pd\n",
    "from tqdm import tqdm\n",
    "import unicef_cpe as cpe\n",
    "from pathlib import Path\n",
    "# other settings\n",
    "from unicef_cpe.config import PROJ_ROOT"
   ]
  },
  {
   "cell_type": "code",
   "execution_count": null,
   "metadata": {},
   "outputs": [],
   "source": [
    "source_path = PROJ_ROOT / Path(data_source)\n",
    "\n",
    "# extract text from documents\n",
    "records = []\n",
    "\n",
    "pdfs = sorted(source_path.glob(f'**/{COUNTRY.lower()}*pdf'))\n",
    "docx = sorted(source_path.glob(f'**/{COUNTRY.lower()}*docx'))\n",
    "for file_path in tqdm(pdfs + docx):\n",
    "    record = {\n",
    "        'country': COUNTRY,\n",
    "        'file_name': file_path.name,\n",
    "        'file_type': file_path.parent.name,\n",
    "        'year': int(re.search(r'\\d+', file_path.name).group()),\n",
    "        'text': cpe.extraction.extract_text_from_file(file_path),\n",
    "    }\n",
    "    if not record['text'].strip():\n",
    "        print(f'{file_path} is empty.')\n",
    "        continue\n",
    "    records.append(record)\n",
    "\n",
    "df_corpus = pd.DataFrame(records)\n",
    "print('Shape:', df_corpus.shape)\n",
    "print(df_corpus.head())"
   ]
  },
  {
   "cell_type": "code",
   "execution_count": null,
   "metadata": {},
   "outputs": [],
   "source": [
    "df_corpus['text'].str.len().describe().round(1)"
   ]
  },
  {
   "cell_type": "code",
   "execution_count": null,
   "metadata": {},
   "outputs": [],
   "source": [
    "output_path = Path(product['data'])\n",
    "output_path.parent.mkdir(parents=True, exist_ok=True)  # Create missing directories\n",
    "\n",
    "df_corpus.to_json(product['data'], orient='records', lines=True)"
   ]
  },
  {
   "cell_type": "code",
   "execution_count": null,
   "metadata": {},
   "outputs": [],
   "source": [
    "######################################################################################################################################################################################################"
   ]
  }
 ],
 "metadata": {
  "kernelspec": {
   "display_name": "unicef-ecaro-cpe",
   "language": "python",
   "name": "python3"
  },
  "language_info": {
   "codemirror_mode": {
    "name": "ipython",
    "version": 3
   },
   "file_extension": ".py",
   "mimetype": "text/x-python",
   "name": "python",
   "nbconvert_exporter": "python",
   "pygments_lexer": "ipython3",
   "version": "3.10.16"
  }
 },
 "nbformat": 4,
 "nbformat_minor": 4
}
