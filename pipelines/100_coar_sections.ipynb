{
 "cells": [
  {
   "cell_type": "code",
   "execution_count": null,
   "metadata": {
    "tags": [
     "parameters"
    ]
   },
   "outputs": [],
   "source": [
    "upstream = None\n",
    "COUNTRY =  'ARM' # Code of the Country\n",
    "product = {'data': f'../data/processed/{COUNTRY}/COAR_Sections.xlsx'}  # Path to save the final data product (stored under the 'data' key)\n",
    "data_source = 'data/raw/insight-ram-summary-narrative-analysis'  # Path to the source data directory"
   ]
  },
  {
   "cell_type": "markdown",
   "metadata": {},
   "source": [
    "This Notebook performs COAR Mining and produces a spreadsheet for further analysis (copy of **COAR Mining** in 01_main):\n",
    "\n",
    "- Mine innovations from COAR 'Lessons Learned and Innovations' sections using GenAI.\n",
    "- Mine collaborations and partnerships from COAR 'UN Collaboration and Other Partnerships' sections.\n",
    "- COARs come from RAM Summary Narratives."
   ]
  },
  {
   "cell_type": "code",
   "execution_count": null,
   "metadata": {},
   "outputs": [],
   "source": [
    "import re\n",
    "from pathlib import Path\n",
    "import pandas as pd\n",
    "import unicef_cpe as cpe\n",
    "from pathlib import Path\n",
    "from unicef_cpe.config import PROJ_ROOT\n",
    "from unicef_cpe import utils"
   ]
  },
  {
   "cell_type": "markdown",
   "metadata": {},
   "source": [
    "**Preparing Narratives**"
   ]
  },
  {
   "cell_type": "code",
   "execution_count": null,
   "metadata": {},
   "outputs": [],
   "source": [
    "country_map = {k:v for k,v in utils.get_ecaro_countries_mapping(priority=False).items() if k in COUNTRY}"
   ]
  },
  {
   "cell_type": "code",
   "execution_count": null,
   "metadata": {},
   "outputs": [],
   "source": [
    "df_list = []\n",
    "\n",
    "source_path = PROJ_ROOT / Path(data_source)\n",
    "#for file_path in sorted(RAW_DATA_DIR.joinpath('insight-ram-summary-narrative-analysis').glob('*.csv')):\n",
    "for file_path in sorted(source_path.glob('*.csv')):\n",
    "    match = re.search(r'\\d{4}', file_path.name)\n",
    "    if not match:\n",
    "        print(f'Could not find a match in {file_path.name}. Skipping...')\n",
    "        continue\n",
    "    df_coars = pd.read_csv(file_path)\n",
    "    df_coars['year'] = int(match.group())\n",
    "    country_name = country_map.get(COUNTRY)\n",
    "\n",
    "    country_mask = df_coars['BUSINESS_AREA_NAME'].eq(country_name)\n",
    "    df_coars = df_coars[country_mask]\n",
    "\n",
    "    df_list.append(df_coars)\n",
    "\n",
    "df_coars = pd.concat(df_list, axis=0, ignore_index=True)\n",
    "print('Shape:', df_coars.shape)\n",
    "print(df_coars.head())"
   ]
  },
  {
   "cell_type": "code",
   "execution_count": null,
   "metadata": {},
   "outputs": [],
   "source": [
    "to_rename = {\n",
    "    'BUSINESS_AREA_NAME': 'country',\n",
    "    'year': 'year',\n",
    "    'NarrativeTitle': 'section',\n",
    "    'NarrativeText': 'text',\n",
    "}\n",
    "to_replace = cpe.utils.get_ecaro_countries_mapping(keys='name', values='iso')\n",
    "to_replace['Moldova'] = to_replace['Republic of Moldova']\n",
    "to_replace['Republic of Kyrgyzstan'] = to_replace['Kyrgyzstan']\n",
    "to_replace['Republic of Montenegro'] = to_replace['Montenegro']\n",
    "to_replace['Rep of Uzbekistan'] = to_replace['Uzbekistan']\n",
    "to_replace['ECARO, Switzerland'] = 'ECARO'"
   ]
  },
  {
   "cell_type": "code",
   "execution_count": null,
   "metadata": {},
   "outputs": [],
   "source": [
    "print('Shape before:', df_coars.shape)\n",
    "\n",
    "df_coars = df_coars.rename(to_rename, axis=1).reindex(to_rename.values(), axis=1)\n",
    "df_coars.dropna(subset='text', inplace=True)\n",
    "df_coars['text'] = df_coars['text'].str.strip()\n",
    "mask = df_coars['text'].str.len().ge(10)\n",
    "df_coars = df_coars.loc[mask].reset_index(drop=True)  # remove empty or short texts\n",
    "df_coars['country'] = df_coars['country'].replace(to_replace)\n",
    "df_coars.sort_values(['country', 'year'], ignore_index=True, inplace=True)\n",
    "\n",
    "difference = set(df_coars['country']) - set(to_replace.values())\n",
    "assert not difference, f'Add missing replacements for the following items: {difference}.'\n",
    "print('Shape after:', df_coars.shape)\n",
    "print(df_coars.head())"
   ]
  },
  {
   "cell_type": "code",
   "execution_count": null,
   "metadata": {},
   "outputs": [],
   "source": [
    "print('Shape before:', df_coars.shape)\n",
    "\n",
    "mask = df_coars['country'].eq('ECARO')\n",
    "df_roars = df_coars.loc[mask].reset_index(drop=True)  # copy ECARO\n",
    "df_coars = df_coars.loc[~mask].copy()  # remove ECARO\n",
    "\n",
    "print('Shape after:', df_coars.shape)\n",
    "print(df_coars.head())"
   ]
  },
  {
   "cell_type": "code",
   "execution_count": null,
   "metadata": {},
   "outputs": [],
   "source": [
    "df_coars['section'].value_counts()"
   ]
  },
  {
   "cell_type": "code",
   "execution_count": null,
   "metadata": {},
   "outputs": [],
   "source": [
    "output_path = Path(product['data'])\n",
    "output_path.parent.mkdir(parents=True, exist_ok=True)  # Create missing directories\n",
    "df_coars.to_excel(product['data'], index=False)"
   ]
  }
 ],
 "metadata": {
  "kernelspec": {
   "display_name": "unicef-cpe",
   "language": "python",
   "name": "python3"
  },
  "language_info": {
   "codemirror_mode": {
    "name": "ipython",
    "version": 3
   },
   "file_extension": ".py",
   "mimetype": "text/x-python",
   "name": "python",
   "nbconvert_exporter": "python",
   "pygments_lexer": "ipython3",
   "version": "3.10.15"
  }
 },
 "nbformat": 4,
 "nbformat_minor": 4
}
