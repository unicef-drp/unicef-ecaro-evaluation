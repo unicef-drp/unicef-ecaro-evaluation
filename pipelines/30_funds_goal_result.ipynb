{
 "cells": [
  {
   "cell_type": "code",
   "execution_count": null,
   "metadata": {
    "tags": [
     "parameters"
    ]
   },
   "outputs": [],
   "source": [
    "# IMPORTANT: The parameters below are set only for running this notebook independently. \n",
    "# When executing the full Ploomber pipeline, these values will be overridden by the settings in `pipeline.yaml`. \n",
    "# Any modifications made here will not persist when running the pipeline.\n",
    "upstream = None\n",
    "COUNTRY =  'ARM' # Code of the Country\n",
    "product = {'data': f'../data/processed/{COUNTRY}/funds_goal_result_view.xlsx'}  # Path to save the final data product (stored under the 'data' key)\n",
    "data_source = 'data/raw/insight-funds-utilization-by-goal-and-result-area'  # Path to the source data directory"
   ]
  },
  {
   "cell_type": "markdown",
   "metadata": {},
   "source": [
    "This Notebook summarizes funds utilization by goal area and results area."
   ]
  },
  {
   "cell_type": "code",
   "execution_count": null,
   "metadata": {},
   "outputs": [],
   "source": [
    "import re\n",
    "import pandas as pd\n",
    "from pathlib import Path\n",
    "from unicef_cpe.config import PROJ_ROOT\n",
    "\n",
    "from unicef_cpe.utils import *"
   ]
  },
  {
   "cell_type": "code",
   "execution_count": null,
   "metadata": {},
   "outputs": [],
   "source": [
    "country_map = {k:v for k,v in get_ecaro_countries_mapping(priority=False).items() if k in COUNTRY}\n",
    "country_code_map = {v:k for k,v in country_map.items() }"
   ]
  },
  {
   "cell_type": "code",
   "execution_count": 3,
   "metadata": {},
   "outputs": [],
   "source": [
    "def prepare_df_from_funds_utilization_xlsx(df_funds, columns):\n",
    "    # Step 1: Find the index of the row that contains \"Row Labels\"\n",
    "    row_labels_index = df_funds[df_funds['Year'] == 'Row Labels'].index[0]\n",
    "\n",
    "    # Step 2: Slice the DataFrame to remove all rows before \"Row Labels\"\n",
    "    df_funds = df_funds.loc[row_labels_index+1:]\n",
    "\n",
    "    # Reset the index after slicing (optional, to clean up the DataFrame index)\n",
    "    df_funds.reset_index(drop=True, inplace=True)\n",
    "\n",
    "    # Step 3: Rename the columns\n",
    "    df_funds.columns = columns\n",
    "    return df_funds.copy()"
   ]
  },
  {
   "cell_type": "code",
   "execution_count": 4,
   "metadata": {},
   "outputs": [],
   "source": [
    "# Parsing function to extract and categorize details\n",
    "def extract_details(row):\n",
    "    text_line = row['Row Labels']\n",
    "    # Matching patterns\n",
    "    if re.match(r\"^[A-Za-z\\s]+ - \\d+$\", text_line):\n",
    "        # Extract country name and code\n",
    "        business_area = text_line.split()[0].strip()\n",
    "        business_area_code = ' '.join(text_line.split()[2:]).strip()\n",
    "        return business_area, business_area_code, None, None, None, None\n",
    "    elif re.match(r\"^\\d{2} [A-Za-z\\s]+$\", text_line):\n",
    "        # Extract goal area code and description\n",
    "        goal_area_code = text_line.split()[0]\n",
    "        goal_area = ' '.join(text_line.split()[1:])\n",
    "        return None, None, goal_area, goal_area_code, None, None\n",
    "    elif re.match(r\"^\\d{2}-\\d{2}\", text_line):\n",
    "        # Extract result area code and description\n",
    "        parts = text_line.split()\n",
    "        result_area_code = parts[0]\n",
    "        result_area = ' '.join(parts[1:])\n",
    "        return None, None, None, None, result_area, result_area_code\n",
    "    else:\n",
    "        return None, None, None, None, None, None"
   ]
  },
  {
   "cell_type": "code",
   "execution_count": 5,
   "metadata": {},
   "outputs": [],
   "source": [
    "def normalize_dataframe(df_funds):\n",
    "    # Apply the function to each row and expand the DataFrame\n",
    "    df_funds[['Business Area', 'Business Area Code', 'Goal Area', 'Goal Area Code', 'Result Area', 'Result Area Code']] = df_funds.apply(extract_details, axis=1, result_type='expand')\n",
    "\n",
    "    # Forward fill to fill the country and goal area for the subsequent rows\n",
    "    df_funds['Business Area'] = df_funds['Business Area'].ffill()\n",
    "    df_funds['Business Area Code'] = df_funds['Business Area Code'].ffill()\n",
    "    df_funds['Goal Area'] = df_funds['Goal Area'].ffill()\n",
    "    df_funds['Goal Area Code'] = df_funds['Goal Area Code'].ffill()\n",
    "\n",
    "    # Filter out rows where both Goal Area and Result Area are None\n",
    "    df_funds = df_funds.dropna(subset=['Goal Area Code', 'Result Area Code'], how='any').copy()\n",
    "    # Clean the DataFrame - Drop duplicates if needed and fill NaNs appropriately\n",
    "    df_funds.drop_duplicates(inplace=True)\n",
    "\n",
    "    return df_funds.copy()"
   ]
  },
  {
   "cell_type": "code",
   "execution_count": null,
   "metadata": {},
   "outputs": [],
   "source": [
    "df_list = []\n",
    "file_paths = PROJ_ROOT / data_source\n",
    "for file_path in sorted(Path(file_paths).glob('*.xlsx')):\n",
    "    year = file_path.name.split('_')[1]\n",
    "    if not year:\n",
    "        print(f'Could not find a match in {file_path.name}. Skipping...')\n",
    "        continue\n",
    "    df_funds = pd.read_excel(file_path)\n",
    "\n",
    "    columns = ['Row Labels', 'Allocation', 'Utilized']\n",
    "    df_funds = prepare_df_from_funds_utilization_xlsx(df_funds, columns)\n",
    "\n",
    "    df_funds = normalize_dataframe(df_funds)\n",
    "    df_funds['year'] = int(year)\n",
    "    df_list.append(df_funds)\n",
    "\n",
    "df_funds = pd.concat(df_list, axis=0, ignore_index=True)\n",
    "print('Shape:', df_funds.shape)"
   ]
  },
  {
   "cell_type": "code",
   "execution_count": null,
   "metadata": {},
   "outputs": [],
   "source": [
    "df_funds['country'] = df_funds['Business Area'].replace('Bosnia', 'Bosnia and Herzegovina') \n",
    "df_funds['country'] = df_funds['Business Area'].replace('Macedonia', 'North Macedonia')\n",
    "\n",
    "df_funds['country_code'] = df_funds['country'].replace(country_map)"
   ]
  },
  {
   "cell_type": "code",
   "execution_count": 8,
   "metadata": {},
   "outputs": [],
   "source": [
    "total_utilized_by_goal = df_funds.groupby('Goal Area')['Utilized'].sum().sort_values(ascending=False)\n",
    "sorted_goal_areas = total_utilized_by_goal.index.tolist()\n",
    "\n",
    "df_funds['Goal Area'] = pd.Categorical(df_funds['Goal Area'], categories=sorted_goal_areas, ordered=True)"
   ]
  },
  {
   "cell_type": "code",
   "execution_count": null,
   "metadata": {},
   "outputs": [],
   "source": [
    "\n",
    "output_path = Path(product['data'])\n",
    "output_path.parent.mkdir(parents=True, exist_ok=True)  # Create missing directories\n",
    "df_funds.to_excel(product['data'], index=False)"
   ]
  },
  {
   "cell_type": "code",
   "execution_count": 10,
   "metadata": {},
   "outputs": [],
   "source": [
    "################################################################################################################################################################################################"
   ]
  }
 ],
 "metadata": {
  "kernelspec": {
   "display_name": "rowsquared",
   "language": "python",
   "name": "python3"
  },
  "language_info": {
   "codemirror_mode": {
    "name": "ipython",
    "version": 3
   },
   "file_extension": ".py",
   "mimetype": "text/x-python",
   "name": "python",
   "nbconvert_exporter": "python",
   "pygments_lexer": "ipython3",
   "version": "3.12.4"
  }
 },
 "nbformat": 4,
 "nbformat_minor": 2
}
