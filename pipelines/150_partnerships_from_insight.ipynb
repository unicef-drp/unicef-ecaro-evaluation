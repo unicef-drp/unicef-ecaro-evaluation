{
 "cells": [
  {
   "cell_type": "code",
   "execution_count": null,
   "metadata": {
    "tags": [
     "parameters"
    ]
   },
   "outputs": [],
   "source": [
    "upstream = None\n",
    "product = None\n",
    "data_source = None\n",
    "COUNTRY = 'ARM'"
   ]
  },
  {
   "cell_type": "code",
   "execution_count": null,
   "metadata": {},
   "outputs": [],
   "source": [
    "import os \n",
    "import re\n",
    "from pathlib import Path\n",
    "import pandas as pd\n",
    "\n",
    "\n",
    "import importlib\n",
    "from typing import List, Dict\n",
    "\n",
    "\n",
    "from unicef_cpe.config import PROJ_ROOT\n",
    "from unicef_cpe.extraction import extract_text_from_file\n",
    "from unicef_cpe.utils import *\n",
    "from unicef_cpe.genai import *\n",
    "\n",
    "import unicef_cpe.processing as cpe_processing\n"
   ]
  },
  {
   "cell_type": "code",
   "execution_count": null,
   "metadata": {},
   "outputs": [],
   "source": [
    "country_map = {k:v for k,v in get_ecaro_countries_mapping(priority=False).items() if k in COUNTRY}\n",
    "country_code_map = {v:k for k,v in country_map.items() }\n",
    "MODEL = 'gpt-4o'"
   ]
  },
  {
   "cell_type": "code",
   "execution_count": null,
   "metadata": {},
   "outputs": [],
   "source": [
    "def clean_raw_file(df: pd.DataFrame):\n",
    "    tmp_df = df.copy()\n",
    "\n",
    "    df = tmp_df\n",
    "\n",
    "    country = re.search(r'Business Area:\\s+([\\w\\s]+)\\s+-\\s+\\w+', df.iloc[9, 0]).group(1)\n",
    "    \n",
    "    country = next(k for k, v in COUNTRIES.items() if v == country)\n",
    "    \n",
    "    # drop first rows \n",
    "    df = df.iloc[15:]\n",
    "\n",
    "    # remove rows where third column equals 'total'\n",
    "    df = df[~(df.iloc[:, 2] == 'Total')]\n",
    "    \n",
    "    # remove rows where first column ends with 'total'\n",
    "    df = df[~df.iloc[:, 0].fillna('').str.endswith('Total')]\n",
    "\n",
    "    # remove rows where 7th column ends with 'total'\n",
    "    df = df[~df.iloc[:, 6].fillna('').str.endswith('Total')]\n",
    "\n",
    "    # drop some columns invisible in excel\n",
    "    df = df.drop(df.columns[[10, 16]], axis=1)\n",
    "\n",
    "    #columns1 = df.iloc[12]\n",
    "    #columns2 = df.iloc[13]\n",
    "    #columns = [f\"{col1} {col2}\" for col1, col2 in zip(columns1, columns2)]  # merged column issue, cannot use \n",
    "    columns = ['Implementing Partner','eTools Ref Number','FR Number','FR Start Date','FR End Date','Itm','FR Item Description','FR Amount','FR Due Date','Outcome/Output','Grant','Commitment Type','Commitment Reference','Commitment Description','Commitment Amount','Transfers to IP']\n",
    "    df.columns = columns\n",
    "\n",
    "    # make a new column where first column is not null and the other are\n",
    "    mask = df.iloc[:, 1:].isna().all(axis=1)\n",
    "    df['Collaboration type'] = df.iloc[:,0].where(mask, None).ffill()\n",
    "    df = df[~mask]\n",
    "    df['Country'] = country\n",
    "\n",
    "    df.columns = [col.lower().replace(' ', '_') for col in df.columns]\n",
    "\n",
    "    # group by implementing partner and fr number and forward fill for each group column etools ref number\n",
    "    df.iloc[:, [0, 2,3,4]] = df.iloc[:, [0, 2,3,4]].ffill()\n",
    "    df[['etools_ref_number', 'itm', 'fr_item_description', 'fr_due_date', ]] =  df.groupby(['implementing_partner', 'fr_number'])[['etools_ref_number', 'itm', 'fr_item_description', 'fr_due_date', ]].ffill()\n",
    "\n",
    "    # convert to date from dd.mm.yyyy\n",
    "    df['fr_start_date'] = pd.to_datetime(df['fr_start_date'], format='%d.%m.%Y', errors='coerce')\n",
    "    df['fr_end_date'] = pd.to_datetime(df['fr_end_date'], format='%d.%m.%Y', errors='coerce')\n",
    "    df['fr_due_date'] = pd.to_datetime(df['fr_due_date'], format='%d.%m.%Y', errors='coerce')\n",
    "    df['month'] = df['fr_start_date'].dt.to_period('M').dt.to_timestamp(how='s')\n",
    "    df['year'] = df['fr_start_date'].dt.to_period('Y').dt.to_timestamp(how='s')\n",
    "\n",
    "    # anything outside 2013 and 2024 is an error\n",
    "    df = df[(df['year'] >= '2013-01-01') & (df['year'] <= '2025-01-01')]\n",
    "\n",
    "    df['transfers_to_ip'] = df['transfers_to_ip'].astype(float)\n",
    "\n",
    "    return df \n"
   ]
  },
  {
   "cell_type": "code",
   "execution_count": null,
   "metadata": {},
   "outputs": [],
   "source": [
    "dfs = []\n",
    "data_path = PROJ_ROOT / data_source[0]\n",
    "\n",
    "excels = sorted(Path(data_path).glob('*.xlsx'))\n",
    "for excel in excels:\n",
    "    df = pd.read_excel(excel)\n",
    "    df = clean_raw_file(df)\n",
    "    dfs.append(df)\n",
    "\n",
    "df = pd.concat(dfs, ignore_index=True)"
   ]
  },
  {
   "cell_type": "code",
   "execution_count": null,
   "metadata": {},
   "outputs": [],
   "source": [
    "df.head()"
   ]
  },
  {
   "cell_type": "code",
   "execution_count": null,
   "metadata": {},
   "outputs": [],
   "source": [
    "from unicef_cpe.processing import get_programme_structure\n",
    "\n",
    "# Get the programme structure dataframe\n",
    "programme_structure_df = get_programme_structure()\n",
    "\n",
    "# Display the dataframe\n",
    "programme_structure_df.columns"
   ]
  },
  {
   "cell_type": "code",
   "execution_count": null,
   "metadata": {},
   "outputs": [],
   "source": [
    "\n",
    "data_path_funds_info = PROJ_ROOT / data_source[1]\n",
    "data_path_partner_fr_activity_rel = PROJ_ROOT / data_source[2]\n",
    "data_path_partner_by_country = PROJ_ROOT / data_source[3]\n",
    "\n",
    "\n",
    "def drop_first_rows(df: pd.DataFrame, *args) -> pd.DataFrame:\n",
    "    df = df.iloc[5:]\n",
    "    columns = df.iloc[0]\n",
    "    df = df.iloc[1:]\n",
    "    df.columns = columns\n",
    "    print(df.columns)\n",
    "    return df\n",
    "\n",
    "def drop_totals_rows(df: pd.DataFrame, *args) -> pd.DataFrame:\n",
    "    return df[~df.iloc[:, 0].fillna('').str.endswith('Total')]\n",
    "\n",
    "def forward_fill(df: pd.DataFrame, columns: List, *args) -> pd.DataFrame:\n",
    "    df.loc[:, columns] = df.loc[:, columns].ffill()\n",
    "    return df\n",
    "\n",
    "preprocessing_funcs = [\n",
    "    drop_first_rows\n",
    "    , drop_totals_rows\n",
    "    , forward_fill\n",
    "]\n",
    "\n",
    "df_funds_info = pd.read_excel(data_path_funds_info, sheet_name='by BA, Partner & FR')\n",
    "df_activity_rel = pd.read_excel(data_path_partner_fr_activity_rel, sheet_name='by BA, Partner & FR')\n",
    "df_partner_country = pd.read_excel(data_path_partner_by_country, sheet_name='by BA, Partner & FR')\n",
    "\n",
    "for func in preprocessing_funcs:\n",
    "    df_funds_info = func(df_funds_info, df_funds_info.columns)\n",
    "    df_activity_rel = func(df_activity_rel, df_activity_rel.columns)\n",
    "    df_partner_country = func(df_partner_country, df_partner_country.columns)\n",
    "\n",
    "df_funds_info = df_funds_info[~df_funds_info['FR Document Number'].isna()]\n",
    "\n",
    "df_extra_info = df_funds_info.copy()\n",
    "df_extra_info = df_extra_info.merge(df_activity_rel, left_on='FR Document Number', right_on=['FR Document Number'])\n",
    "df_extra_info = df_extra_info.merge(df_partner_country, left_on=['Vendor Code', 'Vendor Name'], right_on=['Vendor Code', 'Vendor Name'])\n"
   ]
  },
  {
   "cell_type": "code",
   "execution_count": null,
   "metadata": {},
   "outputs": [],
   "source": [
    "# filter partners by country \n",
    "df_extra_info['country_code'] = df_extra_info['Implementing Business Area'].apply(lambda x: x[:3].upper())  # todo very unsafe but ok as quick \n",
    "df_extra_info = df_extra_info[df_extra_info['country_code'].isin(COUNTRIES.keys())]\n",
    "\n",
    "# add vendor code\n",
    "print(df.shape)\n",
    "tmp_df = df.merge(df_extra_info[['Vendor Code', 'Vendor Name', 'FR Document Number']].drop_duplicates(), how='left', left_on=['implementing_partner', 'fr_number'], right_on=['Vendor Name', 'FR Document Number'], suffixes=('', '_partner'))\n",
    "print(tmp_df.shape)\n",
    "\n",
    "partner_map = tmp_df.groupby(['implementing_partner', 'country'])['Vendor Code'].first(skipna=True).to_dict()\n",
    "tmp_df['vendor_code'] = tmp_df.set_index(['implementing_partner', 'country']).index.map(partner_map)\n",
    "\n",
    "tmp_df.drop(['Vendor Code', 'Vendor Name', 'FR Document Number'], axis=1, inplace=True)\n",
    "\n",
    "# join activities to partners \n",
    "print(tmp_df.shape)\n",
    "tmp_df = tmp_df.merge(df_extra_info[['Vendor Code', 'FR Document Number', 'WBS Level4 - Activity']].drop_duplicates(), left_on=['vendor_code', 'fr_number'], right_on=['Vendor Code', 'FR Document Number'], how='left', suffixes=('', '_rel'))\n",
    "print(tmp_df.shape)\n",
    "\n",
    "# join donor \n",
    "print(tmp_df.shape)\n",
    "tmp_df = tmp_df.merge(df_extra_info[['Grant', 'Donor Name']].drop_duplicates(), left_on='grant', right_on='Grant', how='left', suffixes=('', '_donor'))\n",
    "print(tmp_df.shape)\n",
    "\n",
    "# join activity description \n",
    "tmp_df['activity_code'] = tmp_df['WBS Level4 - Activity'].str.split(' ').str[0]\n",
    "print(tmp_df.shape)\n",
    "tmp_df = tmp_df.merge(programme_structure_df[['activity_code', 'activity_description']].drop_duplicates(), how='left', left_on='activity_code', right_on='activity_code')\n",
    "print(tmp_df.shape)\n",
    "# join donors\n",
    "#df_activity_rel[['Vendor Code', 'Vendor Name', 'FR Document Number']].groupby('FR Document Number').nunique()"
   ]
  },
  {
   "cell_type": "code",
   "execution_count": null,
   "metadata": {},
   "outputs": [],
   "source": [
    "code_mapping_df = programme_structure_df[['outcome_code', 'outcome_name', 'output_code', 'output_name', 'output_description', 'activity_code', 'activity_name', 'activity_description', 'goal_area_code', 'goal_area', 'strategy_name']].drop_duplicates()\n",
    "code_mapping_dict = code_mapping_df.set_index('activity_code').to_dict()\n",
    "tmp_df['outcome_name'] = tmp_df['activity_code'].map(code_mapping_dict['outcome_name'])\n",
    "tmp_df['output_name'] = tmp_df['activity_code'].map(code_mapping_dict['output_name'])\n",
    "tmp_df['output_description'] = tmp_df['activity_code'].map(code_mapping_dict['output_description'])\n",
    "tmp_df['goal_area_code'] = tmp_df['activity_code'].map(code_mapping_dict['goal_area_code'])\n",
    "tmp_df['goal_area'] = tmp_df['activity_code'].map(code_mapping_dict['goal_area'])\n",
    "tmp_df['strategy_name'] = tmp_df['activity_code'].map(code_mapping_dict['strategy_name'])"
   ]
  },
  {
   "cell_type": "code",
   "execution_count": null,
   "metadata": {},
   "outputs": [],
   "source": [
    "#goals_path = OUTPUT_DATA_DIR.joinpath('cp_funds_and_SDG.xlsx')\n",
    "\n",
    "goals_path  = PROJ_ROOT / data_source[4]\n",
    "\n",
    "goals_df = pd.read_excel(goals_path)"
   ]
  },
  {
   "cell_type": "code",
   "execution_count": null,
   "metadata": {},
   "outputs": [],
   "source": [
    "sdg_activity_map = goals_df.groupby(['activity_wbs'])['goal_area'].first().to_dict()\n",
    "\n",
    "tmp_df['sdg'] = tmp_df['activity_code'].map(sdg_activity_map)"
   ]
  },
  {
   "cell_type": "code",
   "execution_count": null,
   "metadata": {},
   "outputs": [],
   "source": [
    "# locations = pd.read_excel(RAW_DATA_DIR / 'pbi_programme_data_explorer_subnational [wbs_activity_location]' / 'activity_location.xlsx')\n",
    "locations_path = PROJ_ROOT / data_source[5]\n",
    "locations = pd.read_excel(locations_path)\n",
    "locations.columns = locations.loc[1]\n",
    "locations = locations.loc[2:]"
   ]
  },
  {
   "cell_type": "code",
   "execution_count": null,
   "metadata": {},
   "outputs": [],
   "source": [
    "\n",
    "locations = locations.groupby(['Subnational[Outcome/Output WBS Element]']).agg({\n",
    "    'Subnational[Location]': lambda x:  ';'.join(x.unique())\n",
    "})\n",
    "location_map = locations['Subnational[Location]'].to_dict()\n",
    "# "
   ]
  },
  {
   "cell_type": "code",
   "execution_count": null,
   "metadata": {},
   "outputs": [],
   "source": [
    "tmp_df['outcome/output_no_slash'] = tmp_df['outcome/output'].str.replace('/', '') + '000'\n",
    "tmp_df['locations'] = tmp_df['outcome/output_no_slash'].map(location_map)"
   ]
  },
  {
   "cell_type": "code",
   "execution_count": null,
   "metadata": {},
   "outputs": [],
   "source": [
    "# write_sheet_to_excel(tmp_df, product['data2'])\n",
    "tmp_df.to_excel(product['data2'], index=False)"
   ]
  },
  {
   "cell_type": "code",
   "execution_count": null,
   "metadata": {},
   "outputs": [],
   "source": [
    "df_partner_list = df[['country', 'year', 'implementing_partner']].drop_duplicates().sort_values(['country', 'year', 'implementing_partner'])\n",
    "df_partner_list.head()"
   ]
  },
  {
   "cell_type": "markdown",
   "metadata": {},
   "source": [
    "### Plot unique partners by country"
   ]
  },
  {
   "cell_type": "code",
   "execution_count": null,
   "metadata": {},
   "outputs": [],
   "source": [
    "df_to_plot = df.groupby(['country', 'year'])['implementing_partner'].nunique().reset_index()\n",
    "df_partner_count_by_country_year = df_to_plot.copy()"
   ]
  },
  {
   "cell_type": "markdown",
   "metadata": {},
   "source": [
    "### Plot new partners to previous years"
   ]
  },
  {
   "cell_type": "code",
   "execution_count": null,
   "metadata": {},
   "outputs": [],
   "source": [
    "df_to_plot = df.copy()\n",
    "df_to_plot = df_to_plot[['country', 'year', 'implementing_partner']].drop_duplicates().sort_values(['year', 'implementing_partner'], ascending=[True, True])\n",
    "df_to_plot['existing'] = None \n",
    "# inefficient but works \n",
    "for idx, row in df_to_plot.iterrows():\n",
    "    if idx == 0:\n",
    "        df_to_plot.loc[idx, 'existing'] = 'New partner'\n",
    "    else:\n",
    "        if df_to_plot[(df_to_plot['year'].dt.year <= row['year'].year - 1) & (df_to_plot['implementing_partner'] == row[\"implementing_partner\"])].shape[0] > 0:\n",
    "            df_to_plot.loc[idx, 'existing'] = 'Existing partner'\n",
    "        else:\n",
    "            df_to_plot.loc[idx, 'existing'] = \"New partner\"\n",
    "        \n",
    "df_partner_list = df_partner_list.merge(df_to_plot, on=['country', 'year', 'implementing_partner'])\n",
    "\n",
    "df_to_plot = df_to_plot.groupby(['country', 'year', 'existing']).size().unstack().reset_index().query('year >= \"2014-01-01\"')\n",
    "partner_count_new_to_past = df_to_plot.copy()\n",
    "df_to_plot.head()"
   ]
  },
  {
   "cell_type": "markdown",
   "metadata": {},
   "source": [
    "### Plot are chart with partners split in groups of < 100000 year < 1M per year and above >M"
   ]
  },
  {
   "cell_type": "code",
   "execution_count": null,
   "metadata": {},
   "outputs": [],
   "source": [
    "df.groupby(['implementing_partner', 'year']).agg(\n",
    "        {'transfers_to_ip': 'sum'}\n",
    "    ).reset_index().describe()"
   ]
  },
  {
   "cell_type": "code",
   "execution_count": null,
   "metadata": {},
   "outputs": [],
   "source": [
    "df_partner_list"
   ]
  },
  {
   "cell_type": "code",
   "execution_count": null,
   "metadata": {},
   "outputs": [],
   "source": [
    "# Define the bins and labels\n",
    "bins = [-float('inf'), 1e5, 1e6, float('inf')]\n",
    "labels = ['Below 100K', '100K to 1M', 'Above 1M']\n",
    "\n",
    "df_to_plot = df.copy()\n",
    "\n",
    "df_partner_year_transfers = df_to_plot.groupby(['country', 'implementing_partner', 'year']).agg(\n",
    "        {'fr_amount': 'sum'}\n",
    "    ).reset_index()\n",
    "\n",
    "# Bin the 'transfers_to_ip' column\n",
    "df_partner_year_transfers['partner_rating_binned'] = pd.cut(df_partner_year_transfers['fr_amount'], bins=bins, labels=labels)\n",
    "\n",
    "# Create a dictionary for mapping\n",
    "rating_dict = df_partner_year_transfers.set_index(['country', 'implementing_partner', 'year'])['partner_rating_binned'].to_dict()\n",
    "\n",
    "# Map the binned ratings back to the original dataframe\n",
    "df_to_plot['partner_rating_binned'] = df_to_plot.set_index(['country', 'implementing_partner', 'year']).index.map(rating_dict)\n",
    "df_partner_list['partner_rating_binned'] = df_partner_list.set_index(['country', 'implementing_partner', 'year']).index.map(rating_dict)\n",
    "\n",
    "df_to_plot = df_to_plot.groupby(['country', 'year', 'partner_rating_binned']).agg(\n",
    "    {'fr_amount': 'sum',\n",
    "     'implementing_partner': 'nunique'},\n",
    "    ).reset_index()\n",
    "\n",
    "df_partner_fr_consumed_by_year = df_to_plot.copy()\n",
    "\n",
    "df_to_plot.head()\n"
   ]
  },
  {
   "cell_type": "markdown",
   "metadata": {},
   "source": [
    "### Agreement duration plot (not used)"
   ]
  },
  {
   "cell_type": "code",
   "execution_count": null,
   "metadata": {},
   "outputs": [],
   "source": [
    "freq = 'QS'\n",
    "# Define the bins and labels. bins are periods of length freq of min and max df month\n",
    "bins = pd.date_range(start=df['month'].min(), end=df['month'].max(), freq=freq)\n",
    "labels = [f'{start.year} - Q{start.quarter}' for start, end in zip(bins, bins[1:])]\n",
    "\n",
    "pd.cut(df['month'], bins=bins, labels=labels)\n",
    "\n",
    "for country in df['country'].unique():\n",
    "    df_country = df[df['country'] == country].copy()\n",
    "\n",
    "    df_country['bins'] = pd.cut(df_country['month'], bins=bins, labels=labels)\n",
    "\n",
    "    df_country = df_country.groupby(['bins']).agg(\n",
    "        {'implementing_partner': set}\n",
    "    )\n",
    "\n",
    "    \n",
    "df_country.head()\n"
   ]
  },
  {
   "cell_type": "markdown",
   "metadata": {},
   "source": [
    "### Get partner types dataframe and map"
   ]
  },
  {
   "cell_type": "code",
   "execution_count": null,
   "metadata": {},
   "outputs": [],
   "source": [
    "df_ecaro_partner_list = cpe_processing.read_partner_types_data()\n",
    "df_ecaro_partner_list['partner_type'] = df_ecaro_partner_list['partner_type'].str.title()\n",
    "df_ecaro_partner_list['partner_and_cso_type'] = df_ecaro_partner_list['partner_and_cso_type'].str.title()\n",
    "df_ecaro_partner_list['partner_and_cso_type'] = df_ecaro_partner_list['partner_and_cso_type'].map(lambda x: x.replace(' -', '') if x.endswith(' -') else x )\n",
    "df_ecaro_partner_list.head()"
   ]
  },
  {
   "cell_type": "code",
   "execution_count": null,
   "metadata": {},
   "outputs": [],
   "source": [
    "### the following takes one type when multiple are associated to a partner. Not entirely correct maybe\n",
    "\n",
    "partner_type_map = df_ecaro_partner_list.groupby(['vendor_name'])['partner_type'].first().to_dict()\n",
    "#partner_type_map\n",
    "\n",
    "cso_type_map = df_ecaro_partner_list.groupby(['vendor_name'])['partner_and_cso_type'].first().to_dict()\n",
    "cso_code_type_map = df_ecaro_partner_list.groupby(['vendor_code'])['partner_and_cso_type'].first().to_dict()\n",
    "# sorted(set(cso_type_map.values()))"
   ]
  },
  {
   "cell_type": "code",
   "execution_count": null,
   "metadata": {},
   "outputs": [],
   "source": [
    "tmp_df['partner_type'] = tmp_df['vendor_code'].map(cso_code_type_map)"
   ]
  },
  {
   "cell_type": "code",
   "execution_count": null,
   "metadata": {},
   "outputs": [],
   "source": [
    "df['partner_type'] = df['implementing_partner'].map(cso_type_map)\n",
    "df['partner_macro_type'] = df['implementing_partner'].map(partner_type_map)\n",
    "df_partner_list['partner_type'] = df_partner_list['implementing_partner'].map(cso_type_map)"
   ]
  },
  {
   "cell_type": "markdown",
   "metadata": {},
   "source": [
    "### Map outputs to goal area"
   ]
  },
  {
   "cell_type": "code",
   "execution_count": null,
   "metadata": {},
   "outputs": [],
   "source": [
    "from unicef_cpe.processing import get_programme_structure\n",
    "\n",
    "# Get the programme structure dataframe\n",
    "programme_structure_df = get_programme_structure()\n",
    "\n",
    "# Display the dataframe\n",
    "programme_structure_df.head()"
   ]
  },
  {
   "cell_type": "code",
   "execution_count": null,
   "metadata": {},
   "outputs": [],
   "source": [
    "# output_mapping = programme_structure_df[['goal_area', 'output_code']].drop_duplicates().set_index('output_code')['goal_area'].to_dict()\n",
    "df_output_mapping = programme_structure_df[['output_code', 'generic_intervention_name']].drop_duplicates()\n",
    "\n",
    "df_output_mapping.head()"
   ]
  },
  {
   "cell_type": "markdown",
   "metadata": {},
   "source": [
    "### Plot partner type count by gic"
   ]
  },
  {
   "cell_type": "code",
   "execution_count": null,
   "metadata": {},
   "outputs": [],
   "source": [
    "df_to_plot = df.copy()\n",
    "df_to_plot = df_to_plot.merge(df_output_mapping, left_on='outcome/output', right_on='output_code', how='left')\n",
    "df_to_plot = df_to_plot[['implementing_partner', 'partner_type', 'generic_intervention_name', 'country']].drop_duplicates()\n",
    "df_partner_list = df_partner_list.merge(df_to_plot, on=['country', 'implementing_partner', 'partner_type'])\n",
    "df_to_plot = df_to_plot.groupby(['country', 'generic_intervention_name', 'partner_type']).agg({'implementing_partner': 'nunique'}).reset_index()\n",
    "df_partner_count_by_gic = df_to_plot.copy()\n",
    "df_to_plot.head()"
   ]
  },
  {
   "cell_type": "markdown",
   "metadata": {},
   "source": [
    "### Write excels"
   ]
  },
  {
   "cell_type": "code",
   "execution_count": null,
   "metadata": {},
   "outputs": [],
   "source": [
    "# Write the dataframes to separate sheets\n",
    "\n",
    "output_path = Path(product['data'])\n",
    "output_path.parent.mkdir(parents=True, exist_ok=True)  # Create missing directories\n",
    "\n",
    "\n",
    "writer = pd.ExcelWriter(path=product['data'], engine='openpyxl', mode='w')\n",
    "\n",
    "df_partner_count_by_country_year.to_excel(writer, sheet_name='df_partner_count_by_country_year', index=False)\n",
    "partner_count_new_to_past.to_excel(writer, sheet_name='partner_count_new_to_past', index=False)\n",
    "df_partner_fr_consumed_by_year.to_excel(writer, sheet_name='partner_fr_consumed_by_year', index=False)\n",
    "df_partner_count_by_gic.to_excel(writer, sheet_name='partner_count_by_gic', index=False)\n",
    "df_partner_list.to_excel(writer,sheet_name='partner_list', index=False)\n",
    "\n",
    "writer.close()"
   ]
  }
 ],
 "metadata": {
  "kernelspec": {
   "display_name": "rowsquared",
   "language": "python",
   "name": "python3"
  },
  "language_info": {
   "codemirror_mode": {
    "name": "ipython",
    "version": 3
   },
   "file_extension": ".py",
   "mimetype": "text/x-python",
   "name": "python",
   "nbconvert_exporter": "python",
   "pygments_lexer": "ipython3",
   "version": "3.12.4"
  }
 },
 "nbformat": 4,
 "nbformat_minor": 2
}
