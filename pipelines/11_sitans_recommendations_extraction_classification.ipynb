{
 "cells": [
  {
   "cell_type": "code",
   "execution_count": null,
   "metadata": {
    "tags": [
     "parameters"
    ]
   },
   "outputs": [],
   "source": [
    "# IMPORTANT: The parameters below are set only for running this notebook independently. \n",
    "# When executing the full Ploomber pipeline, these values will be overridden by the settings in `pipeline.yaml`. \n",
    "# Any modifications made here will not persist when running the pipeline.\n",
    "upstream = None\n",
    "COUNTRY =  'ARM' # Code of the Country\n",
    "product = {'data': f'../data/processed/{COUNTRY}/sitans_reccomendations_by_goal_area.xlsx'}  # Path to save the final data product (stored under the 'data' key)\n",
    "data_source = 'data/corpora/sitans/'  # Path to the source data directory"
   ]
  },
  {
   "cell_type": "markdown",
   "metadata": {},
   "source": [
    "This Notebook uses an LLM model to analyze the Situation Analysis Reports to identify recommendations. These are categorized into one or more goal areas."
   ]
  },
  {
   "cell_type": "code",
   "execution_count": null,
   "metadata": {},
   "outputs": [],
   "source": [
    "import re\n",
    "from pathlib import Path\n",
    "import pandas as pd\n",
    "\n",
    "import unicef_cpe \n",
    "from unicef_cpe.config import PROJ_ROOT\n"
   ]
  },
  {
   "cell_type": "code",
   "execution_count": null,
   "metadata": {},
   "outputs": [],
   "source": [
    "MODEL = 'gpt-4o'\n",
    "country_map = {k:v for k,v in unicef_cpe.utils.get_ecaro_countries_mapping(priority=False).items() if k in COUNTRY}\n",
    "country_code_map = {v:k for k,v in country_map.items() }"
   ]
  },
  {
   "cell_type": "markdown",
   "metadata": {},
   "source": [
    "### Extract Reccomendations from SitAns"
   ]
  },
  {
   "cell_type": "code",
   "execution_count": null,
   "metadata": {},
   "outputs": [],
   "source": [
    "data = []\n",
    "source_path =  PROJ_ROOT / Path(data_source)\n",
    "# for file_path in upstream_data['sitans'].glob('sitans/*.pdf'):\n",
    "for file_path in source_path.glob('*.pdf'):\n",
    "    with open(file_path, 'r') as file:\n",
    "        country_code, *_ = file_path.name.split('-')\n",
    "        country_code = country_code.upper()\n",
    "        country = country_map.get(country_code)\n",
    "        year = re.search(r'\\d{4}', file_path.name).group()\n",
    "        text = unicef_cpe.extraction.extract_text_from_file(file_path)\n",
    "        data.append((file_path.name, country_code, country, int(year), text))\n",
    "df_sitans = pd.DataFrame(data, columns=['file_name', 'country_code','country', 'year', 'section_text'])\n",
    "df_sitans.sort_values(['country_code', 'country', 'year', 'file_name'], ignore_index=True, inplace=True)\n",
    "print('Shape:', df_sitans.shape)\n",
    "print(df_sitans.head())"
   ]
  },
  {
   "cell_type": "code",
   "execution_count": null,
   "metadata": {},
   "outputs": [],
   "source": [
    "df_list = []\n",
    "\n",
    "country_name = country_map.get(COUNTRY)\n",
    "\n",
    "\n",
    "country_mask = df_sitans['country'] == country_name\n",
    "\n",
    "years = sorted(df_sitans[country_mask]['year'].unique())\n",
    "\n",
    "for year in years:\n",
    "    year_mask = df_sitans['year'] == year\n",
    "    \n",
    "    try:\n",
    "        text = df_sitans[country_mask & year_mask]['section_text'].iloc[0]\n",
    "    except IndexError:\n",
    "        # Skip if there's no narrative text for this combination of country and year\n",
    "        print(f\"No narrative text available for {country_name} in {year}\")\n",
    "        continue\n",
    "    print(f\"Summarizing recommendations for {country_name} in {year}\")\n",
    "    # Extract needs and categorize them by goal area\n",
    "    subjects = unicef_cpe.genai.extract_by_goal_area(text[:110_000], subject = \"recommendations\", model=MODEL, api_type='openai')\n",
    "\n",
    "    subjects ='\\n'+ subjects\n",
    "    subject_list = subjects.split('\\n- **')[1:]  # Skip the first empty element after the split\n",
    "    for subject in subject_list:\n",
    "        # Split each need into goal area and its description\n",
    "        subject_description = subject.split('**:')\n",
    "        \n",
    "        goal_area = subject_description[0].replace('- **','').replace('**', '').replace('\\n', '').strip()\n",
    "        new_subject = subject_description[1].replace('\\n', '').strip()\n",
    "        df_list.append([COUNTRY, country_name, year, goal_area, new_subject])"
   ]
  },
  {
   "cell_type": "code",
   "execution_count": 7,
   "metadata": {},
   "outputs": [],
   "source": [
    "df_recommendations = pd.DataFrame(df_list, columns=['country_code', 'country', 'year', 'goal_area', 'recommendation'])"
   ]
  },
  {
   "cell_type": "code",
   "execution_count": null,
   "metadata": {},
   "outputs": [],
   "source": [
    "print(df_recommendations.head())"
   ]
  },
  {
   "cell_type": "code",
   "execution_count": null,
   "metadata": {},
   "outputs": [],
   "source": [
    "output_path = Path(product['data'])\n",
    "output_path.parent.mkdir(parents=True, exist_ok=True)  # Create missing directories\n",
    "df_recommendations.to_excel(product['data'], index=False)"
   ]
  },
  {
   "cell_type": "code",
   "execution_count": 10,
   "metadata": {},
   "outputs": [],
   "source": [
    "################################################################################################################################################################################################"
   ]
  }
 ],
 "metadata": {
  "kernelspec": {
   "display_name": "unicef-cpe",
   "language": "python",
   "name": "python3"
  },
  "language_info": {
   "codemirror_mode": {
    "name": "ipython",
    "version": 3
   },
   "file_extension": ".py",
   "mimetype": "text/x-python",
   "name": "python",
   "nbconvert_exporter": "python",
   "pygments_lexer": "ipython3",
   "version": "3.10.15"
  }
 },
 "nbformat": 4,
 "nbformat_minor": 2
}
