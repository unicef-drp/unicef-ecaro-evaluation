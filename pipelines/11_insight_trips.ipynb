{
 "cells": [
  {
   "cell_type": "code",
   "execution_count": null,
   "metadata": {
    "tags": [
     "parameters"
    ]
   },
   "outputs": [],
   "source": [
    "# IMPORTANT: The parameters below are set only for running this notebook independently. \n",
    "# When executing the full Ploomber pipeline, these values will be overridden by the settings in `pipeline.yaml`. \n",
    "# Any modifications made here will not persist when running the pipeline.\n",
    "upstream = None\n",
    "COUNTRY =  'ARM' # Code of the Country\n",
    "product = {'data': f'../data/processed/{COUNTRY}/insight_trips.xlsx'}  # Path to save the final data product (stored under the 'data' key)\n",
    "data_source = 'data/raw/insight-finance-trips'  # Path to the source data directory"
   ]
  },
  {
   "cell_type": "markdown",
   "metadata": {},
   "source": [
    "# Efficiency\n",
    "## Efficiency - 4\n",
    "### To what extent the human resources were allocated in alignment to the defined  priorities? Are staff structures defined based on fund availability/priorities? How is this enabling/restricting UNICEF delivery?\n",
    "\n",
    "This Notebook summarizes the trip approval reports from Insight (copy of **Trip Approval Report** in 01_main)."
   ]
  },
  {
   "cell_type": "code",
   "execution_count": null,
   "metadata": {},
   "outputs": [],
   "source": [
    "import re\n",
    "from pathlib import Path\n",
    "import pandas as pd\n",
    "import unicef_cpe as cpe\n",
    "\n",
    "from unicef_cpe.config import PROJ_ROOT\n",
    "\n",
    "\n",
    "country_map = {k:v for k,v in cpe.utils.get_ecaro_countries_mapping(priority=False).items() if k in COUNTRY}\n",
    "country_code_map = {v:k for k,v in country_map.items() }"
   ]
  },
  {
   "cell_type": "code",
   "execution_count": null,
   "metadata": {},
   "outputs": [],
   "source": [
    "# file_paths = sorted(list(RAW_DATA_DIR.joinpath('insight-finance-trips').glob('*.csv')))\n",
    "source_path = PROJ_ROOT / Path(data_source)\n",
    "file_paths = sorted(list(source_path.glob('*.csv')))"
   ]
  },
  {
   "cell_type": "code",
   "execution_count": null,
   "metadata": {},
   "outputs": [],
   "source": [
    "to_rename = {\n",
    "    'TRIP_REASON3': 'reason',\n",
    "    'BEGIN_DATE3': 'date',\n",
    "    'TA_AMOUNT2': 'amount',\n",
    "}\n",
    "df_list = []\n",
    "for file_path in file_paths:\n",
    "    country = file_path.name.split()[-2]\n",
    "    df_trips = pd.read_csv(file_path, usecols=to_rename)\n",
    "    df_trips.insert(0, 'country', country)\n",
    "    df_list.append(df_trips)\n",
    "df_trips = pd.concat(df_list, axis=0, ignore_index=True)\n",
    "df_trips.rename(to_rename, axis=1, inplace=True)\n",
    "df_trips.drop_duplicates(ignore_index=True, inplace=True)  # records duplicated by 'Approved by'\n",
    "print('Shape:', df_trips.shape)\n",
    "print(df_trips.head())"
   ]
  },
  {
   "cell_type": "code",
   "execution_count": null,
   "metadata": {},
   "outputs": [],
   "source": [
    "print('Shape before:', df_trips.shape)\n",
    "df_trips['date'] = pd.to_datetime(df_trips['date'], format='%d.%m.%Y')\n",
    "#df_trips['amount'] = df_trips['amount'].str.replace(',', '').astype(float)\n",
    "print('Shape after:', df_trips.shape)\n",
    "\n",
    "mask = df_trips['country'].eq(COUNTRY)\n",
    "df_trips = df_trips[mask].copy()\n",
    "print(df_trips.head())"
   ]
  },
  {
   "cell_type": "code",
   "execution_count": null,
   "metadata": {},
   "outputs": [],
   "source": [
    "df_trips.isna().sum()"
   ]
  },
  {
   "cell_type": "code",
   "execution_count": null,
   "metadata": {},
   "outputs": [],
   "source": [
    "print('Shape before:', df_trips.shape)\n",
    "df_trips.dropna(ignore_index=True, inplace=True)\n",
    "print('Shape after:', df_trips.shape)\n",
    "print(df_trips.head())"
   ]
  },
  {
   "cell_type": "code",
   "execution_count": null,
   "metadata": {},
   "outputs": [],
   "source": [
    "df_trips.groupby([df_trips['date'].dt.year, 'reason']).size().unstack(level=0)"
   ]
  },
  {
   "cell_type": "code",
   "execution_count": null,
   "metadata": {},
   "outputs": [],
   "source": [
    "print('Shape before:', df_trips.shape)\n",
    "mask = df_trips['date'].dt.year.ge(2018)  # before 2018 reason is always OTHER\n",
    "df_trips = df_trips.loc[mask].copy()\n",
    "print('Shape after:', df_trips.shape)\n",
    "print(df_trips.head())"
   ]
  },
  {
   "cell_type": "code",
   "execution_count": null,
   "metadata": {},
   "outputs": [],
   "source": [
    "df_trips['reason'].value_counts()"
   ]
  },
  {
   "cell_type": "code",
   "execution_count": null,
   "metadata": {},
   "outputs": [],
   "source": [
    "to_keep = df_trips['reason'].value_counts().nlargest(10).index.tolist()\n",
    "print('Shape before:', df_trips.shape)\n",
    "df_trips['reason'] = df_trips['reason'].apply(lambda x: x if x in to_keep else 'OTHER')\n",
    "print('Shape after:', df_trips.shape)\n",
    "print(df_trips.head())"
   ]
  },
  {
   "cell_type": "code",
   "execution_count": null,
   "metadata": {},
   "outputs": [],
   "source": [
    "print('Shape before:', df_trips.shape)\n",
    "df_trips = df_trips.groupby(['country', pd.Grouper(key='date', freq='ME'), 'reason'], as_index=False).agg({'amount': 'sum'})\n",
    "print('Shape after:', df_trips.shape)\n",
    "print(df_trips.head())"
   ]
  },
  {
   "cell_type": "code",
   "execution_count": null,
   "metadata": {},
   "outputs": [],
   "source": [
    "output_path = Path(product['data'])\n",
    "output_path.parent.mkdir(parents=True, exist_ok=True)  # Create missing directories\n",
    "df_trips.to_excel(product['data'], index=False) "
   ]
  },
  {
   "cell_type": "code",
   "execution_count": null,
   "metadata": {},
   "outputs": [],
   "source": []
  },
  {
   "cell_type": "code",
   "execution_count": null,
   "metadata": {},
   "outputs": [],
   "source": []
  }
 ],
 "metadata": {
  "kernelspec": {
   "display_name": "unicef-cpe",
   "language": "python",
   "name": "python3"
  },
  "language_info": {
   "codemirror_mode": {
    "name": "ipython",
    "version": 3
   },
   "file_extension": ".py",
   "mimetype": "text/x-python",
   "name": "python",
   "nbconvert_exporter": "python",
   "pygments_lexer": "ipython3",
   "version": "3.10.15"
  }
 },
 "nbformat": 4,
 "nbformat_minor": 4
}
