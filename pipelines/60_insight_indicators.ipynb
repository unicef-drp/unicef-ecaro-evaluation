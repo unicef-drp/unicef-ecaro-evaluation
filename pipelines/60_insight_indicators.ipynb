{
 "cells": [
  {
   "cell_type": "code",
   "execution_count": null,
   "metadata": {
    "tags": [
     "parameters"
    ]
   },
   "outputs": [],
   "source": [
    "# IMPORTANT: The parameters below are set only for running this notebook independently. \n",
    "# When executing the full Ploomber pipeline, these values will be overridden by the settings in `pipeline.yaml`. \n",
    "# Any modifications made here will not persist when running the pipeline.\n",
    "upstream = None\n",
    "COUNTRY =  'ARM' # Code of the Country\n",
    "product = {'data': f'../data/processed/{COUNTRY}/insight_indicators.xlsx'}  # Path to save the final data product (stored under the 'data' key)\n",
    "data_source = 'data/raw/insight-ram-data-sets'  # Path to the source data directory"
   ]
  },
  {
   "cell_type": "code",
   "execution_count": null,
   "metadata": {},
   "outputs": [],
   "source": [
    "import re\n",
    "from pathlib import Path\n",
    "import pandas as pd\n",
    "import unicef_cpe as cpe\n",
    "from unicef_cpe.config import PROJ_ROOT\n",
    "from unicef_cpe.utils import get_ecaro_countries_mapping\n",
    "\n",
    "country_map = {k:v for k,v in get_ecaro_countries_mapping(priority=False).items() if k in COUNTRY}\n",
    "country_code_map = {v:k for k,v in country_map.items() }"
   ]
  },
  {
   "cell_type": "markdown",
   "metadata": {},
   "source": [
    "This Notebook extracts indicator data (standard and additional indicators) and produces a spreadsheet for further analysis (copy of **RAM Indicators** in 01_main)."
   ]
  },
  {
   "cell_type": "code",
   "execution_count": null,
   "metadata": {},
   "outputs": [],
   "source": [
    "# file_paths = sorted(list(PATH_DATA.joinpath('raw', 'insight-ram-data-sets').glob('*.xlsx')))\n",
    "source_path = PROJ_ROOT / Path(data_source)\n",
    "file_paths = sorted(list(source_path.glob('*.xlsx')))\n",
    "file_paths"
   ]
  },
  {
   "cell_type": "code",
   "execution_count": 129,
   "metadata": {},
   "outputs": [],
   "source": [
    "def clean_indicators(df: pd.DataFrame, verbose: bool = False) -> pd.DataFrame:\n",
    "    if verbose:\n",
    "        print(\"Shape before:\", df.shape)\n",
    "\n",
    "    df.rename(lambda x: re.sub(r\"\\s+\", \"_\", x.strip().lower()), axis=1, inplace=True)\n",
    "    mask = df[\"result_area\"].fillna(\"\").str.match(r\"\\d+\") & (df[\"indicator_rating_type\"] == 'End-year assessment') \n",
    "    df = df.loc[mask].copy()\n",
    "    df.dropna(axis=1, how=\"all\", inplace=True)\n",
    "    df.dropna(subset=[\"indicator_actual\"], inplace=True)\n",
    "\n",
    "    def to_float(x):\n",
    "        try:\n",
    "            return float(x)\n",
    "        except:\n",
    "            return None\n",
    "        \n",
    "    def to_int(x):\n",
    "        try:\n",
    "            return int(x)\n",
    "        except:\n",
    "            return None\n",
    "\n",
    "    for column in (\"baseline_year\", \"target_year\"):\n",
    "        df[column] = df[column].apply(to_int)\n",
    "    for column in (\"baseline_value\", \"target_value\", \"indicator_actual\"):\n",
    "        df[column] = df[column].apply(to_float)\n",
    "\n",
    "    mapping = cpe.utils.get_ecaro_countries_mapping(keys=\"code\", values=\"iso\")\n",
    "    df[\"country\"] = df[\"business_area\"].str.split(\" - \").str.get(-1).replace(mapping)\n",
    "\n",
    "    to_keep = [\n",
    "        \"country\",\n",
    "        \"indicator_code\",\n",
    "        \"indicator\",\n",
    "        \"indicator_category\",\n",
    "        \"indicator_unit\",\n",
    "        \"baseline_year\",\n",
    "        \"baseline_value\",\n",
    "        \"target_year\",\n",
    "        \"target_value\",\n",
    "        \"finalization_date\",\n",
    "        \"indicator_actual\",\n",
    "        \"indicator_rating_type\",\n",
    "        \"rating\",\n",
    "    #    \"indicator_disaggregation\",\n",
    "    ]\n",
    "    df = df.reindex(to_keep, axis=1)\n",
    "    if verbose:\n",
    "        print(\"Shape after:\", df.shape)\n",
    "    return df"
   ]
  },
  {
   "cell_type": "code",
   "execution_count": null,
   "metadata": {},
   "outputs": [],
   "source": [
    "dfs = []\n",
    "for file_path in file_paths:\n",
    "    df_indicators = pd.read_excel(file_path, skiprows=7)\n",
    "    df_indicators = clean_indicators(df_indicators)\n",
    "    dfs.append(df_indicators)\n",
    "\n",
    "df_indicators = pd.concat(dfs, axis=0, ignore_index=True)\n",
    "print('Shape before:', df_indicators.shape)\n",
    "df_indicators.drop_duplicates(ignore_index=True, inplace=True)\n",
    "df_indicators.sort_values(\n",
    "    by=['country', 'indicator_code', 'baseline_year'],\n",
    "    ignore_index=True,\n",
    "    inplace=True,\n",
    ")\n",
    "df_indicators = df_indicators.loc[df_indicators['country'].eq(COUNTRY)].copy()\n",
    "\n",
    "print('Shape after:', df_indicators.shape)\n"
   ]
  },
  {
   "cell_type": "code",
   "execution_count": null,
   "metadata": {},
   "outputs": [],
   "source": [
    "# deduplicate the data\n",
    "print('Shape before:', df_indicators.shape)\n",
    "\n",
    "to_keep = ['country', 'indicator_code', 'target_year', 'finalization_date']\n",
    "df_indicators[to_keep[-1]] = pd.to_datetime(df_indicators[to_keep[-1]], format='%d.%m.%Y')\n",
    "# take the row with the most recent finalisation date\n",
    "df_indicators = df_indicators.sort_values(to_keep).groupby(to_keep[:-1]).tail(1)\n",
    "assert df_indicators.duplicated(subset=to_keep[:-1]).sum() == 0, 'Duplicates'\n",
    "\n",
    "print('Shape after:', df_indicators.shape)"
   ]
  },
  {
   "cell_type": "code",
   "execution_count": null,
   "metadata": {},
   "outputs": [],
   "source": [
    "print('Shape before:', df_indicators.shape)\n",
    "df_indicators.eval('achieved = indicator_actual > target_value', inplace=True)\n",
    "df_indicators['progress'] = df_indicators.groupby(['country', 'indicator_code'])['achieved'].transform('mean')\n",
    "df_indicators['progress'] = pd.cut(\n",
    "    x=df_indicators['progress'],\n",
    "    bins=[-1e-3, 1/3, 2/3, 1.],\n",
    "    labels=['Off Track', 'Mixed Progress', 'On Track']\n",
    ").astype(str)\n",
    "df_indicators.drop('achieved', axis=1, inplace=True)\n",
    "print('Shape after:', df_indicators.shape)"
   ]
  },
  {
   "cell_type": "code",
   "execution_count": 133,
   "metadata": {},
   "outputs": [],
   "source": [
    "df_indicators.to_excel(product['data'], index=False) "
   ]
  }
 ],
 "metadata": {
  "kernelspec": {
   "display_name": "rowsquared",
   "language": "python",
   "name": "python3"
  },
  "language_info": {
   "codemirror_mode": {
    "name": "ipython",
    "version": 3
   },
   "file_extension": ".py",
   "mimetype": "text/x-python",
   "name": "python",
   "nbconvert_exporter": "python",
   "pygments_lexer": "ipython3",
   "version": "3.12.4"
  }
 },
 "nbformat": 4,
 "nbformat_minor": 4
}
