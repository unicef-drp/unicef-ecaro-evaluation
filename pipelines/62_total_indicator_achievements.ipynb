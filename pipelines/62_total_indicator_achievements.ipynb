{
 "cells": [
  {
   "cell_type": "code",
   "execution_count": null,
   "metadata": {
    "tags": [
     "parameters"
    ]
   },
   "outputs": [],
   "source": [
    "# IMPORTANT: The parameters below are set only for running this notebook independently. \n",
    "# When executing the full Ploomber pipeline, these values will be overridden by the settings in `pipeline.yaml`. \n",
    "# Any modifications made here will not persist when running the pipeline.\n",
    "upstream = None\n",
    "COUNTRY =  'ARM' # Code of the Country\n",
    "product = {'data': f'../data/processed/{COUNTRY}/total_indicator_achievements.xlsx'}  # Path to save the final data product (stored under the 'data' key)\n",
    "data_source = 'data/raw/insight-ram-data-sets'  # Path to the source data directory"
   ]
  },
  {
   "cell_type": "markdown",
   "metadata": {},
   "source": [
    "This Notebook summarizes the indicator performance (standard and additional indicators) from RAM3 insight data, looking mostly at end-of-year assessments of indicators."
   ]
  },
  {
   "cell_type": "code",
   "execution_count": null,
   "metadata": {},
   "outputs": [],
   "source": [
    "import re\n",
    "import pandas as pd\n",
    "from pathlib import Path\n",
    "from unicef_cpe.config import PROJ_ROOT\n",
    "import unicef_cpe"
   ]
  },
  {
   "cell_type": "code",
   "execution_count": null,
   "metadata": {},
   "outputs": [],
   "source": [
    "country_map = {k:v for k,v in unicef_cpe.utils.get_ecaro_countries_mapping(priority=False).items() if k in COUNTRY}\n",
    "country_code_map = {v:k for k,v in country_map.items() }"
   ]
  },
  {
   "cell_type": "markdown",
   "metadata": {},
   "source": [
    "### Indicator Data"
   ]
  },
  {
   "cell_type": "markdown",
   "metadata": {},
   "source": [
    "Comments:\n",
    "\n",
    "To add this to Mykola's structure:\n",
    "\n",
    "- clean_indicators - > processing.py\n",
    "\n",
    "- add function: extract_year (for getting finalization years from finalization_date)\n",
    "\n",
    "- change main.ipynb to include differences in deduplicating data (df_indicators and df_indicators_cleaned should be merged based on what we think is the best de-duplicating strategy so it is not messy)\n",
    "\n",
    "- include the plotting - > plotting.py"
   ]
  },
  {
   "cell_type": "markdown",
   "metadata": {},
   "source": [
    "**RAM Indicators**"
   ]
  },
  {
   "cell_type": "code",
   "execution_count": null,
   "metadata": {},
   "outputs": [],
   "source": [
    "file_paths = PROJ_ROOT / data_source\n",
    "file_paths = sorted(Path(file_paths).glob('*.xlsx'))\n",
    "file_paths"
   ]
  },
  {
   "cell_type": "code",
   "execution_count": 4,
   "metadata": {},
   "outputs": [],
   "source": [
    "def extract_year(date_str):\n",
    "    '''\n",
    "    Return dates as years in integers\n",
    "    '''\n",
    "    try:\n",
    "        # Attempt to parse as dd.mm.yyyy\n",
    "        return int(pd.to_datetime(date_str, format='%d.%m.%Y').year)\n",
    "    except ValueError:\n",
    "        try:\n",
    "            # If it fails, attempt to parse as mm.dd.yyyy\n",
    "            return int(pd.to_datetime(date_str, format='%m.%d.%Y').year)\n",
    "        except ValueError:\n",
    "            # If it fails again, return None \n",
    "            return None"
   ]
  },
  {
   "cell_type": "markdown",
   "metadata": {},
   "source": [
    "The clean_indicators function can be found in processing.py. I have changed it here to collect all rows with an indicator entry, even where there is no indicator_actual data.\n",
    "\n",
    "I also keep extra columns [\"ram3_year\", \"result_area\", \"indicator_disaggregation\", \"indicator_rating_type\", \"rating\", \"indicator_rating_finalization_status\"].\n",
    "\n",
    "\"ram3_year\" -  year of xlsx data file\n"
   ]
  },
  {
   "cell_type": "code",
   "execution_count": 5,
   "metadata": {},
   "outputs": [],
   "source": [
    "def clean_indicators(df: pd.DataFrame) -> pd.DataFrame:\n",
    "\n",
    "    # Remove leading or trailing whitespace, convert column names to lowercase with spaces replaced with _\n",
    "    df.rename(lambda x: re.sub(r\"\\s+\", \"_\", x.strip().lower()), axis=1, inplace=True)\n",
    "    # Check if the result_area strings starts with one or more digits, treating NaN values as empty strings\n",
    "    mask = df[\"result_area\"].fillna(\"\").str.match(r\"\\d+\")\n",
    "    df = df.loc[mask].copy()\n",
    "    # Remove any columns from the DataFrame that contain only NaN \n",
    "    df.dropna(axis=1, how=\"all\", inplace=True)\n",
    "    # Remove rows where the value in the \"indicator_code\"/\"indicator_actual\" column is NaN (rows without indicators)\n",
    "    df.dropna(subset=[\"indicator_code\"], inplace=True) \n",
    "\n",
    "    def to_float(x):\n",
    "        try:\n",
    "            return float(x)\n",
    "        except:\n",
    "            return None\n",
    "        \n",
    "    def to_int(x):\n",
    "        try:\n",
    "            return int(x)\n",
    "        except:\n",
    "            return None\n",
    "        \n",
    "    # convert the years to integers, if blank leave \n",
    "    for column in (\"baseline_year\", \"target_year\"):\n",
    "        df[column] = df[column].apply(to_int)\n",
    "\n",
    "    # convert non-text entries to floats\n",
    "    for column in [\"baseline_value\", \"target_value\", \"indicator_actual\"]:\n",
    "        df[column] = df.apply(\n",
    "        lambda row: to_float(row[column]) if row[\"indicator_unit\"] != \"TEXT\" else row[column],\n",
    "        axis=1\n",
    "        )\n",
    " \n",
    "    mapping = unicef_cpe.utils.get_ecaro_countries_mapping(keys=\"code\", values=\"iso\")\n",
    "    df[\"country\"] = df[\"business_area\"].str.split(\" - \").str.get(-1).replace(mapping)\n",
    "\n",
    "    to_keep = [\n",
    "        \"country\",\n",
    "        \"indicator_code\",\n",
    "        \"ram3_year\",\n",
    "        \"result_area\",\n",
    "        \"indicator\",\n",
    "        \"indicator_category\",\n",
    "        \"indicator_unit\",\n",
    "        \"baseline_year\",\n",
    "        \"baseline_value\",\n",
    "        \"indicator_disaggregation\",\n",
    "        \"target_year\",\n",
    "        \"target_value\",\n",
    "        \"finalization_date\",\n",
    "        \"indicator_actual\",\n",
    "        \"indicator_rating_type\",\n",
    "        \"rating\",\n",
    "        \"indicator_rating_finalization_status\",\n",
    "#        \"start_date\",\n",
    "#        \"end_date\",\n",
    "    ]\n",
    "    df = df.reindex(to_keep, axis=1)\n",
    "\n",
    "    return df\n"
   ]
  },
  {
   "cell_type": "code",
   "execution_count": null,
   "metadata": {},
   "outputs": [],
   "source": [
    "dfs = []\n",
    "for file_path in file_paths:\n",
    "    # check skiprows based on raw data (Mykola = 8)\n",
    "    df_indicators = pd.read_excel(file_path, skiprows=7)\n",
    "    # Extract the year from the file_path\n",
    "    match = re.search(r'\\b\\d{4}\\b', str(file_path))\n",
    "    ram3_year = match.group(0) if match else None\n",
    "    # Add the spreadsheet year as a new column ['ram3_year'] to the DataFrame\n",
    "    # file: RAM3 Indicator Performance by Result Area 2018 appears as 2018 in ['ram3_year']\n",
    "    df_indicators['ram3_year'] = ram3_year\n",
    "    df_indicators = clean_indicators(df_indicators)\n",
    "    dfs.append(df_indicators)\n",
    "\n",
    "df_indicators = pd.concat(dfs, axis=0, ignore_index=True)\n",
    "print('Shape before:', df_indicators.shape)\n",
    "# sort by country, indicator code and year of exported spreadsheet\n",
    "df_indicators.sort_values(\n",
    "    by=['country', 'indicator_code', 'ram3_year'],\n",
    "    ignore_index=True,\n",
    "    inplace=True,\n",
    ")\n",
    "df_indicators = df_indicators.loc[df_indicators['country'].eq(COUNTRY)].copy()\n",
    "print('Shape after countries selected:', df_indicators.shape)\n",
    "\n",
    "#display(df_indicators.head())"
   ]
  },
  {
   "cell_type": "markdown",
   "metadata": {},
   "source": [
    "This is a version of Mykola's drop_duplicates but I have to ignore the xlsx file year (ram3_year) and the result_area. result_area has to be ignored since the codes change from 2021 to 2022 and duplicated data has different results codes (I checked this) ."
   ]
  },
  {
   "cell_type": "code",
   "execution_count": null,
   "metadata": {},
   "outputs": [],
   "source": [
    "print('Shape before:', df_indicators.shape)\n",
    "# drop duplicates, disregarding ram3_year and 'result_area' (changes from 2021 -> 2022) to avoid repeated entries\n",
    "subset_columns = df_indicators.columns.difference(['ram3_year','result_area'])\n",
    "df_indicators.drop_duplicates(subset=subset_columns, ignore_index=True, inplace=True)\n",
    "print('Shape after duplicates dropped:', df_indicators.shape)"
   ]
  },
  {
   "cell_type": "markdown",
   "metadata": {},
   "source": [
    "This is where I don't agree with the way Mykola deduplicates data. \n",
    "\n",
    "The way he filters will drop based on the last date, but this only works if the dates are different (and they aren't often). This is because, without indicator_disaggregation, indicators that distinguish between boys/girls/total or by age group etc all appear the same. They are usually finalized on the same date so you have no idea if you have taken the total data or the data for girls/boys. It mostly works for him as it seems Unicef follows a similar pattern for how they enter the disaggregated data, but we should be careful here if we make changes and also maybe we want to include all the different categories not just the total."
   ]
  },
  {
   "cell_type": "code",
   "execution_count": null,
   "metadata": {},
   "outputs": [],
   "source": [
    "# Mykola: deduplicate the data\n",
    "print('Shape before:', df_indicators.shape)\n",
    "\n",
    "df_indicators_cleaned = df_indicators.copy()\n",
    "# Mykola\n",
    "to_keep = ['country', 'indicator_code', 'target_year','finalization_date']\n",
    "# I think this would be better: \n",
    "#to_keep = ['country', 'indicator_code', 'target_year','indicator_rating_type','indicator_disaggregation','finalization_date' ]\n",
    "df_indicators_cleaned[to_keep[-1]] = pd.to_datetime(df_indicators_cleaned[to_keep[-1]], format='%d.%m.%Y')\n",
    "# take the row with the most recent finalisation date\n",
    "df_indicators_cleaned = df_indicators_cleaned.sort_values(to_keep).groupby(to_keep[:-1]).tail(1)\n",
    "assert df_indicators_cleaned.duplicated(subset=to_keep[:-1]).sum() == 0, 'Duplicates'\n",
    "\n",
    "print('Shape after:', df_indicators_cleaned.shape)"
   ]
  },
  {
   "cell_type": "markdown",
   "metadata": {},
   "source": [
    "**Output Indicators**"
   ]
  },
  {
   "cell_type": "code",
   "execution_count": 11,
   "metadata": {},
   "outputs": [],
   "source": [
    "# Add the finalization year as a column\n",
    "df_indicators['finalization_year'] = df_indicators['finalization_date'].apply(extract_year)\n",
    "df_indicators_cleaned['finalization_year'] = df_indicators_cleaned['finalization_date'].apply(extract_year)"
   ]
  },
  {
   "cell_type": "code",
   "execution_count": 12,
   "metadata": {},
   "outputs": [],
   "source": [
    "df_indicators = df_indicators[df_indicators['finalization_year']>2017]"
   ]
  },
  {
   "cell_type": "code",
   "execution_count": null,
   "metadata": {},
   "outputs": [],
   "source": [
    "\n",
    "\n",
    "output_path = Path(product['data'])\n",
    "output_path.parent.mkdir(parents=True, exist_ok=True)  # Create missing directories\n",
    "df_indicators.to_excel(product['data'], index=False)"
   ]
  },
  {
   "cell_type": "code",
   "execution_count": 14,
   "metadata": {},
   "outputs": [],
   "source": [
    "################################################################################################################################################################################################"
   ]
  }
 ],
 "metadata": {
  "kernelspec": {
   "display_name": "unicef-cpe",
   "language": "python",
   "name": "python3"
  },
  "language_info": {
   "codemirror_mode": {
    "name": "ipython",
    "version": 3
   },
   "file_extension": ".py",
   "mimetype": "text/x-python",
   "name": "python",
   "nbconvert_exporter": "python",
   "pygments_lexer": "ipython3",
   "version": "3.12.5"
  }
 },
 "nbformat": 4,
 "nbformat_minor": 2
}
