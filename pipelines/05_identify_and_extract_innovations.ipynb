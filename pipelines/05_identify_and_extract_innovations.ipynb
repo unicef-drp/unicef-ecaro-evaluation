{
 "cells": [
  {
   "cell_type": "code",
   "execution_count": null,
   "metadata": {
    "tags": [
     "parameters"
    ]
   },
   "outputs": [],
   "source": [
    "# IMPORTANT: The parameters below are set only for running this notebook independently. \n",
    "# When executing the full Ploomber pipeline, these values will be overridden by the settings in `pipeline.yaml`. \n",
    "# Any modifications made here will not persist when running the pipeline.\n",
    "\n",
    "COUNTRY =  'ARM' # Code of the Country\n",
    "\n",
    "upstream = {\n",
    "    \"03_coars_narratives\": {\n",
    "        \"data\": f\"../data/processed/{COUNTRY}/narrative_by_section.xlsx\",\n",
    "    },\n",
    "    \"02_summary_narrative_ouput_level\": {\n",
    "        \"data\": f\"../data/processed/{COUNTRY}/output-summary-narrative.xlsx\",\n",
    "    }\n",
    "}\n",
    "product = {\n",
    "    \"data\": f\"../data/processed/{COUNTRY}/evidence_of_innovations.xlsx\",\n",
    "}\n"
   ]
  },
  {
   "cell_type": "markdown",
   "metadata": {},
   "source": [
    "# Identify and extract innovations\n",
    "\n",
    "**Description**\n",
    "Innovation can be found in different sources:\n",
    "1. **COARs** documents\n",
    "2. End of the year Outcome/Output Sumamry Narrative\n",
    "3. Programme Structure\n",
    "\n",
    "The Notebook extracts the innovations from the COARs documents and the End of the year Outcome/Output sumamry Narrative into a structure format.\n"
   ]
  },
  {
   "cell_type": "code",
   "execution_count": null,
   "metadata": {},
   "outputs": [],
   "source": [
    "import re\n",
    "import pandas as pd\n",
    "from pathlib import Path\n",
    "from unicef_cpe.config import PROJ_ROOT\n",
    "from unicef_cpe import utils, genai\n"
   ]
  },
  {
   "cell_type": "code",
   "execution_count": null,
   "metadata": {},
   "outputs": [],
   "source": [
    "# Restrict only to these countries to avoid unexpected costs and long executing times.\n",
    "country_map = {k:v for k,v in utils.get_ecaro_countries_mapping(priority=False).items() if k in COUNTRY}\n",
    "country_code_map = {v:k for k,v in country_map.items() }\n",
    "MODEL = 'gpt-4o'"
   ]
  },
  {
   "cell_type": "code",
   "execution_count": null,
   "metadata": {},
   "outputs": [],
   "source": [
    "df_narrative = pd.read_excel(upstream['03_coars_narratives']['data'])\n",
    "\n",
    "df_output_narrative = pd.read_excel(upstream['02_summary_narrative_ouput_level']['data'])"
   ]
  },
  {
   "cell_type": "code",
   "execution_count": null,
   "metadata": {},
   "outputs": [],
   "source": [
    "print(df_narrative.head())"
   ]
  },
  {
   "cell_type": "code",
   "execution_count": null,
   "metadata": {},
   "outputs": [],
   "source": [
    "print(df_output_narrative.head())"
   ]
  },
  {
   "cell_type": "code",
   "execution_count": null,
   "metadata": {},
   "outputs": [],
   "source": [
    "df_output_narrative = df_output_narrative.groupby(['country', 'year'], as_index=False).agg({'lessons_learned_and_innovations': 'unique'}).copy()\n",
    "df_output_narrative['lessons_learned_and_innovations'] = df_output_narrative['lessons_learned_and_innovations'].str.join('\\n\\n')\n",
    "print(df_output_narrative.head())"
   ]
  },
  {
   "cell_type": "code",
   "execution_count": null,
   "metadata": {},
   "outputs": [],
   "source": [
    "# Identify sections that potentially discuss about innovation\n",
    "innovation_mask = df_narrative['section_title'].str.contains('nnovation|novel')\n",
    "print(df_narrative[innovation_mask]['section_title'].unique())"
   ]
  },
  {
   "cell_type": "code",
   "execution_count": null,
   "metadata": {},
   "outputs": [],
   "source": [
    "df_narrative = df_narrative[innovation_mask].groupby(['country', 'year'], as_index=False).agg({'section_text': 'unique'}).copy()\n",
    "df_narrative['section_text'] = df_narrative['section_text'].str.join('\\n\\n')\n",
    "print(df_narrative.head())"
   ]
  },
  {
   "cell_type": "code",
   "execution_count": null,
   "metadata": {},
   "outputs": [],
   "source": [
    "df_innovation = df_output_narrative.merge(df_narrative, how='left', left_on=['country','year'], right_on=['country','year'])"
   ]
  },
  {
   "cell_type": "code",
   "execution_count": null,
   "metadata": {},
   "outputs": [],
   "source": [
    "df_innovation['innovations'] = df_innovation['lessons_learned_and_innovations'].fillna('') + '\\n\\n' + df_innovation['section_text'].fillna('')\n",
    "\n",
    "# Removing the newline when both columns are NaN\n",
    "df_innovation['innovations']  = df_innovation['innovations'] .str.strip('\\n')\n"
   ]
  },
  {
   "cell_type": "code",
   "execution_count": null,
   "metadata": {},
   "outputs": [],
   "source": [
    "df_list = []\n",
    "\n",
    "\n",
    "country_name = country_map.get(COUNTRY)\n",
    "country_mask = df_innovation['country'].eq(country_name)\n",
    "\n",
    "years = sorted(df_innovation[country_mask]['year'].unique())\n",
    "\n",
    "for year in years:\n",
    "    year_mask = df_innovation['year'] == year\n",
    "    \n",
    "    try:\n",
    "        # We take only the text from the first section as it is the **context** section\n",
    "        text = df_innovation[country_mask & year_mask]['innovations'].iloc[0]\n",
    "    except IndexError:\n",
    "        # Skip if there's no narrative text for this combination of country and year\n",
    "        print(f\"No narrative text available for {country_name} in {year}\")\n",
    "        continue\n",
    "\n",
    "    print(f\"Summarizing innovations for {country_name} in {year}\")\n",
    "    innovation = genai.summarise_innovations(text, country_name, model=MODEL, api_type='openai')\n",
    "    \n",
    "    # Clean text by removing potential generated headers\n",
    "    innovation = utils.remove_section_title(innovation)\n",
    "    innovation_list = innovation.split('\\n-')[1:]  # Skip the first empty element after the split\n",
    "    \n",
    "    for inn in innovation_list:\n",
    "        # Split each innovation into goal area and its description\n",
    "        innovation_description = inn.split('**:')\n",
    "        \n",
    "        innovation_title = innovation_description[0].replace('- **','').replace('**', '').replace('\\n', '').strip()\n",
    "        innovation_text = innovation_description[1].replace('\\n', '').strip()\n",
    "        df_list.append([COUNTRY, country_name, year, innovation_title, innovation_text])\n",
    "\n",
    "\n",
    "df_innovations = pd.DataFrame(df_list, columns=['country_code', 'country', 'year', 'innovation_title', 'innovation_text'])"
   ]
  },
  {
   "cell_type": "code",
   "execution_count": null,
   "metadata": {},
   "outputs": [],
   "source": [
    "print(df_innovations.head())"
   ]
  },
  {
   "cell_type": "code",
   "execution_count": null,
   "metadata": {},
   "outputs": [],
   "source": [
    "\n",
    "df_innovations.reset_index()\n",
    "output_path = Path(product['data'])\n",
    "output_path.parent.mkdir(parents=True, exist_ok=True)  # Create missing directories\n",
    "\n",
    "\n",
    "df_innovations.to_excel(product['data'], index=False)"
   ]
  },
  {
   "cell_type": "code",
   "execution_count": null,
   "metadata": {},
   "outputs": [],
   "source": [
    "################################################################################################################################################################################################"
   ]
  }
 ],
 "metadata": {
  "kernelspec": {
   "display_name": "unicef-ecaro-cpe",
   "language": "python",
   "name": "python3"
  },
  "language_info": {
   "codemirror_mode": {
    "name": "ipython",
    "version": 3
   },
   "file_extension": ".py",
   "mimetype": "text/x-python",
   "name": "python",
   "nbconvert_exporter": "python",
   "pygments_lexer": "ipython3",
   "version": "3.10.16"
  }
 },
 "nbformat": 4,
 "nbformat_minor": 4
}
