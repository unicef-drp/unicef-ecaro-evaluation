{
 "cells": [
  {
   "cell_type": "code",
   "execution_count": null,
   "metadata": {
    "tags": [
     "parameters"
    ]
   },
   "outputs": [],
   "source": [
    "# IMPORTANT: The parameters below are set only for running this notebook independently. \n",
    "# When executing the full Ploomber pipeline, these values will be overridden by the settings in `pipeline.yaml`. \n",
    "# Any modifications made here will not persist when running the pipeline.\n",
    "upstream = None\n",
    "COUNTRY =  'ARM' # Code of the Country\n",
    "product = {'data': f'../data/processed/{COUNTRY}/partnership_agreements.xlsx'}  # Path to save the final data product (stored under the 'data' key)\n",
    "data_source = 'data/raw/etools-datamart/Full Partner Agreement List 20240903.json'"
   ]
  },
  {
   "cell_type": "markdown",
   "metadata": {},
   "source": [
    "\n",
    "This Notebook extracts partnership agreements data from a json file.\n"
   ]
  },
  {
   "cell_type": "code",
   "execution_count": null,
   "metadata": {},
   "outputs": [],
   "source": [
    "import json\n",
    "import pandas as pd\n",
    "from pathlib import Path\n",
    "\n",
    "from unicef_cpe.config import PROJ_ROOT\n",
    "import unicef_cpe as cpe\n",
    "\n",
    "# other settings\n",
    "country_map = {k:v for k,v in cpe.utils.get_ecaro_countries_mapping(priority=False).items() if k in COUNTRY}\n",
    "country_code_map = {v:k for k,v in country_map.items() }"
   ]
  },
  {
   "cell_type": "code",
   "execution_count": null,
   "metadata": {},
   "outputs": [],
   "source": [
    "file_path = PROJ_ROOT / Path(data_source)\n",
    "\n",
    "with open(file_path, 'r', encoding='utf8') as rf: \n",
    "    data = json.load(rf)\n",
    "\n",
    "# Normalize the JSON data to a flat table\n",
    "df = pd.json_normalize(data, 'results')"
   ]
  },
  {
   "cell_type": "code",
   "execution_count": null,
   "metadata": {},
   "outputs": [],
   "source": [
    "mask = df['country_name'].eq(country_map.get(COUNTRY))\n",
    "df = df[mask].copy()"
   ]
  },
  {
   "cell_type": "code",
   "execution_count": null,
   "metadata": {},
   "outputs": [],
   "source": [
    "df = df.query(\"status in ['ended', 'signed', 'suspended', 'terminated']\")"
   ]
  },
  {
   "cell_type": "code",
   "execution_count": null,
   "metadata": {},
   "outputs": [],
   "source": [
    "print(df.head())"
   ]
  },
  {
   "cell_type": "code",
   "execution_count": null,
   "metadata": {},
   "outputs": [],
   "source": [
    "date_columns = ['start', 'end']\n",
    "for col in date_columns:\n",
    "    df[col] = pd.to_datetime(df[col], errors='coerce')"
   ]
  },
  {
   "cell_type": "code",
   "execution_count": null,
   "metadata": {},
   "outputs": [],
   "source": [
    "# agrrement duration in days\n",
    "df['duration'] = (df['end'] - df['start']).dt.days\n",
    "\n",
    "# Sort by start date to ensure correct classification of new vs renewal\n",
    "df = df.sort_values(by='start')\n",
    "\n",
    "df['start_year'] = df['start'].dt.year\n",
    "\n",
    "# 1. Classify agreements into 'short' and 'long'\n",
    "df['agreement_length'] = df['duration'].apply(lambda x: 'long' if x > 365 else 'short')\n",
    "\n",
    "# Classify agreements as 'new' or 'renewal' based on the first occurrence of each vendor number\n",
    "df['agreement_type'] = df.duplicated(subset='vendor_number', keep='first').apply(lambda x: 'renewal' if x else 'new')\n",
    "\n",
    "df['country_code'] = df['country_name'].replace(country_code_map)"
   ]
  },
  {
   "cell_type": "code",
   "execution_count": null,
   "metadata": {},
   "outputs": [],
   "source": [
    "df.to_excel(product['data'], index=False)"
   ]
  },
  {
   "cell_type": "code",
   "execution_count": null,
   "metadata": {},
   "outputs": [],
   "source": [
    "################################################################################################################################################################################################"
   ]
  }
 ],
 "metadata": {
  "kernelspec": {
   "display_name": "unicef-ecaro-cpe",
   "language": "python",
   "name": "python3"
  },
  "language_info": {
   "codemirror_mode": {
    "name": "ipython",
    "version": 3
   },
   "file_extension": ".py",
   "mimetype": "text/x-python",
   "name": "python",
   "nbconvert_exporter": "python",
   "pygments_lexer": "ipython3",
   "version": "3.10.16"
  }
 },
 "nbformat": 4,
 "nbformat_minor": 4
}
