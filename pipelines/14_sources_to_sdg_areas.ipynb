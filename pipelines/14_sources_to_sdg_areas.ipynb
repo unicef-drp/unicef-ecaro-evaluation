{
 "cells": [
  {
   "cell_type": "code",
   "execution_count": null,
   "metadata": {
    "tags": [
     "parameters"
    ]
   },
   "outputs": [],
   "source": [
    "# IMPORTANT: The parameters below are set only for running this notebook independently. \n",
    "# When executing the full Ploomber pipeline, these values will be overridden by the settings in `pipeline.yaml`. \n",
    "# Any modifications made here will not persist when running the pipeline.\n",
    "upstream = None\n",
    "COUNTRY =  'ARM' # Code of the Country\n",
    "product = {'data': f'../data/processed/{COUNTRY}/cp_funds_and_sdg.xlsx'}  # Path to save the final data product (stored under the 'data' key)\n",
    "data_source = ['data/raw/insight-programme-strategic-sdg-expenditure/insight-programme-strategic-sdg-activity-sp-2018-2021.xlsx',\n",
    "            'data/raw/insight-programme-strategic-sdg-expenditure/insight-programme-strategic-sdg-activity-sp-2022-2025.xlsx',\n",
    "            'data/raw/insight-programme-strategic-sdg-expenditure/insight-programme-strategic-sdg-activity-sp-2016-2017.xlsx']\n"
   ]
  },
  {
   "cell_type": "markdown",
   "metadata": {},
   "source": [
    "This Notebook maps Expenses by CP, Source and SDG (Sustainable Develoment Goals) using activities."
   ]
  },
  {
   "cell_type": "code",
   "execution_count": null,
   "metadata": {},
   "outputs": [],
   "source": [
    "import pandas as pd\n",
    "import numpy as np\n",
    "import re\n",
    "from unicef_cpe.config import PROJ_ROOT\n",
    "from unicef_cpe.utils import get_ecaro_countries_mapping\n",
    "from unicef_cpe.plotting import SDG_goals"
   ]
  },
  {
   "cell_type": "code",
   "execution_count": null,
   "metadata": {},
   "outputs": [],
   "source": [
    "country_map = {k:v for k,v in get_ecaro_countries_mapping(priority=False).items() if k in COUNTRY}\n",
    "country_code_map = {v:k for k,v in country_map.items() }\n",
    "# Example: name = 'Armenia', iso = 'ARM', code = '0260'\n",
    "\n",
    "# add code 0575R to the COUNTRIES_CODE dictionary\n",
    "country_map['ECARO'] = '575R'\n",
    "country_code_map['ECARO, Switzerland'] = '575R'\n",
    "\n",
    "\n",
    "mapping = get_ecaro_countries_mapping(keys=\"code\", values=\"iso\")"
   ]
  },
  {
   "cell_type": "code",
   "execution_count": null,
   "metadata": {},
   "outputs": [],
   "source": [
    "dfs = []\n",
    "# sheet name to read\n",
    "sheet_name = 'Prorated Goal Area'\n",
    "# filename and number of rows to skip\n",
    "\n",
    "\n",
    "files = [\n",
    "    (PROJ_ROOT / data_source[0], 5),\n",
    "    (PROJ_ROOT / data_source[1], 4)\n",
    "]\n",
    "\n",
    "def read_and_process_excel(file_path, sheet_name, skiprows):\n",
    "    df = pd.read_excel(file_path, sheet_name=sheet_name, skiprows=skiprows)\n",
    "    df.rename(lambda x: x.lower().replace(' ', '_'), axis=1, inplace=True)\n",
    "    df = df[df['row_labels'] != 'Grand Total']\n",
    "    df.dropna(subset=['row_labels'], inplace=True)\n",
    "    return df\n",
    "\n",
    "for file_name, skip in files:\n",
    "\n",
    "    dfs.append(read_and_process_excel(file_name, sheet_name, skip))\n",
    "\n",
    "df_goals = pd.concat(dfs, axis=0, ignore_index=True)\n",
    "\n",
    "print('Shape:', df_goals.shape)"
   ]
  },
  {
   "cell_type": "code",
   "execution_count": null,
   "metadata": {},
   "outputs": [],
   "source": [
    "def check_df_type(df):\n",
    "    for column in df.columns:\n",
    "        print(df[column].dtype)"
   ]
  },
  {
   "cell_type": "markdown",
   "metadata": {},
   "source": [
    "Clean, rename columns and assign activities to SDG"
   ]
  },
  {
   "cell_type": "code",
   "execution_count": null,
   "metadata": {},
   "outputs": [],
   "source": [
    "# clean, rename columns\n",
    "df_goals.rename(columns={'other_resources_-_emergency': 'OR-Emergency', 'other_resources_-_regular':'OR', \n",
    "                         'regular_resources':'RR'}, inplace=True)\n",
    "\n",
    "numeric_columns_list = ['OR-Emergency', 'OR', 'RR', 'grand_total']\n",
    "\n",
    "# replace missing numeric entries with 0\n",
    "df_goals[numeric_columns_list] = df_goals[numeric_columns_list].fillna(0.)\n",
    "\n",
    "# There is an activity labelled 'Unknown' with a grand total of ~ 12 million USD in current CP (0 USD in previous CP), \n",
    "# likely as those funds were not yet assigned to activities as latest CP cycle is not over yet. \n",
    "# We will filter for all activities where we do not have information \n",
    "\n",
    "print('Shape before:', df_goals.shape)\n",
    "\n",
    "df_goals[['activity', 'activity_wbs', 'type']] = None\n",
    "# Make a column with the type of row_entries: goal and activity\n",
    "df_goals['type'] = df_goals['row_labels'].apply(\n",
    "    lambda x: 'goal' if x.startswith('Goal') \n",
    "    else 'activity'\n",
    ")\n",
    "\n",
    "# create activity rows with codes and names\n",
    "df_goals.loc[df_goals['type'] == 'activity', 'activity_wbs'] = df_goals['row_labels'].str.split(\n",
    "    r'\\s+', n=1, regex=True).str.get(0)\n",
    "df_goals.loc[df_goals['type'] == 'activity', 'activity'] = df_goals['row_labels'].str.split(\n",
    "    r'\\s+', n=1, regex=True).str.get(-1)\n",
    "\n",
    "df_goals[['activity_wbs', 'activity']] = df_goals[['activity_wbs', 'activity']].ffill()\n",
    "# remove rows with type == activity (only goals and unknown remain)\n",
    "df_goals = df_goals[df_goals['type'] != 'activity']\n",
    "\n",
    "# add 'goal_area_code' from row_labels, 'goal_area' via dictionary SDG_goals, and rename row_labels to goals\n",
    "df_goals[['goal_area_code']] = df_goals['row_labels'].str.extract(r'Goal (\\d+)')\n",
    "df_goals['goal_area'] = df_goals['goal_area_code'].map(SDG_goals)\n",
    "df_goals.rename(columns={'row_labels': 'goals'}, inplace=True)\n",
    "\n",
    "# we should be left with roughly half the entries (some activities have several goals)\n",
    "print('Shape after:', df_goals.shape)"
   ]
  },
  {
   "cell_type": "markdown",
   "metadata": {},
   "source": [
    "Unpivot df_goals from wide to long format"
   ]
  },
  {
   "cell_type": "code",
   "execution_count": null,
   "metadata": {},
   "outputs": [],
   "source": [
    "df_goals = pd.melt(df_goals, \n",
    "                    id_vars=['goals', 'goal_area','goal_area_code', 'activity', 'activity_wbs'], \n",
    "                    value_vars=['OR', 'OR-Emergency', 'RR'], \n",
    "                    var_name='funds_type', \n",
    "                    value_name='funds', \n",
    "                    ignore_index=True)\n",
    "\n",
    "print('Unpivoted df:', df_goals.shape)"
   ]
  },
  {
   "cell_type": "markdown",
   "metadata": {},
   "source": [
    "Filter out funds with values ~ 0 USD (funds < abs(0.01))"
   ]
  },
  {
   "cell_type": "code",
   "execution_count": null,
   "metadata": {},
   "outputs": [],
   "source": [
    "df_goals['funds'] = df_goals['funds'].astype(float) # make sure column is type float\n",
    "df_goals = df_goals[abs(df_goals['funds']) > 0.01]\n",
    "print('Shape after dropping funds ~ 0:', df_goals.shape)"
   ]
  },
  {
   "cell_type": "markdown",
   "metadata": {},
   "source": [
    "Add Countries and CP from dictionaries and activities_programme_stucture.xlsx:"
   ]
  },
  {
   "cell_type": "code",
   "execution_count": null,
   "metadata": {},
   "outputs": [],
   "source": [
    "# classify the cycles based on a dictionary:\n",
    "cp_dictionary = {'ARM04': 'CP (2010-2015)', 'ARM05': 'CP (2016-2021)', 'ARM06': 'CP (2021-2025)',\n",
    "                 'AZE04': 'CP (2011-2016)', 'AZE05': 'CP (2016-2021)', 'AZE06': 'CP (2021-2025)',\n",
    "                 'BIH06': 'CP (2010-2014)', 'BIH07': 'CP (2015-2020)', 'BIH08': 'CP (2021-2025)',\n",
    "                 'BLR04': 'CP (2011-2015)', 'BLR05': 'CP (2016-2020)', 'BLR06': 'CP (2021-2025)',                 \n",
    "                 'GEO04': 'CP (2011-2015)', 'GEO05': 'CP (2016-2021)', 'GEO06': 'CP (2021-2025)',\n",
    "                 'KAZ04': 'CP (2010-2015)', 'KAZ05': 'CP (2016-2020)', 'KAZ06': 'CP (2021-2025)',\n",
    "                 'MKD05': 'CP (2010-2015)', 'MKD06': 'CP (2016-2021)', 'MKD07': 'CP (2021-2025)'\n",
    "                 }\n"
   ]
  },
  {
   "cell_type": "code",
   "execution_count": null,
   "metadata": {},
   "outputs": [],
   "source": [
    "df_goals['business_area'] = df_goals['activity_wbs'].apply(\n",
    "    lambda x: 'Unknown' if x == 'Unknown' \n",
    "    else x.split(\"/\")[0])"
   ]
  },
  {
   "cell_type": "code",
   "execution_count": null,
   "metadata": {},
   "outputs": [],
   "source": [
    "# add country name from dictionary\n",
    "df_goals['country'] = df_goals['business_area'].apply(\n",
    "    lambda x: 'Unknown' if x == 'Unknown' \n",
    "    else mapping.get(x))"
   ]
  },
  {
   "cell_type": "code",
   "execution_count": null,
   "metadata": {},
   "outputs": [],
   "source": [
    "\n",
    "# remove countries not in the list\n",
    "df_goals = df_goals[df_goals['country'].eq(COUNTRY)]\n",
    "# add CP from dictionary\n",
    "df_goals['cp'] = (df_goals['country'] + df_goals['activity_wbs'].str.split('/').str[2]).map(cp_dictionary)\n",
    "# drop CP which are not in dictionary (before 2011 or Unknown)\n",
    "df_goals.dropna(subset=['cp'], inplace=True)\n",
    "df_goals['start_year'] = df_goals['cp'].str.extract(r'(\\d{4})')\n",
    "# remove early CP (before 2015/2016)\n",
    "df_goals['start_year'] = df_goals['start_year'].astype(int)\n",
    "print('Shape:', df_goals.shape)\n",
    "mask = df_goals['start_year'] > 2012\n",
    "df_goals = df_goals[mask]\n",
    "print('Remove CP before 2012:', df_goals.shape)"
   ]
  },
  {
   "cell_type": "markdown",
   "metadata": {},
   "source": [
    "Add 2016 - 2017 data without SDG information:\n",
    "\n",
    "- if there is a 1 <-> 1 mapping of activity to SDG Goal, then we use that to map the funds in the 2016-2017 data\n",
    "    \n",
    "- if the mapping is not 1 <-> 1, we label the activity SDG as being 'Undefined' (Goal Are Code 0) and add the funds to the df"
   ]
  },
  {
   "cell_type": "code",
   "execution_count": null,
   "metadata": {},
   "outputs": [],
   "source": [
    "\n",
    "file_path = PROJ_ROOT / data_source[2]\n",
    "\n",
    "sheet_name = 'Prorated Outcome Area'\n",
    "df_addfunds = pd.read_excel(file_path, sheet_name=sheet_name, skiprows=5)\n",
    "df_addfunds.rename(lambda x: x.lower().replace(' ', '_'), axis=1, inplace=True)\n",
    "df_addfunds = df_addfunds[df_addfunds['row_labels'] != 'Grand Total']\n",
    "df_addfunds.dropna(subset=['row_labels'], inplace=True)\n",
    "print(df_addfunds.shape)"
   ]
  },
  {
   "cell_type": "code",
   "execution_count": null,
   "metadata": {},
   "outputs": [],
   "source": [
    "# clean, rename columns\n",
    "df_addfunds.rename(columns={'other_resources_-_emergency': 'OR-Emergency', 'other_resources_-_regular':'OR', \n",
    "                         'regular_resources':'RR'}, inplace=True)\n",
    "\n",
    "numeric_columns_list = ['OR-Emergency', 'OR', 'RR', 'grand_total']\n",
    "\n",
    "# replace missing numeric entries with 0\n",
    "df_addfunds[numeric_columns_list] = df_addfunds[numeric_columns_list].fillna(0.)"
   ]
  },
  {
   "cell_type": "code",
   "execution_count": null,
   "metadata": {},
   "outputs": [],
   "source": [
    "print('Shape before:', df_addfunds.shape)\n",
    "# create activity rows with codes and names\n",
    "df_addfunds['activity_wbs'] = df_addfunds['row_labels'].str.split(r'\\s+', n=1, regex=True).str.get(0)\n",
    "df_addfunds['activity'] = df_addfunds['row_labels'].str.split(r'\\s+', n=1, regex=True).str.get(-1)\n",
    "\n",
    "# add country name from dictionary\n",
    "df_addfunds['country'] = df_addfunds['activity_wbs'].apply(\n",
    "    lambda x: 'Unknown' if x == 'Unknown' \n",
    "    else next((code for code, value in country_map.items() if x.startswith(value + '/')), None))\n",
    "\n",
    "# remove countries not in the list, will also remove 'Unknown'\n",
    "df_addfunds = df_addfunds[df_addfunds['country'].eq(COUNTRY)]\n",
    "\n",
    "print('Shape after:', df_addfunds.shape)"
   ]
  },
  {
   "cell_type": "code",
   "execution_count": null,
   "metadata": {},
   "outputs": [],
   "source": [
    "# Unpivot df_addfunds from wide to long format\n",
    "df_addfunds = pd.melt(df_addfunds, \n",
    "                    id_vars=['country', 'activity', 'activity_wbs'], \n",
    "                    value_vars=['OR', 'OR-Emergency', 'RR'], \n",
    "                    var_name='funds_type', \n",
    "                    value_name='funds', \n",
    "                    ignore_index=True)\n",
    "\n",
    "print('Unpivoted df:', df_addfunds.shape)"
   ]
  },
  {
   "cell_type": "code",
   "execution_count": null,
   "metadata": {},
   "outputs": [],
   "source": [
    "# Filter out funds with values ~ 0 USD (funds < abs(0.01))\n",
    "df_addfunds['funds'] = df_addfunds['funds'].astype(float) # make sure column is type float\n",
    "df_addfunds = df_addfunds[abs(df_addfunds['funds']) > 0.01]\n",
    "print('Shape after dropping funds ~ 0:', df_addfunds.shape)"
   ]
  },
  {
   "cell_type": "code",
   "execution_count": null,
   "metadata": {},
   "outputs": [],
   "source": [
    "# add CP from dictionary\n",
    "df_addfunds['cp'] = (df_addfunds['country'] + df_addfunds['activity_wbs'].str.split('/').str[2]).map(cp_dictionary)\n",
    "# drop CP which are not in dictionary (before 2011 or Unknown)\n",
    "df_addfunds.dropna(subset=['cp'], inplace=True)\n",
    "\n",
    "df_addfunds['start_year'] = df_addfunds['cp'].str.extract(r'(\\d{4})')\n",
    "# remove early CP (before 2015/2016)\n",
    "df_addfunds['start_year'] = df_addfunds['start_year'].astype(int)\n",
    "print('Shape:', df_addfunds.shape)\n",
    "# Keep only last 2 CP (start year  > 2012)\n",
    "mask = df_addfunds['start_year'] > 2012\n",
    "df_addfunds = df_addfunds[mask]\n",
    "print('Remove CP before 2012:', df_addfunds.shape)"
   ]
  },
  {
   "cell_type": "markdown",
   "metadata": {},
   "source": [
    "Create a mapping of activity WBS <-> SDG goal, to use when we don't have SDG data"
   ]
  },
  {
   "cell_type": "code",
   "execution_count": null,
   "metadata": {},
   "outputs": [],
   "source": [
    "df_mapping = df_goals[['activity_wbs','goal_area_code']].copy()\n",
    "print('Before', df_mapping.shape)\n",
    "# keep only unique WBS <-> SDG mappings\n",
    "df_mapping.drop_duplicates(inplace=True)\n",
    "\n",
    "# Concatenate values with a comma (or any separator you prefer)\n",
    "df_mapping = df_mapping.groupby('activity_wbs', as_index=False).agg({'goal_area_code': lambda x: ', '.join(x)})\n",
    "# if there are multiple sdg_goal_codes then replace with 'Undefined'\n",
    "df_mapping['goal_area_code'] = df_mapping['goal_area_code'].apply(lambda x: 'Undefined' if ',' in str(x) else x)\n",
    "print('After', df_mapping.shape)\n",
    "df_mapping['goal_area'] = df_mapping['goal_area_code'].map(SDG_goals)\n",
    "df_mapping['goal_area'] = df_mapping['goal_area'].fillna('Undefined')"
   ]
  },
  {
   "cell_type": "code",
   "execution_count": null,
   "metadata": {},
   "outputs": [],
   "source": [
    "# Add the SDG mapping to the 2016-2017 funds, 'Undefined' is also used when we have no information\n",
    "df_addfunds = df_addfunds.merge(df_mapping, on='activity_wbs', how='left')\n",
    "df_addfunds.fillna({'goal_area': 'Undefined', 'goal_area_code': 'Undefined'}, inplace=True)\n",
    "print(df_addfunds.shape)"
   ]
  },
  {
   "cell_type": "code",
   "execution_count": null,
   "metadata": {},
   "outputs": [],
   "source": [
    "print('df_addfunds', df_addfunds.shape)\n",
    "print('df_goals', df_goals.shape)\n",
    "column_order = ['country', 'activity', 'activity_wbs', 'funds_type', 'funds', 'cp',\n",
    "       'start_year', 'goal_area_code', 'goal_area']\n",
    "df_goals = df_goals[column_order]\n",
    "df_addfunds = df_addfunds[column_order]\n",
    "# Combine the 2016-2017 (df_addfunds) data with inferred SDG and the 2018-2024 data (df_goals) where we know SDG\n",
    "df_combined = pd.concat([df_goals, df_addfunds], ignore_index=True)\n",
    "print(df_combined.shape)\n",
    "df_combined.sort_values(by=['country','start_year' ], inplace=True, ascending=[True, True])"
   ]
  },
  {
   "cell_type": "code",
   "execution_count": null,
   "metadata": {},
   "outputs": [],
   "source": [
    "# check for duplicated funds, if the shape is the same all funds are different and we didn't duplicate funds by adding\n",
    "# the 2016-2017 data\n",
    "print(df_combined.shape)\n",
    "df_combined.drop_duplicates(subset=['activity_wbs', 'funds_type', 'funds'], inplace=True)\n",
    "print(df_combined.shape)"
   ]
  },
  {
   "cell_type": "markdown",
   "metadata": {},
   "source": [
    "**Write to Spreadsheet**"
   ]
  },
  {
   "cell_type": "code",
   "execution_count": null,
   "metadata": {},
   "outputs": [],
   "source": [
    "df_combined.to_excel(product['data'], index=False)"
   ]
  },
  {
   "cell_type": "markdown",
   "metadata": {},
   "source": [
    "::: {.callout-note}\n",
    "Expenses are from the Startegic Plan for years 2016-2024 and do not correspond directly to Funds Utilization in the Country Programme Cycles.\n",
    ":::"
   ]
  },
  {
   "cell_type": "markdown",
   "metadata": {},
   "source": []
  }
 ],
 "metadata": {
  "kernelspec": {
   "display_name": "unicef-ecaro-cpe",
   "language": "python",
   "name": "python3"
  },
  "language_info": {
   "codemirror_mode": {
    "name": "ipython",
    "version": 3
   },
   "file_extension": ".py",
   "mimetype": "text/x-python",
   "name": "python",
   "nbconvert_exporter": "python",
   "pygments_lexer": "ipython3",
   "version": "3.10.16"
  }
 },
 "nbformat": 4,
 "nbformat_minor": 2
}
