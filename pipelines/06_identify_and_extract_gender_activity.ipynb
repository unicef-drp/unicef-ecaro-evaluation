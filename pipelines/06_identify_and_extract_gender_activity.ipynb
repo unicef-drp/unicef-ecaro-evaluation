{
 "cells": [
  {
   "cell_type": "code",
   "execution_count": null,
   "metadata": {
    "tags": [
     "parameters"
    ]
   },
   "outputs": [],
   "source": [
    "# IMPORTANT: The parameters below are set only for running this notebook independently. \n",
    "# When executing the full Ploomber pipeline, these values will be overridden by the settings in `pipeline.yaml`. \n",
    "# Any modifications made here will not persist when running the pipeline.\n",
    "\n",
    "COUNTRY =  'ARM' # Code of the Country\n",
    "\n",
    "upstream = {\n",
    "    \"03_coars_narratives\": {\n",
    "        \"data\": f\"../data/processed/{COUNTRY}/narrative_by_section.xlsx\",\n",
    "    },\n",
    "}\n",
    "product = {\n",
    "    \"data\": f\"../data/processed/{COUNTRY}/evidence_of_gender_activity.xlsx\",\n",
    "}\n",
    "\n"
   ]
  },
  {
   "cell_type": "markdown",
   "metadata": {},
   "source": [
    "This Notebook uses an LLM model to identify and extract approaches related to gender equality from coar summaries."
   ]
  },
  {
   "cell_type": "markdown",
   "metadata": {},
   "source": [
    "# Identify and extract innovations\n",
    "\n",
    "**Description**\n",
    "Innovation can be found in different sources:\n",
    "1. **COARs** documents\n",
    "2. End of the year Outcome/Output Sumamry Narrative\n",
    "3. Programme Structure\n",
    "\n",
    "The Notebook extracts the innovations from the COARs documents and the End of the year Outcome/Output sumamry Narrative into a structure format.\n"
   ]
  },
  {
   "cell_type": "code",
   "execution_count": null,
   "metadata": {},
   "outputs": [],
   "source": [
    "import re\n",
    "import pandas as pd\n",
    "from pathlib import Path\n",
    "from unicef_cpe.config import PROJ_ROOT\n",
    "from unicef_cpe import utils, genai\n"
   ]
  },
  {
   "cell_type": "code",
   "execution_count": null,
   "metadata": {},
   "outputs": [],
   "source": [
    "# Restrict only to these countries to avoid unexpected costs and long executing times.\n",
    "country_map = {k:v for k,v in utils.get_ecaro_countries_mapping(priority=False).items() if k in COUNTRY}\n",
    "country_code_map = {v:k for k,v in country_map.items() }\n",
    "MODEL = 'gpt-4o'"
   ]
  },
  {
   "cell_type": "code",
   "execution_count": null,
   "metadata": {},
   "outputs": [],
   "source": [
    "df_narrative = pd.read_excel(upstream['03_coars_narratives']['data'])"
   ]
  },
  {
   "cell_type": "code",
   "execution_count": null,
   "metadata": {},
   "outputs": [],
   "source": [
    "print(df_narrative.groupby(['country','year'])['section_text'].unique())"
   ]
  },
  {
   "cell_type": "code",
   "execution_count": null,
   "metadata": {},
   "outputs": [],
   "source": [
    "print(df_narrative)"
   ]
  },
  {
   "cell_type": "code",
   "execution_count": null,
   "metadata": {},
   "outputs": [],
   "source": [
    "df_narrative['section_title'] = df_narrative['section_title'].apply(lambda x: x.title().replace(':','').strip())"
   ]
  },
  {
   "cell_type": "code",
   "execution_count": null,
   "metadata": {},
   "outputs": [],
   "source": [
    "# Identify sections that potentially discuss about innovation\n",
    "gender_mask = df_narrative['section_title'].str.contains('Contributions|Context')\n",
    "print(df_narrative[gender_mask]['section_title'].unique())"
   ]
  },
  {
   "cell_type": "code",
   "execution_count": null,
   "metadata": {},
   "outputs": [],
   "source": [
    "df_narrative = df_narrative[gender_mask].groupby(['country', 'year'], as_index=False).agg({'section_text': 'unique'}).copy()\n",
    "df_narrative['section_text'] = df_narrative['section_text'].str.join('\\n\\n')\n",
    "print(df_narrative.head())"
   ]
  },
  {
   "cell_type": "code",
   "execution_count": null,
   "metadata": {},
   "outputs": [],
   "source": [
    "df_list = []\n",
    "country_name = country_map.get(COUNTRY)\n",
    "\n",
    "\n",
    "country_mask = df_narrative['country'] == country_name\n",
    "\n",
    "years = sorted(df_narrative[country_mask]['year'].unique())\n",
    "\n",
    "for year in years:\n",
    "    year_mask = df_narrative['year'] == year\n",
    "    \n",
    "    try:\n",
    "        # We take only the text from the first section as it is the **context** section\n",
    "        text = df_narrative[country_mask & year_mask]['section_text'].iloc[0]\n",
    "    except IndexError:\n",
    "        # Skip if there's no narrative text for this combination of country and year\n",
    "        print(f\"No narrative text available for {country_name} in {year}\")\n",
    "        continue\n",
    "\n",
    "    print(f\"Summarizing gender for {country_name} in {year}\")\n",
    "    gender_activity = genai.summarise_gender(text, country_name, model=MODEL, api_type='openai')\n",
    "    \n",
    "    # Clean text by removing potential generated headers\n",
    "    gender_activity = utils.remove_section_title(gender_activity)\n",
    "    gender_activity_list = gender_activity.split('\\n-')[1:]  # Skip the first empty element after the split\n",
    "    \n",
    "    for inn in gender_activity_list:\n",
    "        # Split each gender_activity into goal area and its description\n",
    "        gender_activity_description = inn.split('**:')\n",
    "        \n",
    "        gender_activity_title = gender_activity_description[0].replace('- **','').replace('**', '').replace('\\n', '').strip()\n",
    "        gender_activity_text = gender_activity_description[1].replace('\\n', '').strip()\n",
    "        df_list.append([COUNTRY, country_name, year, gender_activity_title, gender_activity_text])\n",
    "\n",
    "\n",
    "df_gender_activity = pd.DataFrame(df_list, columns=['country_code', 'country', 'year', 'gender_activity_title', 'gender_activity_text'])"
   ]
  },
  {
   "cell_type": "code",
   "execution_count": null,
   "metadata": {},
   "outputs": [],
   "source": [
    "print(df_gender_activity.head())"
   ]
  },
  {
   "cell_type": "code",
   "execution_count": null,
   "metadata": {},
   "outputs": [],
   "source": [
    "# utils.write_sheet_to_excel(df_gender_activity.reset_index(), OUTPUT_DATA_DIR.joinpath('evidence_of_gender_activity.xlsx'), 'textual_evidence')\n",
    "output_path = Path(product['data'])\n",
    "output_path.parent.mkdir(parents=True, exist_ok=True)  # Create missing directories\n",
    "df_gender_activity.reset_index()\n",
    "df_gender_activity.to_excel(product['data'], index=False)"
   ]
  },
  {
   "cell_type": "code",
   "execution_count": null,
   "metadata": {},
   "outputs": [],
   "source": [
    "################################################################################################################################################################################################"
   ]
  }
 ],
 "metadata": {
  "kernelspec": {
   "display_name": "unicef-cpe",
   "language": "python",
   "name": "python3"
  },
  "language_info": {
   "codemirror_mode": {
    "name": "ipython",
    "version": 3
   },
   "file_extension": ".py",
   "mimetype": "text/x-python",
   "name": "python",
   "nbconvert_exporter": "python",
   "pygments_lexer": "ipython3",
   "version": "3.10.15"
  }
 },
 "nbformat": 4,
 "nbformat_minor": 4
}
