{
 "cells": [
  {
   "cell_type": "code",
   "execution_count": null,
   "metadata": {
    "tags": [
     "parameters"
    ]
   },
   "outputs": [],
   "source": [
    "# IMPORTANT: The parameters below are set only for running this notebook independently. \n",
    "# When executing the full Ploomber pipeline, these values will be overridden by the settings in `pipeline.yaml`. \n",
    "# Any modifications made here will not persist when running the pipeline.\n",
    "\n",
    "\n",
    "YEAR = 2018\n",
    "COUNTRY =  'ARM' # Code of the Country\n",
    "STARTING_YEAR = 2018\n",
    "upstream = {\n",
    "    \"03_coars_narratives\": {\n",
    "        \"data\": f\"../data/processed/{COUNTRY}/narrative_by_section.xlsx\",\n",
    "    }\n",
    "}\n",
    "product = {\n",
    "    \"data\": f\"../data/processed/{COUNTRY}/coar_context_summaries.xlsx\",\n",
    "}"
   ]
  },
  {
   "cell_type": "markdown",
   "metadata": {},
   "source": [
    "# Context\n",
    "\n",
    "This Notebook uses an LLM model to extract the context by year and overall from the coar summaries. "
   ]
  },
  {
   "cell_type": "code",
   "execution_count": null,
   "metadata": {},
   "outputs": [],
   "source": [
    "import re\n",
    "import pandas as pd\n",
    "from unicef_cpe.config import PROJ_ROOT\n",
    "from unicef_cpe import utils, genai\n",
    "from pathlib import Path"
   ]
  },
  {
   "cell_type": "code",
   "execution_count": null,
   "metadata": {},
   "outputs": [],
   "source": [
    "# Restrict only to these countries to avoid unexpected costs and long executing times.\n",
    "country_map = {k:v for k,v in utils.get_ecaro_countries_mapping(priority=False).items() if k in COUNTRY}\n",
    "country_code_map = {v:k for k,v in country_map.items() }\n",
    "MODEL = 'gpt-4o'"
   ]
  },
  {
   "cell_type": "code",
   "execution_count": null,
   "metadata": {},
   "outputs": [],
   "source": [
    "df_coars = pd.read_excel(upstream['03_coars_narratives']['data'])\n",
    "print('Shape:', df_coars.shape)\n",
    "print(df_coars.head())"
   ]
  },
  {
   "cell_type": "code",
   "execution_count": null,
   "metadata": {},
   "outputs": [],
   "source": [
    "## Get ONLY the first paragraph for Each Country and each Year as describing the context.\n",
    "df_coars = df_coars.groupby(['country_code', 'country', 'year']).first().reset_index()\n",
    "print(df_coars.head())"
   ]
  },
  {
   "cell_type": "code",
   "execution_count": null,
   "metadata": {},
   "outputs": [],
   "source": [
    "## NOTE. Let's focus only context AFTER YEAR\n",
    "print('Shape before:', df_coars.shape)\n",
    "year_mask = df_coars['year'] >= YEAR\n",
    "df_coars = df_coars[year_mask].copy()\n",
    "print('Shape After:', df_coars.shape)"
   ]
  },
  {
   "cell_type": "code",
   "execution_count": null,
   "metadata": {},
   "outputs": [],
   "source": [
    "print('Shape before:', df_coars.shape)\n",
    "\n",
    "df_coars['input'] = df_coars.apply(lambda row: '#### {section_title} in the Country in {year}\\n\\n{section_text}'.format(**row), axis=1)\n",
    "\n",
    "print('Shape after:', df_coars.shape)\n",
    "print(df_coars.head())"
   ]
  },
  {
   "cell_type": "code",
   "execution_count": null,
   "metadata": {},
   "outputs": [],
   "source": [
    "df_coars['input'].str.split().str.len().describe().round(1)"
   ]
  },
  {
   "cell_type": "code",
   "execution_count": null,
   "metadata": {},
   "outputs": [],
   "source": [
    "country_code_map"
   ]
  },
  {
   "cell_type": "code",
   "execution_count": null,
   "metadata": {},
   "outputs": [],
   "source": [
    "df_list = []\n",
    "\n",
    "country_name = country_map.get(COUNTRY)\n",
    "country_mask = df_coars['country'] == country_name\n",
    "\n",
    "years = sorted(df_coars[country_mask]['year'].unique())\n",
    "\n",
    "for year in years:\n",
    "    year_mask = df_coars['year'] == year\n",
    "    \n",
    "    try:\n",
    "        # We take only the text from the first section as it is the **context** section\n",
    "        text = df_coars[country_mask & year_mask]['input'].iloc[0]\n",
    "    except IndexError:\n",
    "        # Skip if there's no narrative text for this combination of country and year\n",
    "        print(f\"No narrative text available for {country_name} in {year}\")\n",
    "        continue\n",
    "\n",
    "    print(f\"Summarizing context for {country_name} in {year}\")\n",
    "    context = genai.summarise_coar_context(text, country_name, number_of_paragraphs='one', paragraph_length=100, model=MODEL, api_type='openai')\n",
    "    df_list.append([year, COUNTRY, country_name,  context])\n",
    "\n",
    "df_context_by_year = pd.DataFrame(df_list, columns=['year', 'country_code', 'country', 'context'])"
   ]
  },
  {
   "cell_type": "code",
   "execution_count": null,
   "metadata": {},
   "outputs": [],
   "source": [
    "print('Shape:', df_context_by_year.shape)\n",
    "print(df_context_by_year.head())"
   ]
  },
  {
   "cell_type": "code",
   "execution_count": null,
   "metadata": {},
   "outputs": [],
   "source": [
    "df_coars = df_coars.groupby(['country', 'section_title'], as_index=False).agg({'input': list})\n",
    "df_coars['input'] = df_coars['input'].str.join('\\n\\n')\n",
    "print('Shape:', df_coars.shape)\n",
    "print(df_coars.head())"
   ]
  },
  {
   "cell_type": "code",
   "execution_count": null,
   "metadata": {},
   "outputs": [],
   "source": [
    "df_list = []\n",
    "\n",
    "\n",
    "\n",
    "country_mask = df_coars['country'] == country_name    \n",
    "try:\n",
    "    # We take only the text from the first section as it is the **context** section\n",
    "    text = df_coars[country_mask]['input'].iloc[0]\n",
    "except IndexError:\n",
    "    # Skip if there's no narrative text for this combination of country and year\n",
    "    print(f\"No narrative text available for {country_name}\")\n",
    "    \n",
    "\n",
    "print(f\"Summarizing context for {country_name}\")\n",
    "context = genai.summarise_coar_context(text, country_name, number_of_paragraphs='two', paragraph_length=300, model=MODEL, api_type='openai')\n",
    "\n",
    "df_list.append([COUNTRY, country_name, context])\n",
    "\n",
    "df_context_overall = pd.DataFrame(df_list, columns=['country_code', 'country', 'context'])"
   ]
  },
  {
   "cell_type": "code",
   "execution_count": null,
   "metadata": {},
   "outputs": [],
   "source": [
    "print('Shape:', df_context_overall.shape)\n",
    "print(df_context_overall.head())"
   ]
  },
  {
   "cell_type": "code",
   "execution_count": null,
   "metadata": {},
   "outputs": [],
   "source": [
    "df_context_by_year.reset_index()\n",
    "df_context_overall.reset_index()\n",
    "\n",
    "output_path = Path(product['data'])\n",
    "output_path.parent.mkdir(parents=True, exist_ok=True)  # Create missing directories\n",
    "\n",
    "writer = pd.ExcelWriter(path=product['data'], engine='openpyxl', mode='w')\n",
    "\n",
    "df_context_by_year.to_excel(writer, sheet_name='context_by_year')\n",
    "df_context_overall.to_excel(writer, sheet_name='context_overall')\n",
    "writer.close()"
   ]
  },
  {
   "cell_type": "code",
   "execution_count": null,
   "metadata": {},
   "outputs": [],
   "source": [
    "################################################################################################################################################################################################"
   ]
  }
 ],
 "metadata": {
  "kernelspec": {
   "display_name": "unicef-cpe",
   "language": "python",
   "name": "python3"
  },
  "language_info": {
   "codemirror_mode": {
    "name": "ipython",
    "version": 3
   },
   "file_extension": ".py",
   "mimetype": "text/x-python",
   "name": "python",
   "nbconvert_exporter": "python",
   "pygments_lexer": "ipython3",
   "version": "3.10.15"
  }
 },
 "nbformat": 4,
 "nbformat_minor": 4
}
