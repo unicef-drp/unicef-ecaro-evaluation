{
 "cells": [
  {
   "cell_type": "code",
   "execution_count": null,
   "metadata": {
    "tags": [
     "parameters"
    ]
   },
   "outputs": [],
   "source": [
    "# IMPORTANT: The parameters below are set only for running this notebook independently. \n",
    "# When executing the full Ploomber pipeline, these values will be overridden by the settings in `pipeline.yaml`. \n",
    "# Any modifications here will not persist when running the pipeline.\n",
    "\n",
    "COUNTRY =  'ARM' # Code of the Country\n",
    "upstream = {'01_text_extraction':{'data':f'../data/interim/{COUNTRY}/unicef-ecaro-cpe-corpus.jsonl'}} # Path to save the final data product (stored under the 'data' key)\n",
    "product = {'data':f'../data/processed/{COUNTRY}/narrative_by_section.xlsx'}\n",
    "data_source = '../data/raw/insight-ram-summary-narrative-analysis'\n",
    "STARTING_YEAR = 2011"
   ]
  },
  {
   "cell_type": "markdown",
   "metadata": {},
   "source": [
    "### Extract Summary Narratives\n",
    "**Description**\n",
    "The **End-of-Year Summary Narratives** are documented in **COARs**. Summary narratives from **2018 onwards are available in CSV** format, while earlier years require extraction from PDF documents and categorization by section.\n",
    "\n",
    "This notebook performs the following tasks:\n",
    "\n",
    "1.\tExtracts **summary narratives from 2018 onwards** using available CSV data.\n",
    "2.\tIf STARTING_YEAR < 2018  the following steps are executed:\n",
    "\t* Uses the extract_section_titles function to retrieve section titles from PDF files. Since exact extraction is not possible, an approximate method is applied.\n",
    "\t* Creates a structured DataFrame, organizing the extracted sections by country and year for periods **before 2018**.\n",
    "3.\tMerges both DataFrames to generate a comprehensive dataset covering all available years."
   ]
  },
  {
   "cell_type": "markdown",
   "metadata": {},
   "source": []
  },
  {
   "cell_type": "code",
   "execution_count": null,
   "metadata": {},
   "outputs": [],
   "source": [
    "import re\n",
    "from pathlib import Path\n",
    "import pandas as pd\n",
    "import unicef_cpe \n",
    "from unicef_cpe.config import PROJ_ROOT, DATA_DIR"
   ]
  },
  {
   "cell_type": "code",
   "execution_count": null,
   "metadata": {},
   "outputs": [],
   "source": [
    "country_map = {k:v for k,v in unicef_cpe.utils.get_ecaro_countries_mapping(priority=False).items() if k in COUNTRY}\n",
    "country_code_map = {v:k for k,v in country_map.items() }"
   ]
  },
  {
   "cell_type": "code",
   "execution_count": null,
   "metadata": {},
   "outputs": [],
   "source": [
    "## Read End of the Summary narrative (COAR equivalent for available years.)\n",
    "df_list = []\n",
    "# for file_path in sorted(upstream_data['summary-narrative']):\n",
    "for file_path in sorted(Path(data_source).glob('*.csv')):\n",
    "    match = re.search(r'\\d{4}', file_path.name)\n",
    "    if not match:\n",
    "        print(f'Could not find a match in {file_path.name}. Skipping...')\n",
    "        continue\n",
    "    \n",
    "    df_coars = pd.read_csv(file_path)\n",
    "    df_coars['year'] = int(match.group())\n",
    "    df_coars['file_name']= file_path.name\n",
    "    df_coars['file_type']= 'summary-narrative'\n",
    "    df_list.append(df_coars)\n",
    "\n",
    "\n",
    "df_coars = pd.concat(df_list, axis=0, ignore_index=True)\n",
    "\n",
    "df_coars['NarrativeText'] = df_coars['NarrativeText'].apply(unicef_cpe.utils.clean_text)\n",
    "df_coars['country_code'] = df_coars['BUSINESS_AREA_NAME'].replace(country_code_map)\n",
    "\n",
    "#Filter only relevant country\n",
    "df_coars = df_coars[df_coars['country_code'].eq(COUNTRY)].copy()\n",
    "\n",
    "\n",
    "df_coars.columns = ['region', 'country', 'section_title', 'section_text', 'year', 'file_name', 'document_type', 'country_code']\n",
    "df_coars = df_coars[['country_code', 'country', 'year', 'section_title', 'section_text', 'file_name', 'document_type' ]].copy()\n",
    "\n",
    "print('Shape:', df_coars.shape)\n",
    "print(df_coars.head())"
   ]
  },
  {
   "cell_type": "code",
   "execution_count": null,
   "metadata": {},
   "outputs": [],
   "source": [
    "if STARTING_YEAR < 2018:\n",
    "    df_text = unicef_cpe.utils.read_corpora_jsonl(Path(upstream['01_text_extraction']['data']), 'coars')\n",
    "    df_text['country_code'] = df_text['country'].copy()\n",
    "    df_text['country'] = df_text['country'].replace(COUNTRY, value=None)\n",
    "    print('Shape:', df_text.shape)\n",
    "    print(df_text.head())"
   ]
  },
  {
   "cell_type": "code",
   "execution_count": null,
   "metadata": {},
   "outputs": [],
   "source": [
    "if STARTING_YEAR < 2018:\n",
    "    year_sections = {}\n",
    "    available_years = sorted(df_text['year'].unique())\n",
    "    for year in available_years:\n",
    "        # Example documents (replace with actual text from your documents)\n",
    "        documents = df_text[df_text['year'] == year]['text'].unique().tolist()\n",
    "        # Process multiple documents and get title frequency \n",
    "        # IMPORTANT: The title extraction is rule based and it might be not exact\n",
    "        title_frequency = unicef_cpe.document_processing.extract_section_titles_multiple_documents(documents)\n",
    "\n",
    "        # Filter titles that have \"page\" in it, Likeley just the page number\n",
    "        common_titles = [title for title in title_frequency if 'page' not in title.lower()]\n",
    "\n",
    "        year_sections[year] = common_titles"
   ]
  },
  {
   "cell_type": "code",
   "execution_count": null,
   "metadata": {},
   "outputs": [],
   "source": [
    "if STARTING_YEAR < 2018:\n",
    "    data = []\n",
    "\n",
    "    # Iterate over each document in the original DataFrame\n",
    "    for index, row in df_text.iterrows():\n",
    "        year = row['year']\n",
    "        # Extract section titles from the document\n",
    "        section_titles = year_sections[year]\n",
    "        \n",
    "        # Extract sections and their text based on the section titles\n",
    "        sections = unicef_cpe.document_processing.extract_sections_with_text(row['text'], section_titles)\n",
    "\n",
    "\n",
    "\n",
    "        # Add each section and its text to the new DataFrame\n",
    "        for section_title, section_text in sections:\n",
    "\n",
    "            # Clean the text \n",
    "            cleaned_section_text = unicef_cpe.utils.clean_text(section_text)\n",
    "            data.append({\n",
    "                'country_code': row['country_code'],\n",
    "                'country': row['country'],\n",
    "                'year': year,\n",
    "                'section_title': section_title,\n",
    "                'section_text': cleaned_section_text,\n",
    "                'year': row['year'],\n",
    "                'file_name': row['file_name'],\n",
    "                'file_type': row['file_type'],\n",
    "            })\n",
    "\n",
    "    # Create a new DataFrame from the collected data\n",
    "    df_sections = pd.DataFrame(data)"
   ]
  },
  {
   "cell_type": "code",
   "execution_count": null,
   "metadata": {},
   "outputs": [],
   "source": [
    "if STARTING_YEAR < 2018:\n",
    "    # Display or use the new DataFrame\n",
    "    print('Shape:', df_sections.shape)\n",
    "    df_sections.head()  # To view the first few rows"
   ]
  },
  {
   "cell_type": "code",
   "execution_count": null,
   "metadata": {},
   "outputs": [],
   "source": [
    "# Let's merge sections extracted directly from COARs before 2018 with summary narratives. \n",
    "# This is because summary narrative was not available before 2018\n",
    "df = df_coars.copy()\n",
    "if STARTING_YEAR < 2018:\n",
    "    df = pd.concat([df_sections[df_sections['year']<2018], df_coars]).copy()\n",
    "print(df.head())"
   ]
  },
  {
   "cell_type": "code",
   "execution_count": null,
   "metadata": {},
   "outputs": [],
   "source": [
    "\n",
    "output_path = Path(product['data'])\n",
    "output_path.parent.mkdir(parents=True, exist_ok=True)  # Create missing directories\n",
    "df.to_excel(product['data'], index=False)"
   ]
  },
  {
   "cell_type": "code",
   "execution_count": null,
   "metadata": {},
   "outputs": [],
   "source": [
    "################################################################################################################################################################################################"
   ]
  }
 ],
 "metadata": {
  "kernelspec": {
   "display_name": "unicef-ecaro-cpe",
   "language": "python",
   "name": "python3"
  },
  "language_info": {
   "codemirror_mode": {
    "name": "ipython",
    "version": 3
   },
   "file_extension": ".py",
   "mimetype": "text/x-python",
   "name": "python",
   "nbconvert_exporter": "python",
   "pygments_lexer": "ipython3",
   "version": "3.10.16"
  }
 },
 "nbformat": 4,
 "nbformat_minor": 2
}
