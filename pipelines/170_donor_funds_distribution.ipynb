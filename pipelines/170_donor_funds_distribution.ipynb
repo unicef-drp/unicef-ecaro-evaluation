{
 "cells": [
  {
   "cell_type": "code",
   "execution_count": null,
   "metadata": {
    "tags": [
     "parameters"
    ]
   },
   "outputs": [],
   "source": [
    "# IMPORTANT: The parameters below are set only for running this notebook independently. \n",
    "# When executing the full Ploomber pipeline, these values will be overridden by the settings in `pipeline.yaml`. \n",
    "# Any modifications made here will not persist when running the pipeline.\n",
    "\n",
    "\n",
    "COUNTRY = \"ARM\"\n",
    "data_source = [\n",
    "    \"data/raw/insights-contributions-income-analysis-cube/insights-contributions-income-analysis-cube-donor-name-country-level2.xlsx\",\n",
    "    \"data/raw/insight-finance-admin-donor-statement-cube\",\n",
    "]\n",
    "\n",
    "product = {\n",
    "    \"data\": f\"../data/processed/{COUNTRY}/cp_funds_stucture.xlsx\",\n",
    "}\n",
    "\n",
    "upstream = {\n",
    "    \"20_activities_programme_stucture\": {\n",
    "        \"data\": f\"../data/processed/{COUNTRY}/activities_programme_stucture.xlsx\",\n",
    "    }\n",
    "}"
   ]
  },
  {
   "cell_type": "markdown",
   "metadata": {},
   "source": [
    "\n",
    "This Notebook reads in the donor Hierarchy (Donor Name, Donor Country Name, and Donor level 2 Thematic group) and matches the donor names to the donors in 'insight finance admin donor statement cube' to determine the allocated funding by CP, funding source (RR, OR and OR - Emergency), level 2 Thematic group and donor."
   ]
  },
  {
   "cell_type": "code",
   "execution_count": null,
   "metadata": {},
   "outputs": [],
   "source": [
    "import pandas as pd\n",
    "import re\n",
    "from openpyxl import load_workbook\n",
    "from unicef_cpe.config import PROJ_ROOT\n",
    "from unicef_cpe.utils import *\n",
    "import unicef_cpe\n",
    "from pathlib import Path\n",
    "\n",
    "\n",
    "COUNTRIES_CODE = {k:v for k,v in get_ecaro_countries_mapping('iso','code', priority=False).items()  if k in COUNTRY}\n",
    "COUNTRIES_NAME = {k:v for k,v in get_ecaro_countries_mapping('name','code', priority=False).items()  if k in COUNTRY}\n",
    "# Example:\n",
    "# COUNTRIES_CODE = {'ARM': '0260', 'AZE': '0310', 'BIH': '0530', 'GEO': '1600', 'KAZ': '2390', 'MKD': '2660'}\n",
    "\n"
   ]
  },
  {
   "cell_type": "markdown",
   "metadata": {},
   "source": [
    "### Read in the Donor information:\n",
    "- Donor Name\n",
    "- Donor Country Name\n",
    "- Donor level 2 Thematic group"
   ]
  },
  {
   "cell_type": "code",
   "execution_count": null,
   "metadata": {},
   "outputs": [],
   "source": [
    "# ALL CAPS\n",
    "#all_capital_strings = all(isinstance(name, str) and name.isupper() for name in donors_names_list)\n",
    "\n",
    "# if false check that the extraction of names is correct\n",
    "#print(all_capital_strings)  # This will print True if all conditions are met, otherwise False"
   ]
  },
  {
   "cell_type": "markdown",
   "metadata": {},
   "source": [
    "**Read in Donor Names, Donor Country Name and Donor Class Level 2 and build a hierarchy**"
   ]
  },
  {
   "cell_type": "code",
   "execution_count": null,
   "metadata": {},
   "outputs": [],
   "source": [
    "# Read in file with hierarchy : Donor Name -> Donor Country Name -> Donor Level 2 Class\n",
    "# Check if there is a method to read hierarchy from excel files directly\n",
    "# file_path = RAW_DATA_DIR.joinpath('insights-contributions-income-analysis-cube',\n",
    "#                                   'insights-contributions-income-analysis-cube-donor-name-country-level2.xlsx')\n",
    "\n",
    "file_path = file_path = PROJ_ROOT / data_source[0]\n",
    "\n",
    "df_donors = pd.read_excel(file_path, skiprows=3, usecols=[0])\n",
    "df_donors.columns = df_donors.columns.str.lower().str.strip().str.replace(' ', '_')\n",
    "\n",
    "print('Shape at start', df_donors.shape)"
   ]
  },
  {
   "cell_type": "code",
   "execution_count": null,
   "metadata": {},
   "outputs": [],
   "source": [
    "# cleaning\n",
    "print('Shape before', df_donors.shape)\n",
    "to_remove = ['Grand Total', 'Unknown', 'UNKNOWN']\n",
    "# remove 'Grand Total'; Missing Values and Unknown values (handle those seperately)\n",
    "df_donors = df_donors[~df_donors['row_labels'].isin(to_remove) & df_donors['row_labels'].notna()]\n",
    "df_donors = df_donors.reset_index(drop=True)\n",
    "print('Entries should be removed in multiples of 3')\n",
    "print('Shape after ', df_donors.shape)"
   ]
  },
  {
   "cell_type": "code",
   "execution_count": null,
   "metadata": {},
   "outputs": [],
   "source": [
    "level2_list = ['Governments','Field Offices PSFR', 'Individuals (Others)',  \n",
    "               'Inter-Governmental Organisations', 'Inter-Organisational Arrangements', \n",
    "               'National Committees', 'Non-Governmental Organisation', \n",
    "               'Multi-donor', 'Regular Resources', 'Thematic']"
   ]
  },
  {
   "cell_type": "code",
   "execution_count": null,
   "metadata": {},
   "outputs": [],
   "source": [
    "# make columns for: 1. Donor Name, 2. Donor Country Name, 3. Donor level 2 Thematic group\n",
    "\n",
    "# Create the 'type' column and set it to None initially\n",
    "df_donors['type'] = None\n",
    "\n",
    "# compare to level2_list to work out where class_level2 entries are (would be better to updat from an excel file)\n",
    "df_donors.loc[df_donors['row_labels'].isin(level2_list), 'type'] = 'donor_class_level2'"
   ]
  },
  {
   "cell_type": "code",
   "execution_count": null,
   "metadata": {},
   "outputs": [],
   "source": [
    "# Fill blank rows above 'donor_class_level2' with 'donor_country_name'\n",
    "for i in range(1,len(df_donors)):\n",
    "    if df_donors['type'].iloc[i] == 'donor_class_level2':\n",
    "        # Fill rows above with 'donor_country_name'\n",
    "        if df_donors['type'].iloc[i-1] == None:\n",
    "            df_donors.at[i-1, 'type'] = 'donor_country_name'"
   ]
  },
  {
   "cell_type": "code",
   "execution_count": null,
   "metadata": {},
   "outputs": [],
   "source": [
    "# Fill blank rows with 'donor_name'\n",
    "df_donors['type'] = df_donors['type'].fillna('donor_name')"
   ]
  },
  {
   "cell_type": "code",
   "execution_count": null,
   "metadata": {},
   "outputs": [],
   "source": [
    "# Check classification makes sense\n",
    "assert df_donors['type'].str.count('donor_class_level2').sum() == df_donors['type'].str.count(\n",
    "    'donor_country_name').sum(), 'There is an issue with the donor -> donor country -> donor class2 classification'\n",
    "# Assert that row_labels are in capital letters for rows where type is 'donor_name'\n",
    "assert all(df_donors.loc[df_donors['type'] == 'donor_name', 'row_labels'].str.isupper()), 'Donor names have to be capitalized'"
   ]
  },
  {
   "cell_type": "code",
   "execution_count": null,
   "metadata": {},
   "outputs": [],
   "source": [
    "# create donor column for donor names\n",
    "df_donors['donor'] = None\n",
    "df_donors['donor'] = df_donors['row_labels'].where(df_donors['type'] == 'donor_name')\n",
    "df_donors['donor'] = df_donors['donor'].ffill()\n",
    "\n",
    "#create donor_level2 column for the donor classification\n",
    "df_donors['donor_level2'] = None\n",
    "df_donors['donor_level2'] = df_donors['row_labels'].where(df_donors['type'] == 'donor_class_level2')\n",
    "df_donors['donor_level2'] = df_donors['donor_level2'].bfill()"
   ]
  },
  {
   "cell_type": "code",
   "execution_count": null,
   "metadata": {},
   "outputs": [],
   "source": [
    "# build donor hierarchy: donor -> donor country -> donor class2,  from df_donors\n",
    "df_donors_hierarchy = df_donors[df_donors['type'] == 'donor_country_name'].copy()\n",
    "df_donors_hierarchy.rename(columns={'row_labels': 'donor_country'}, inplace=True)\n",
    "to_keep = ['donor', 'donor_country', 'donor_level2']\n",
    "\n",
    "df_donors_hierarchy= df_donors_hierarchy[to_keep]\n",
    "df_donors_hierarchy = df_donors_hierarchy.reset_index(drop=True)\n",
    "\n",
    "# add UNKNOWN -> Unknown -> Unknown to df_donors_hierarchy\n",
    "df_donors_hierarchy.loc[len(df_donors_hierarchy)] = ['UNKNOWN', 'Unknown', 'Unknown']\n",
    "\n",
    "donors_names_list = df_donors_hierarchy['donor'].unique().tolist()\n",
    "print('Number of donor entries in df:', df_donors_hierarchy.shape[0])\n",
    "print('Number of unique donors:', len(df_donors_hierarchy['donor'].unique()))"
   ]
  },
  {
   "cell_type": "markdown",
   "metadata": {},
   "source": [
    "Read in Funds and Output information:\n",
    " - Funds: RR, OR, OR - Emergency and Other funds \n",
    " - Donor Name if known\n",
    " - Output code"
   ]
  },
  {
   "cell_type": "code",
   "execution_count": null,
   "metadata": {},
   "outputs": [],
   "source": [
    "# read files to df and add funding type from excels\n",
    "# file_paths = RAW_DATA_DIR.joinpath('insight-finance-admin-donor-statement-cube').glob('*.xlsx')\n",
    "file_path = PROJ_ROOT / data_source[1]\n",
    "file_paths = Path(file_path).glob('*.xlsx')\n",
    "\n",
    "df_list = []\n",
    "\n",
    "for files in file_paths:\n",
    "    # Load the workbook and the specific sheet\n",
    "    workbook = load_workbook(filename=files, data_only=True)\n",
    "    sheet = workbook.active\n",
    "\n",
    "    # Read the data into a DataFrame\n",
    "    df_funds = pd.read_excel(files, skiprows=5)\n",
    "\n",
    "    # read the Fund Sub-Category and create a column funds_type\n",
    "    df_funds['funds_type'] = None\n",
    "\n",
    "    # Iterate through the rows and check for a row with Fund Sub-Category\n",
    "    for row in range(1, 15):  # Adjust the range as needed\n",
    "        cell = sheet[f'A{row}']  # Assuming the column in excel is A\n",
    "        if cell.value == 'Fund Sub-Category':  # Check if cell value is 'Fund Sub-Category'\n",
    "            df_funds['funds_type'] = sheet[f'B{row}'].value  # Assign the value from column B to df_funds['funds_type']\n",
    "            break  # Optionally break if you only want the first occurrence\n",
    "    df_list.append(df_funds.copy())\n",
    "\n",
    "df_funds = pd.concat(df_list, axis=0, ignore_index=True)\n",
    "\n",
    "print('Shape before:', df_funds.shape)\n",
    "# Remove any columns from the DataFrame that contain only NaN \n",
    "df_funds.dropna(axis=1, how=\"all\", inplace=True)\n",
    "print('Shape after:', df_funds.shape)"
   ]
  },
  {
   "cell_type": "code",
   "execution_count": null,
   "metadata": {},
   "outputs": [],
   "source": [
    "\n",
    "df_funds.columns = df_funds.columns.str.lower().str.strip().str.replace(' ', '_')\n",
    "df_funds = df_funds[df_funds['row_labels'] != 'Grand Total']\n",
    "\n",
    "# allocation refers to allocated funds (check this for plots)\n",
    "to_keep = ['row_labels', 'allocation', 'funds_type']\n",
    "df_funds = df_funds[to_keep]\n",
    "print(df_funds.shape)"
   ]
  },
  {
   "cell_type": "code",
   "execution_count": null,
   "metadata": {},
   "outputs": [],
   "source": [
    "# Make a source column with the type of sources\n",
    "# output matches country code/\n",
    "df_funds['type'] = df_funds['row_labels'].apply(lambda x: 'output' if str(x).count('/') >= 3 else None)\n",
    "#avoid counting twice the allocation\n",
    "df_funds['allocation'] = df_funds.apply(lambda row: row['allocation'] if row['type']!='output' else 0, 1)\n",
    "\n",
    "df_funds['output_code'] = df_funds['row_labels'].str.split(' ').str[0].where(df_funds['type'] == 'output')\n",
    "df_funds['output_code'] = df_funds['output_code'].ffill()\n",
    "\n",
    "# remove all type != output and keep only donors\n",
    "df_funds = df_funds[df_funds['type'] != 'output'].copy()\n",
    "print(df_funds.shape)"
   ]
  },
  {
   "cell_type": "markdown",
   "metadata": {},
   "source": [
    "**Matching CP to Output** through 20_activities_programme_stucture "
   ]
  },
  {
   "cell_type": "markdown",
   "metadata": {},
   "source": [
    "- **Dictionary with CPs**"
   ]
  },
  {
   "cell_type": "code",
   "execution_count": null,
   "metadata": {},
   "outputs": [],
   "source": [
    "df_activities = pd.read_excel(upstream[\"20_activities_programme_stucture\"][\"data\"])"
   ]
  },
  {
   "cell_type": "code",
   "execution_count": null,
   "metadata": {},
   "outputs": [],
   "source": [
    "df_activities.groupby('cp')['value'].sum()"
   ]
  },
  {
   "cell_type": "code",
   "execution_count": null,
   "metadata": {},
   "outputs": [],
   "source": [
    "cp_output_map = df_activities.groupby(\"output_code\")['cp'].unique().to_dict()\n",
    "cp_output_map = {k:v[0] for k,v in cp_output_map.items()}"
   ]
  },
  {
   "cell_type": "code",
   "execution_count": null,
   "metadata": {},
   "outputs": [],
   "source": [
    "# add country name from dictionary\n",
    "df_funds['country'] = df_funds['output_code'].apply(\n",
    "    lambda x: COUNTRY if str(x).startswith(COUNTRIES_CODE.get(COUNTRY) + '/') else None)\n",
    "\n",
    "print(f\"Before: {df_funds.shape}\")\n",
    "# remove all outputs for countries not in countries_list\n",
    "df_funds = df_funds[df_funds['country'].eq(COUNTRY)].copy()\n",
    "print(f\"After: {df_funds.shape}\")"
   ]
  },
  {
   "cell_type": "code",
   "execution_count": null,
   "metadata": {},
   "outputs": [],
   "source": [
    "# classify the cycles based on a dictionary:\n",
    "funds_dictionary = {'Other Resources - Emergency': 'OR - Emergency', 'Other Resources - Regular': 'OR', \n",
    "                    'Regular Resources': 'RR'}\n",
    "print('Shape before', df_funds.shape)\n",
    "df_funds['cp'] = df_funds['output_code'].replace(cp_output_map)\n",
    "\n",
    "# Filter out output that do not belong to mappend CP\n",
    "df_funds = df_funds[df_funds['cp'].str.contains(\"CP\")].copy()\n",
    "print('Shape after', df_funds.shape)"
   ]
  },
  {
   "cell_type": "code",
   "execution_count": null,
   "metadata": {},
   "outputs": [],
   "source": [
    "df_funds['funds_type'] = df_funds['funds_type'].map(funds_dictionary)\n",
    "df_funds['donor'] = df_funds['row_labels'] \n",
    "\n",
    "to_keep = ['donor', 'allocation', 'funds_type', 'country', 'output_code', 'cp']\n",
    "df_funds = df_funds[to_keep]\n",
    "\n",
    "\n",
    "print('Shape before', df_funds.shape)\n",
    "df_funds.dropna(subset=['cp'], inplace=True) # drops cycles that can't be classified (DM cycles from previous CP)\n",
    "print('Shape after', df_funds.shape)"
   ]
  },
  {
   "cell_type": "markdown",
   "metadata": {},
   "source": [
    "**Matching to Donors Hierarchy**"
   ]
  },
  {
   "cell_type": "code",
   "execution_count": null,
   "metadata": {},
   "outputs": [],
   "source": [
    "# Donor Names - Donor Country are not unique, but Donor - Donor Class Level 2 is (mostly!)\n",
    "\n",
    "df_to_merge = df_donors_hierarchy[['donor', 'donor_level2']].drop_duplicates()\n",
    "# ~ 2 donors have more than 1 type of class level2 in those cases concatenate the entries for 'donor_level2' \n",
    "# and create a new class. This should we don't assign the wrong class to the donor. \n",
    "# Group by 'donor' and aggregate 'donor_level2' by joining the entries\n",
    "df_to_merge = df_to_merge.groupby('donor', as_index=False).agg({\n",
    "    'donor_level2': lambda x: ', '.join(x)  # Concatenate values with a comma (or any separator you prefer)\n",
    "})\n",
    "print('Number of donors in df to merge:', df_to_merge.shape[0])\n",
    "print('Number of unique donors:', len(df_donors_hierarchy['donor'].unique()))"
   ]
  },
  {
   "cell_type": "code",
   "execution_count": null,
   "metadata": {},
   "outputs": [],
   "source": [
    "print('Shape before', df_funds.shape)\n",
    "df_funds = df_funds.merge(df_to_merge[['donor', 'donor_level2']], on=['donor'], how='left')\n",
    "print('Shape after', df_funds.shape)"
   ]
  },
  {
   "cell_type": "code",
   "execution_count": null,
   "metadata": {},
   "outputs": [],
   "source": [
    "# add start year for easier sorting\n",
    "df_funds['cp_funds_type'] = df_funds['cp'] + ': ' + df_funds['funds_type']\n",
    "df_funds['start_year'] = df_funds['cp'].str.extract(r'(\\d{4})')"
   ]
  },
  {
   "cell_type": "code",
   "execution_count": null,
   "metadata": {},
   "outputs": [],
   "source": [
    "# Fill None values of donor and donor_level_2\n",
    "df_funds['donor'] = df_funds['donor'].fillna('N.D.').copy()\n",
    "df_funds['donor_level2'] = df_funds['donor_level2'].fillna('N.D.').copy()"
   ]
  },
  {
   "cell_type": "markdown",
   "metadata": {},
   "source": [
    "**Aggregate Funds by Donor, Country and CP and write to Spreadsheet**"
   ]
  },
  {
   "cell_type": "code",
   "execution_count": null,
   "metadata": {},
   "outputs": [],
   "source": [
    "# aggregate by funds_type by donor and cp\n",
    "df_funds_agg = df_funds.groupby(['donor', 'donor_level2', 'cp', \n",
    "                                 'funds_type','start_year'], as_index=False)['allocation'].sum()\n",
    "print('Aggregated funds df', df_funds_agg.shape)\n",
    "\n",
    "# Drop entries where the absolute value of 'allocation' is less than 1 USD\n",
    "df_funds_agg = df_funds_agg[df_funds_agg['allocation'].abs() >= 1]\n",
    "print('Cleaned aggregated funds df', df_funds_agg.shape)"
   ]
  },
  {
   "cell_type": "code",
   "execution_count": null,
   "metadata": {},
   "outputs": [],
   "source": [
    "df_funds_agg.groupby(['cp','funds_type'])['allocation'].sum()"
   ]
  },
  {
   "cell_type": "code",
   "execution_count": null,
   "metadata": {},
   "outputs": [],
   "source": [
    "print('Unique donors in aggregated funds:', len(df_funds_agg['donor'].unique()))"
   ]
  },
  {
   "cell_type": "markdown",
   "metadata": {},
   "source": [
    "**Ouput to Excel** \n",
    "\n",
    "Output Funds  to cp_funds_stucture.xlsx"
   ]
  },
  {
   "cell_type": "code",
   "execution_count": null,
   "metadata": {},
   "outputs": [],
   "source": [
    "df_funds_agg.to_excel(product['data'], index=False)"
   ]
  },
  {
   "cell_type": "code",
   "execution_count": null,
   "metadata": {},
   "outputs": [],
   "source": [
    "####################################################################################################"
   ]
  }
 ],
 "metadata": {
  "kernelspec": {
   "display_name": "unicef-ecaro-cpe",
   "language": "python",
   "name": "python3"
  },
  "language_info": {
   "codemirror_mode": {
    "name": "ipython",
    "version": 3
   },
   "file_extension": ".py",
   "mimetype": "text/x-python",
   "name": "python",
   "nbconvert_exporter": "python",
   "pygments_lexer": "ipython3",
   "version": "3.10.16"
  }
 },
 "nbformat": 4,
 "nbformat_minor": 2
}
