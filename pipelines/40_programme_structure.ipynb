{
 "cells": [
  {
   "cell_type": "code",
   "execution_count": null,
   "metadata": {
    "tags": [
     "parameters"
    ]
   },
   "outputs": [],
   "source": [
    "# IMPORTANT: The parameters below are set only for running this notebook independently. \n",
    "# When executing the full Ploomber pipeline, these values will be overridden by the settings in `pipeline.yaml`. \n",
    "# Any modifications made here will not persist when running the pipeline.\n",
    "upstream = None\n",
    "COUNTRY =  'ARM' # Code of the Country\n",
    "product = {'data': f'../data/processed/{COUNTRY}/programme_structure.xlsx'}  # Path to save the final data product (stored under the 'data' key)\n",
    "data_source = 'data/raw/insight-programme-programme-structure/Programme Structure.csv'  # Path to the source data directory"
   ]
  },
  {
   "cell_type": "markdown",
   "metadata": {},
   "source": [
    "# Relevance\n",
    "\n",
    "This Notebook extracts programme structure including outcomes and outputs, their codes, descriptions, and country programme."
   ]
  },
  {
   "cell_type": "code",
   "execution_count": null,
   "metadata": {},
   "outputs": [],
   "source": [
    "import re\n",
    "import pandas as pd\n",
    "import unicef_cpe\n",
    "from unicef_cpe.config import PROJ_ROOT\n",
    "\n",
    "from unicef_cpe.utils import *\n",
    "from unicef_cpe.genai import *"
   ]
  },
  {
   "cell_type": "code",
   "execution_count": null,
   "metadata": {},
   "outputs": [],
   "source": [
    "country_map = {k:v for k,v in unicef_cpe.utils.get_ecaro_countries_mapping(priority=False).items() if k in COUNTRY}\n",
    "country_code_map = {v:k for k,v in country_map.items() }"
   ]
  },
  {
   "cell_type": "code",
   "execution_count": null,
   "metadata": {},
   "outputs": [],
   "source": [
    "file_path = PROJ_ROOT / data_source\n",
    "df_programme = pd.read_csv(file_path)"
   ]
  },
  {
   "cell_type": "code",
   "execution_count": null,
   "metadata": {},
   "outputs": [],
   "source": [
    "def cp_start_end_year(row):\n",
    "    # Regular expression to extract two years\n",
    "    year_regex = re.compile(r'(\\d{4})\\D+(\\d{4})')\n",
    "    \n",
    "    # Extract the 'BUSINESS_AREA' field\n",
    "    cp_name = row['COUNTRY_PROGRAMME_NAME']\n",
    "        \n",
    "    # Search for the year pattern in the 'BUSINESS_AREA' field\n",
    "    match = year_regex.search(cp_name)\n",
    "    \n",
    "    if match:\n",
    "        # If a match is found, extract start and end years\n",
    "        start_year, end_year = match.groups()\n",
    "        return int(start_year), int(end_year), f'CP ({start_year}-{end_year})'\n",
    "    else:\n",
    "        # If no match is found, return None for both years\n",
    "        return None, None, None\n",
    "\n",
    "# Apply the function to the DataFrame and expand the result into two new columns\n",
    "df_programme[['CP START YEAR', 'CP END YEAR', 'CP']] = df_programme.apply(cp_start_end_year, axis=1, result_type='expand')"
   ]
  },
  {
   "cell_type": "code",
   "execution_count": null,
   "metadata": {},
   "outputs": [],
   "source": [
    "df_programme['country'] = df_programme['BUSINESS_AREA'].apply(lambda x: x.split('-')[0].strip())\n",
    "df_programme['country_code'] = df_programme['country'].replace(country_code_map)"
   ]
  },
  {
   "cell_type": "code",
   "execution_count": null,
   "metadata": {},
   "outputs": [],
   "source": [
    "df_programme = df_programme[df_programme['country_code'].eq(COUNTRY)].copy()\n",
    "df_programme['country_code'].value_counts()"
   ]
  },
  {
   "cell_type": "code",
   "execution_count": null,
   "metadata": {},
   "outputs": [],
   "source": [
    "df_wp = df_programme[(df_programme['CP START YEAR'] > 2014)].copy()\n",
    "df_wp['UTILIZED'] = df_wp['UTILIZED'].str.replace(',','').astype(float)\n",
    "\n",
    "df_wp['IR_FULL_TEXT'] = df_wp['IR_FULL_TEXT'].str.replace('New Element', 'No Description Available')\n",
    "\n"
   ]
  },
  {
   "cell_type": "code",
   "execution_count": null,
   "metadata": {},
   "outputs": [],
   "source": [
    "df_wp['COUNTRY_PROGRAMME_NAME'] = df_wp['COUNTRY_PROGRAMME_NAME'].str.title()\n",
    "df_wp['PCR_NAME'] = df_wp['PCR_NAME'].str.title()\n",
    "df_wp['INTERMEDIATE_RESULT_NAME'] = df_wp['INTERMEDIATE_RESULT_NAME'].str.title()"
   ]
  },
  {
   "cell_type": "code",
   "execution_count": null,
   "metadata": {},
   "outputs": [],
   "source": [
    "df_wp = df_wp.groupby(['country','country_code', 'CP' ,'PCR_NAME', 'INTERMEDIATE_RESULT_NAME', 'IR_FULL_TEXT']).agg(\n",
    "    {'UTILIZED': 'sum'}\n",
    ").reset_index()"
   ]
  },
  {
   "cell_type": "code",
   "execution_count": null,
   "metadata": {},
   "outputs": [],
   "source": [
    "\n",
    "output_path = Path(product['data'])\n",
    "output_path.parent.mkdir(parents=True, exist_ok=True)  # Create missing directories\n",
    "df_wp.to_excel(product['data'], index=False)"
   ]
  },
  {
   "cell_type": "code",
   "execution_count": null,
   "metadata": {},
   "outputs": [],
   "source": [
    "################################################################################################################################################################################################"
   ]
  }
 ],
 "metadata": {
  "kernelspec": {
   "display_name": "unicef-ecaro-cpe",
   "language": "python",
   "name": "python3"
  },
  "language_info": {
   "codemirror_mode": {
    "name": "ipython",
    "version": 3
   },
   "file_extension": ".py",
   "mimetype": "text/x-python",
   "name": "python",
   "nbconvert_exporter": "python",
   "pygments_lexer": "ipython3",
   "version": "3.10.16"
  }
 },
 "nbformat": 4,
 "nbformat_minor": 2
}
