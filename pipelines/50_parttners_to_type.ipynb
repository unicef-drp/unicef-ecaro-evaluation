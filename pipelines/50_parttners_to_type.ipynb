{
 "cells": [
  {
   "cell_type": "code",
   "execution_count": null,
   "metadata": {
    "tags": [
     "parameters"
    ]
   },
   "outputs": [],
   "source": [
    "# IMPORTANT: The parameters below are set only for running this notebook independently. \n",
    "# When executing the full Ploomber pipeline, these values will be overridden by the settings in `pipeline.yaml`. \n",
    "# Any modifications made here will not persist when running the pipeline.\n",
    "\n",
    "\n",
    "COUNTRY =  'ARM' # Code of the Country\n",
    "product = {\n",
    "    \"data\": f\"../data/processed/{COUNTRY}/unsdcf-partner_type_mapping.xlsx\",\n",
    "    \"data2\": f\"../data/processed/{COUNTRY}/unsdcf-framework-with-partner-types.xlsx\",\n",
    "}\n",
    "\n",
    "\n",
    "data_source = ['data/raw/unsdcf-framework-2021-2025-exported-2024-11-18-3.csv', 'data/raw/insight-ram3-partner-types/ecar-partner-list.xlsx']\n",
    "\n"
   ]
  },
  {
   "cell_type": "markdown",
   "metadata": {},
   "source": [
    "This Notebook uses UNDSCF data and insight partner type data to classify contributing partners and implementation partners according to their partner types with an LLM."
   ]
  },
  {
   "cell_type": "code",
   "execution_count": null,
   "metadata": {},
   "outputs": [],
   "source": [
    "import pandas as pd\n",
    "import re\n",
    "from openpyxl import load_workbook\n",
    "import json\n",
    "import tqdm\n",
    "from typing import List\n",
    "\n",
    "from unicef_cpe.config import PROJ_ROOT\n",
    "\n",
    "from unicef_cpe.utils import *\n",
    "import unicef_cpe\n",
    "from pathlib import Path\n",
    "\n",
    "from unicef_cpe.genai import prompt"
   ]
  },
  {
   "cell_type": "code",
   "execution_count": null,
   "metadata": {},
   "outputs": [],
   "source": [
    "\n",
    "\n",
    "data_path = PROJ_ROOT / data_source[0]\n",
    "df = pd.read_csv(data_path)"
   ]
  },
  {
   "cell_type": "code",
   "execution_count": null,
   "metadata": {},
   "outputs": [],
   "source": [
    "df.columns"
   ]
  },
  {
   "cell_type": "code",
   "execution_count": null,
   "metadata": {},
   "outputs": [],
   "source": [
    "columns_to_classify = ['Contributing partners', 'Implementation partners']\n",
    "\n",
    "for c in columns_to_classify:\n",
    "    df[c + ' uses comma separator'] = 0"
   ]
  },
  {
   "cell_type": "code",
   "execution_count": null,
   "metadata": {},
   "outputs": [],
   "source": [
    "partner_data_path = PROJ_ROOT / data_source[1]\n",
    "\n",
    "partner_types_df = read_excel_sheet(partner_data_path, 'by BA, Partner & FR')\n",
    "partner_types_df.columns = partner_types_df.iloc[5]\n",
    "partner_types_df = partner_types_df.iloc[6:] \n",
    "partner_types_df = partner_types_df[['Partner Type', 'Partner and CSO Type']].drop_duplicates().rename({'Partner Type': 'category', 'Partner and CSO Type': 'sub_category', }, axis=1)\n",
    "partner_types_df.to_dict(orient='records')\n"
   ]
  },
  {
   "cell_type": "code",
   "execution_count": null,
   "metadata": {},
   "outputs": [],
   "source": [
    "classification_map = [\n",
    "    {'category': 'GOVERNMENT', 'sub_category': 'LOCAL GOVERNMENT'},\n",
    "    {'category': 'GOVERNMENT', 'sub_category': 'CENTRAL GOVERNMENT'},\n",
    " {'category': 'CIVIL SOCIETY ORGANIZATION',\n",
    "  'sub_category': 'CIVIL SOCIETY ORGANIZATION - NATIONAL NGO'},\n",
    " {'category': 'PRIVATE SECTOR', 'sub_category': 'PRIVATE SECTOR'},\n",
    " {'category': 'MULTI-LATERAL ORGANIZATION',\n",
    "  'sub_category': 'MULTI-LATERAL ORGANIZATION'},\n",
    " {'category': 'CIVIL SOCIETY ORGANIZATION',\n",
    "  'sub_category': 'CIVIL SOCIETY ORGANIZATION'},\n",
    " {'category': 'CIVIL SOCIETY ORGANIZATION',\n",
    "  'sub_category': 'CIVIL SOCIETY ORGANIZATION - INTERNATIONAL NGO'},\n",
    " {'category': 'UN AGENCY', 'sub_category': 'UN AGENCY'},\n",
    " {'category': 'CIVIL SOCIETY ORGANIZATION',\n",
    "  'sub_category': 'CIVIL SOCIETY ORGANIZATION - ACADEMIC INSTITUTION'},\n",
    " {'category': 'CIVIL SOCIETY ORGANIZATION',\n",
    "  'sub_category': 'CIVIL SOCIETY ORGANIZATION - COMMUNITY BASED ORGANIZATION'},\n",
    " {'category': 'CIVIL SOCIETY ORGANIZATION',\n",
    "  'sub_category': 'CIVIL SOCIETY ORGANIZATION - RED CROSS/RED CRESCENT NATIONAL SOCIETIES'},\n",
    " {'category': 'FINANCIAL SERVICE PROVIDER',\n",
    "  'sub_category': 'FINANCIAL SERVICE PROVIDER'}]"
   ]
  },
  {
   "cell_type": "code",
   "execution_count": null,
   "metadata": {},
   "outputs": [],
   "source": [
    "detect_comma_separator_message = \"\"\"You are a helpful assistant. \n",
    "Your task is to determine if each line contains multiple organization/government/entity names separated by a comma. \n",
    "You will receive names in the form of a tuple: (country, partner(s) name). \n",
    "'Core funds' is a specification and not a separate partner name.\n",
    "If multiple partner names are separated by a comma, reply with 1. If there is only one partner name, reply with 0.\"\"\"\n",
    "\n",
    "system_message = \"\"\"You are a helpful assistant. Your task is to classify the following partners from the UNSDCF report into the following categories and subcategories: %s\n",
    "You will receive a list of partners, with each partner on a separate line. \n",
    "Each line includes the country associated with the report and the partner's name. \n",
    "Your task is to provide for each line one of the JSON above.\n",
    "Provide the result as a list of JSON, code for list only, nothing more. \n",
    "If there is significant uncertainty about the partner type, use 'uncertain' for both the category and subcategory.\n",
    "Example:\n",
    "\n",
    "Input:\n",
    "(Armenia, UNICEF)\n",
    "(Armenia, UNFPA)\n",
    "\n",
    "Output:\n",
    "[{\"category\": \"UN AGENCY\", \"sub_category\": \"UN AGENCY\"}, {\"category\": \"UN AGENCY\", \"sub_category\": \"UN AGENCY\"}]\n",
    "\"\"\" % json.dumps(classification_map)\n",
    "\n",
    "system_message"
   ]
  },
  {
   "cell_type": "code",
   "execution_count": null,
   "metadata": {},
   "outputs": [],
   "source": [
    "seen = set()\n",
    "type_map = dict()\n",
    "tested_for_commas = list()"
   ]
  },
  {
   "cell_type": "code",
   "execution_count": null,
   "metadata": {},
   "outputs": [],
   "source": [
    "for idx, row in tqdm.tqdm(df.iterrows()):\n",
    "    country = row['Country']\n",
    "    for col in columns_to_classify:\n",
    "        col_value = row[col]\n",
    "        if col_value == '-':\n",
    "            continue\n",
    "        if ';' in col_value:\n",
    "            partners = col_value.split(';')\n",
    "        elif ',,,,,,' in col_value:  # NOT USED, BAD RESULTS\n",
    "            if str((country, col_value)) in tested_for_commas:\n",
    "                continue \n",
    "            comma_separator = prompt(str((country, col_value)), detect_comma_separator_message, model='gpt-4o')\n",
    "            tested_for_commas.append(str((country, col_value)))\n",
    "            print(str((country, col_value)), comma_separator)\n",
    "            try:\n",
    "                comma_separator = int(comma_separator)\n",
    "            except Exception as e:\n",
    "                print(f\"An error occurred when dealing with commas in partner {(country, partner)}\")\n",
    "                comma_separator = 0\n",
    "                \n",
    "            if comma_separator == 1:\n",
    "                df.loc[idx, col + ' uses comma separator'] = comma_separator\n",
    "                partners = col_value.split(',')\n",
    "            else:\n",
    "                partners = [col_value]\n",
    "        else:\n",
    "            partners = [col_value]\n",
    "\n",
    "        for partner in partners:\n",
    "            partner = partner.strip()\n",
    "            try:\n",
    "                type_map[(country, partner)]\n",
    "            except:\n",
    "                type_map[(country, partner)] = {}"
   ]
  },
  {
   "cell_type": "code",
   "execution_count": null,
   "metadata": {},
   "outputs": [],
   "source": [
    "partner_list = [p for p in type_map.keys() if type_map[p] == {}]\n",
    "batch_size = 10\n",
    "for i in range(0, len(partner_list), batch_size):\n",
    "    sublist = partner_list[i:i+batch_size]\n",
    "    partners_str = '\\n'.join(str(p) for p in sublist)\n",
    "    ai_classification = prompt(partners_str, system_message, model='gpt-4o')\n",
    "    result = json.loads(ai_classification)\n",
    "    if len(result) != len(sublist):\n",
    "        raise ValueError(\"Incorrect number of result received back\")\n",
    "    for p, t in zip(sublist, result):\n",
    "        type_map[p] = t\n",
    "    "
   ]
  },
  {
   "cell_type": "code",
   "execution_count": null,
   "metadata": {},
   "outputs": [],
   "source": [
    "for idx, row in tqdm.tqdm(df.iterrows()):\n",
    "    country = row['Country']\n",
    "    for col in columns_to_classify:\n",
    "        tmp_category, tmp_subcategory = [], []\n",
    "        col_value = row[col]\n",
    "        if col_value == '-':\n",
    "            continue\n",
    "        if row[col + ' uses comma separator'] == 1:\n",
    "            partners = col_value.split(',')\n",
    "        else:\n",
    "            partners = col_value.split(';')\n",
    "        for partner in partners:\n",
    "            partner = partner.strip()\n",
    "            json_dict = type_map[(country, partner)]\n",
    "            tmp_category.append(json_dict['category'])\n",
    "            tmp_subcategory.append(json_dict['sub_category'])\n",
    "        \n",
    "        df.loc[idx, col + ' partner category'] = ';'.join(tmp_category)\n",
    "        df.loc[idx, col + ' partner sub category'] = ';'.join(tmp_subcategory)"
   ]
  },
  {
   "cell_type": "code",
   "execution_count": null,
   "metadata": {},
   "outputs": [],
   "source": [
    "col_value = 'USAID, Government of the United Kingdom, Government of Germany, Government of the Republic of Korea'\n",
    "if col_value == '-':\n",
    "            pass\n",
    "if ';' in col_value:\n",
    "            partners = col_value.split(';')\n",
    "elif ',' in col_value:\n",
    "            if str((country, col_value)) in tested_for_commas:\n",
    "                pass \n",
    "            comma_separator = prompt(str((country, col_value)), detect_comma_separator_message, model='gpt-4o')\n",
    "            tested_for_commas.append(str((country, col_value)))\n",
    "            try:\n",
    "                comma_separator = int(comma_separator)\n",
    "            except Exception as e:\n",
    "                print(f\"An error occurred when dealing with commas in partner {(country, partner)}\")\n",
    "                comma_separator = 0\n",
    "                \n",
    "            if comma_separator == 1:\n",
    "                df.loc[idx, col + ' uses comma separator'] = comma_separator\n",
    "                partners = col_value.split(',')\n",
    "            else:\n",
    "                partners = [col_value]\n",
    "else:\n",
    "            partners = [col_value]\n",
    "\n",
    "partners"
   ]
  },
  {
   "cell_type": "code",
   "execution_count": null,
   "metadata": {},
   "outputs": [],
   "source": [
    "partner_type_df = pd.DataFrame(data=type_map.values(), index=type_map.keys()).reset_index()\n",
    "partner_type_df.columns = ['country', 'partner', 'category', 'sub_category']\n",
    "\n",
    "# write_sheet_to_excel(partner_type_df, file_path=OUTPUT_DATA_DIR / 'unsdcf-partner_type_mapping.xlsx')\n",
    "partner_type_df.to_excel(product['data'], index=False) "
   ]
  },
  {
   "cell_type": "code",
   "execution_count": null,
   "metadata": {},
   "outputs": [],
   "source": [
    "# write_sheet_to_excel(df, file_path=OUTPUT_DATA_DIR / 'unsdcf-framework-with-partner-types.xlsx')\n",
    "df.to_excel(product['data2'], index=False)"
   ]
  }
 ],
 "metadata": {
  "kernelspec": {
   "display_name": "rowsquared",
   "language": "python",
   "name": "python3"
  },
  "language_info": {
   "codemirror_mode": {
    "name": "ipython",
    "version": 3
   },
   "file_extension": ".py",
   "mimetype": "text/x-python",
   "name": "python",
   "nbconvert_exporter": "python",
   "pygments_lexer": "ipython3",
   "version": "3.12.4"
  }
 },
 "nbformat": 4,
 "nbformat_minor": 2
}
