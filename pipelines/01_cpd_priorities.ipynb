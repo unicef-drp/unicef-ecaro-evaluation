{
 "cells": [
  {
   "cell_type": "code",
   "execution_count": null,
   "metadata": {
    "tags": [
     "parameters"
    ]
   },
   "outputs": [],
   "source": [
    "# IMPORTANT: The parameters below are set only for running this notebook independently. \n",
    "# When executing the full Ploomber pipeline, these values will be overridden by the settings in `pipeline.yaml`. \n",
    "# Any modifications made here will not persist when running the pipeline.\n",
    "upstream = None\n",
    "COUNTRY =  'ARM' # Code of the Country\n",
    "product = {'data': f'../data/processed/{COUNTRY}/CPD_priorities.xlsx'}  # Path to save the final data product (stored under the 'data' key)\n",
    "data_source = 'data/raw/unicef-ecaro-cpd-priorities.xlsx'  # Path to the source data directory"
   ]
  },
  {
   "cell_type": "markdown",
   "metadata": {},
   "source": [
    "# Relevance\n",
    "\n",
    "This Notebook uses an LLM model to extract priorities from Country Programme Documents (CPDs) by matching section titles (copy of **CPD Mining** in 01_main). The Notebook uses a manually generated dataset compiled by copy-pasting text from the respective Country Programme Documents (CPDs) sections."
   ]
  },
  {
   "cell_type": "code",
   "execution_count": null,
   "metadata": {},
   "outputs": [],
   "source": [
    "import re\n",
    "import pandas as pd\n",
    "from pathlib import Path\n",
    "import unicef_cpe as cpe\n",
    "from tqdm import tqdm\n",
    "from unicef_cpe.config import PROJ_ROOT\n",
    "\n",
    "MODEL = 'gpt-4o'\n",
    "country_map = {k:v for k,v in cpe.utils.get_ecaro_countries_mapping(priority=False).items() if k in COUNTRY}\n",
    "country_code_map = {v:k for k,v in country_map.items() }\n"
   ]
  },
  {
   "cell_type": "code",
   "execution_count": null,
   "metadata": {},
   "outputs": [],
   "source": [
    "file_path = PROJ_ROOT / data_source\n",
    "df_priorities = pd.read_excel(file_path)\n",
    "\n",
    "print('Shape before:', df_priorities.shape)\n",
    "\n",
    "mask = df_priorities['country'].eq(COUNTRY)\n",
    "df_priorities = df_priorities[mask]\n",
    "print('Shape after:', df_priorities.shape)\n",
    "print(df_priorities.head())"
   ]
  },
  {
   "cell_type": "code",
   "execution_count": null,
   "metadata": {},
   "outputs": [],
   "source": [
    "print('Shape before:', df_priorities.shape)\n",
    "\n",
    "df_priorities['input'] = df_priorities.apply(lambda row: '### {priority} ({period})\\n\\n{text}'.format(**row), axis=1)\n",
    "for index, row in tqdm(df_priorities.iterrows()):\n",
    "    df_priorities.loc[index, 'summary'] = cpe.genai.summarise_cpd_priority(row['input'], model=MODEL)\n",
    "df_priorities.drop('input', axis=1, inplace=True)\n",
    "\n",
    "print('Shape after:', df_priorities.shape)\n",
    "print(df_priorities.head())"
   ]
  },
  {
   "cell_type": "code",
   "execution_count": null,
   "metadata": {},
   "outputs": [],
   "source": [
    "output_path = Path(product['data'])\n",
    "output_path.parent.mkdir(parents=True, exist_ok=True)  # Create missing directories\n",
    "df_priorities.to_excel(product['data'], index=False)"
   ]
  }
 ],
 "metadata": {
  "kernelspec": {
   "display_name": "rowsquared",
   "language": "python",
   "name": "python3"
  },
  "language_info": {
   "codemirror_mode": {
    "name": "ipython",
    "version": 3
   },
   "file_extension": ".py",
   "mimetype": "text/x-python",
   "name": "python",
   "nbconvert_exporter": "python",
   "pygments_lexer": "ipython3",
   "version": "3.12.4"
  }
 },
 "nbformat": 4,
 "nbformat_minor": 4
}
