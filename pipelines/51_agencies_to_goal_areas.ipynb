{
 "cells": [
  {
   "cell_type": "code",
   "execution_count": null,
   "metadata": {
    "tags": [
     "parameters"
    ]
   },
   "outputs": [],
   "source": [
    "# IMPORTANT: The parameters below are set only for running this notebook independently. \n",
    "# When executing the full Ploomber pipeline, these values will be overridden by the settings in `pipeline.yaml`. \n",
    "# Any modifications made here will not persist when running the pipeline.\n",
    "\n",
    "\n",
    "COUNTRY = \"ARM\"\n",
    "upstream = {\n",
    "    \"50_parttners_to_type\": {\n",
    "        \"data\": f\"../data/processed/ARM/unsdcf-partner_type_mapping.xlsx\",\n",
    "        \"data2\": f\"../data/processed/ARM/unsdcf-framework-with-partner-types.xlsx\",\n",
    "    }\n",
    "}\n",
    "product = {\n",
    "    \"data\": f\"../data/processed/{COUNTRY}/agencies_SDG_and_outcomes.xlsx\",\n",
    "}\n",
    "data_source = None"
   ]
  },
  {
   "cell_type": "markdown",
   "metadata": {},
   "source": [
    "This Notebook uses UNDSCF data to determine agency funding by SDG (Sustainable Development Goal) Area and count outputs/outcomes per agency."
   ]
  },
  {
   "cell_type": "code",
   "execution_count": null,
   "metadata": {},
   "outputs": [],
   "source": [
    "import pandas as pd\n",
    "import numpy as np\n",
    "import re\n",
    "from openpyxl import load_workbook\n",
    "from pathlib import Path\n",
    "from unicef_cpe.config import PROJ_ROOT\n",
    "from unicef_cpe.utils import *\n",
    "import unicef_cpe\n",
    "from unicef_cpe.plotting import SDG_goals"
   ]
  },
  {
   "cell_type": "code",
   "execution_count": null,
   "metadata": {},
   "outputs": [],
   "source": [
    "country_map = {k:v for k,v in get_ecaro_countries_mapping(priority=False).items() if k in COUNTRY}\n",
    "country_code_map = {v:k for k,v in country_map.items() }"
   ]
  },
  {
   "cell_type": "code",
   "execution_count": null,
   "metadata": {},
   "outputs": [],
   "source": [
    "#Read in the classified output excel\n",
    "df_agencies = pd.read_excel(upstream['50_parttners_to_type']['data2'])\n",
    "df_agencies.rename(lambda x: x.lower().replace(' ', '_'), axis=1, inplace=True)\n",
    "print('Shape:', df_agencies.shape)"
   ]
  },
  {
   "cell_type": "code",
   "execution_count": null,
   "metadata": {},
   "outputs": [],
   "source": [
    "to_keep = ['country', 'plan_name', 'outcome', 'output', 'sdg_goals',\n",
    "           'contributing_partners', 'implementation_partners', 'agencies','agency_abbreviations',\n",
    "           'contributing_partners_partner_category','contributing_partners_partner_sub_category',\n",
    "           'implementation_partners_partner_category', 'implementation_partners_partner_sub_category', \n",
    "           'total_required_resources', 'total_available_resources', 'total_expenditure_resources',\n",
    "           '2021_expenditure', '2022_expenditure', '2023_expenditure', '2024_expenditure'\n",
    "           ]\n",
    "\n",
    "# 'outcome_code', 'output_code', \n",
    "df_agencies = df_agencies[to_keep]\n",
    "df_agencies['country'] = df_agencies['country'].replace(country_code_map)\n",
    "df_agencies.rename(columns={'agencies': 'agencies_full_name', 'total_expenditure_resources':'total_expenditure',\n",
    "                            'total_required_resources': 'total_required', 'total_available_resources': 'total_available',\n",
    "                            'contributing_partners_partner_category' : 'contributing_partners_category',\n",
    "                            'implementation_partners_partner_category' : 'implementation_partners_category'\n",
    "                            }, inplace=True)\n",
    "print('Shape:', df_agencies.shape)"
   ]
  },
  {
   "cell_type": "markdown",
   "metadata": {},
   "source": [
    "**Multiple SDG and agencies; Unknown SDG:**"
   ]
  },
  {
   "cell_type": "code",
   "execution_count": null,
   "metadata": {},
   "outputs": [],
   "source": [
    "# Extract numbers from the sdg_goals column\n",
    "df_agencies['sdg_goal_codes'] = df_agencies['sdg_goals'].str.findall(r'(\\b[1-9]\\b|\\b1[0-7]\\b)')  # Finding numbers 1-17\n",
    "# Join multiple numbers with a comma\n",
    "df_agencies['sdg_goal_codes'] = df_agencies['sdg_goal_codes'].apply(lambda x: ', '.join(x) if x else None)\n",
    "df_agencies['sdg_goal_codes'] = df_agencies['sdg_goal_codes'].fillna('Unknown')\n",
    "\n",
    "# if there are multiple sdg_goal_codes then replace with 'Multiple'\n",
    "df_agencies['sdg_goal_codes'] = df_agencies['sdg_goal_codes'].apply(lambda x: 'Multiple' if ',' in str(x) else x)\n",
    "# map SDG goal names from dictionary SDG_goals for consistency\n",
    "df_agencies['SDG'] = df_agencies['sdg_goal_codes'].map(SDG_goals)"
   ]
  },
  {
   "cell_type": "code",
   "execution_count": null,
   "metadata": {},
   "outputs": [],
   "source": [
    "# Function to assign cases with multiple agencies: \n",
    "# If multiple agencies: 1. 'Multiple (incl. UNICEF)' or 2. 'Multiple (excl. UNICEF)'\n",
    "def determine_agency_status(agency_abbr):\n",
    "    if ',' in agency_abbr or ';' in agency_abbr:\n",
    "        if 'UNICEF' in agency_abbr:\n",
    "            return 'Multiple (incl. UNICEF)'\n",
    "        else:\n",
    "            return 'Multiple (excl. UNICEF)'\n",
    "    else:\n",
    "        return agency_abbr\n",
    "\n",
    "# Create the new column 'agencies' to account for Mutiple agencies in a row (1. incl. UNICEF or 2. excl. UNICEF)\n",
    "df_agencies['agencies'] = df_agencies['agency_abbreviations'].apply(determine_agency_status)"
   ]
  },
  {
   "cell_type": "markdown",
   "metadata": {},
   "source": [
    "**Counting outputs/outcomes per agency:**\n",
    "\n",
    "- if multiple agencies are listed for an outcome/output we count the outcome/output for each (for example if we have UNICEF, WHO for Outcome 1.1, we assign this outcome to both UNICEF and WHO)"
   ]
  },
  {
   "cell_type": "code",
   "execution_count": null,
   "metadata": {},
   "outputs": [],
   "source": [
    "# print('Outcomes:', df_agencies['outcome'].unique())\n",
    "print('Outcome count:', len(df_agencies['outcome'].unique()))\n",
    "\n",
    "# print('Outputs:', df_agencies['output'].unique())\n",
    "print('Output count:', len(df_agencies['output'].unique()))"
   ]
  },
  {
   "cell_type": "code",
   "execution_count": null,
   "metadata": {},
   "outputs": [],
   "source": [
    "df_out = df_agencies[['country', 'outcome', 'output', 'agency_abbreviations']].copy()"
   ]
  },
  {
   "cell_type": "code",
   "execution_count": null,
   "metadata": {},
   "outputs": [],
   "source": [
    "# First, replace any instances of semicolons and commas with a common delimiter (e.g., a comma)\n",
    "df_out['agency_abbreviations'] = df_out['agency_abbreviations'].str.replace(';', ',')\n",
    "\n",
    "# Now split the agencies and explode the DataFrame\n",
    "# there are sometimes multiple , and ; separating the agency names so we will end up with blank agency entries\n",
    "df_out['agency_abbreviations'] = df_out['agency_abbreviations'].str.split(',')\n",
    "df_out = df_out.explode('agency_abbreviations')\n",
    "print('Before', df_out.shape)\n",
    "df_out['agency_abbreviations'] = df_out['agency_abbreviations'].str.strip()\n",
    "# remove blank agency entries '' \n",
    "df_out = df_out[df_out['agency_abbreviations'].str.strip() != '']\n",
    "df_out = df_out.drop_duplicates()\n",
    "print('After', df_out.shape)"
   ]
  },
  {
   "cell_type": "code",
   "execution_count": null,
   "metadata": {},
   "outputs": [],
   "source": [
    "def count_instances(df, name):\n",
    "    df = df.drop_duplicates()\n",
    "    df = df.groupby(['country', 'agency_abbreviations']).size().reset_index(name=name)\n",
    "    return df"
   ]
  },
  {
   "cell_type": "code",
   "execution_count": null,
   "metadata": {},
   "outputs": [],
   "source": [
    "df_outcome = count_instances(df_out[['country', 'agency_abbreviations', 'outcome']].copy(), 'Outcome Count') \n",
    "df_output = count_instances(df_out[['country', 'agency_abbreviations', 'output']].copy(), 'Output Count') \n",
    "\n",
    "df_out_count = df_outcome.merge(df_output, how='left')\n",
    "df_count = df_out_count.melt(id_vars=['country','agency_abbreviations'], \n",
    "                         value_vars=['Outcome Count', 'Output Count'],\n",
    "                         var_name='type', \n",
    "                         value_name='count')\n",
    "\n"
   ]
  },
  {
   "cell_type": "markdown",
   "metadata": {},
   "source": [
    "**Write to Spreadsheet**"
   ]
  },
  {
   "cell_type": "code",
   "execution_count": null,
   "metadata": {},
   "outputs": [],
   "source": [
    "output_path = Path(product['data'])\n",
    "output_path.parent.mkdir(parents=True, exist_ok=True)  # Create missing directories\n",
    "df_agencies.to_excel(product['data'], index=False)"
   ]
  },
  {
   "cell_type": "code",
   "execution_count": null,
   "metadata": {},
   "outputs": [],
   "source": []
  }
 ],
 "metadata": {
  "kernelspec": {
   "display_name": "unicef-ecaro-cpe",
   "language": "python",
   "name": "python3"
  },
  "language_info": {
   "codemirror_mode": {
    "name": "ipython",
    "version": 3
   },
   "file_extension": ".py",
   "mimetype": "text/x-python",
   "name": "python",
   "nbconvert_exporter": "python",
   "pygments_lexer": "ipython3",
   "version": "3.10.16"
  }
 },
 "nbformat": 4,
 "nbformat_minor": 2
}
