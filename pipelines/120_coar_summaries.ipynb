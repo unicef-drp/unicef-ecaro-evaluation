{
 "cells": [
  {
   "cell_type": "code",
   "execution_count": null,
   "metadata": {
    "tags": [
     "parameters"
    ]
   },
   "outputs": [],
   "source": [
    "# IMPORTANT: The parameters below are set only for running this notebook independently. \n",
    "# When executing the full Ploomber pipeline, these values will be overridden by the settings in `pipeline.yaml`. \n",
    "# Any modifications made here will not persist when running the pipeline.\n",
    "COUNTRY =  'ARM' # Code of the Country\n",
    "upstream = {\n",
    "    \"100_coar_sections\": {\n",
    "        \"data\": f\"../data/processed/{COUNTRY}/COAR_Sections.xlsx\",\n",
    "    }\n",
    "}\n",
    "product = {\n",
    "    \"data\": f\"../data/processed/{COUNTRY}/coars_innovation_summary.xlsx\",\n",
    "}"
   ]
  },
  {
   "cell_type": "markdown",
   "metadata": {},
   "source": [
    "This Notebook is a revision of the previously AI generated **Summarising Narratives** in 01_main, which provides a summary of the COAR contributions from COAR text. "
   ]
  },
  {
   "cell_type": "code",
   "execution_count": null,
   "metadata": {},
   "outputs": [],
   "source": [
    "import re\n",
    "from pathlib import Path\n",
    "import importlib\n",
    "import pandas as pd\n",
    "from tqdm import tqdm\n",
    "import unicef_cpe as cpe\n",
    "from unicef_cpe.config import PROJ_ROOT\n"
   ]
  },
  {
   "cell_type": "code",
   "execution_count": null,
   "metadata": {},
   "outputs": [],
   "source": [
    "MODEL = 'gpt-4o'\n",
    "country_map = {k:v for k,v in cpe.utils.get_ecaro_countries_mapping(priority=False).items() if k in COUNTRY}\n",
    "country_code_map = {v:k for k,v in country_map.items() }"
   ]
  },
  {
   "cell_type": "code",
   "execution_count": null,
   "metadata": {},
   "outputs": [],
   "source": [
    "\n",
    "df_coars = pd.read_excel(upstream['100_coar_sections']['data'])\n",
    "\n",
    "# Remove unnecessary countries for efficiency\n",
    "mask = df_coars['country'].eq(COUNTRY)\n",
    "\n",
    "df_coars = df_coars[mask].copy()\n",
    "\n",
    "df_summaries = df_coars[['country']].drop_duplicates(ignore_index=True)\n",
    "df_summaries.set_index('country', inplace=True)\n",
    "print('Shape:', df_summaries.shape)\n",
    "print(df_summaries.head())"
   ]
  },
  {
   "cell_type": "code",
   "execution_count": null,
   "metadata": {},
   "outputs": [],
   "source": [
    "print('Shape before:', df_coars.shape)\n",
    "\n",
    "df_coars['input'] = df_coars.apply(lambda row: '### {section} in the Country in {year}\\n\\n{text}'.format(**row), axis=1)\n",
    "df_coars = df_coars.groupby(['country', 'section'], as_index=False).agg({'input': list})\n",
    "df_coars['input'] = df_coars['input'].str.join('\\n\\n')\n",
    "\n",
    "print('Shape after:', df_coars.shape)\n",
    "print(df_coars.head())"
   ]
  },
  {
   "cell_type": "code",
   "execution_count": null,
   "metadata": {},
   "outputs": [],
   "source": [
    "df_coars['section'].value_counts()"
   ]
  },
  {
   "cell_type": "code",
   "execution_count": null,
   "metadata": {},
   "outputs": [],
   "source": [
    "df_coars['input'].str.split().str.len().describe().round(1)"
   ]
  },
  {
   "cell_type": "code",
   "execution_count": null,
   "metadata": {},
   "outputs": [],
   "source": [
    "importlib.reload(cpe.genai)\n",
    "\n",
    "mapping = {\n",
    "   # 'context': cpe.genai.summarise_coar_context,\n",
    "    'contributions': cpe.genai.summarise_coar_contributions,\n",
    "    #'innovations': cpe.genai.summarise_coar_innovations,\n",
    "    #'partnerships': cpe.genai.summarise_coar_partnerships,\n",
    "}\n",
    "\n",
    "for index, row in tqdm(df_coars.iterrows()):\n",
    "    for keyword, summarise_fn in mapping.items():\n",
    "        if keyword in row['section'].lower():\n",
    "            summary = summarise_fn(row['input'][:110_000], country_map.get(row['country']), model=MODEL)\n",
    "            df_summaries.loc[row['country'], f'{keyword}_summary'] = summary\n",
    "            break\n",
    "    else:\n",
    "        print('No matches for {} section at index {}.'.format(row['section'], index))\n",
    "print('Shape:', df_summaries.shape)\n",
    "print(df_summaries.head())"
   ]
  },
  {
   "cell_type": "code",
   "execution_count": null,
   "metadata": {},
   "outputs": [],
   "source": [
    "output_path = Path(product['data'])\n",
    "output_path.parent.mkdir(parents=True, exist_ok=True)  # Create missing directories\n",
    "df_summaries.to_excel(product['data'])"
   ]
  }
 ],
 "metadata": {
  "kernelspec": {
   "display_name": "rowsquared",
   "language": "python",
   "name": "python3"
  },
  "language_info": {
   "codemirror_mode": {
    "name": "ipython",
    "version": 3
   },
   "file_extension": ".py",
   "mimetype": "text/x-python",
   "name": "python",
   "nbconvert_exporter": "python",
   "pygments_lexer": "ipython3",
   "version": "3.12.4"
  }
 },
 "nbformat": 4,
 "nbformat_minor": 4
}
