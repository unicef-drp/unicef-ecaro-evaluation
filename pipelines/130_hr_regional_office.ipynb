{
 "cells": [
  {
   "cell_type": "code",
   "execution_count": null,
   "metadata": {
    "tags": [
     "parameters"
    ]
   },
   "outputs": [],
   "source": [
    "# IMPORTANT: The parameters below are set only for running this notebook independently. \n",
    "# When executing the full Ploomber pipeline, these values will be overridden by the settings in `pipeline.yaml`. \n",
    "# Any modifications made here will not persist when running the pipeline.\n",
    "\n",
    "\n",
    "YEAR = 2018\n",
    "COUNTRY =  'ARM' # Code of the Country\n",
    "\n",
    "upstream = {\n",
    "    \"20_activities_programme_stucture\": {\n",
    "        \"data\": f\"../data/processed/{COUNTRY}/activities_programme_stucture.xlsx\",\n",
    "    }\n",
    "}\n",
    "product = {\n",
    "    \"data_staff\": f\"../data/processed/{COUNTRY}/staff_data.xlsx\",\n",
    "    \"data_staff_thematic\": f\"../data/processed/{COUNTRY}/staff_thematic.xlsx\",\n",
    "    \"data_hr_count_against_utilized_by_goal_area\": f\"../data/processed/{COUNTRY}/hr_count_against_utilized_by_goal_area.xlsx\",\n",
    "}\n",
    "\n",
    "\n",
    "data_source = f'data/raw/hr-regional-office/Staff data 2024-2016.xlsx'"
   ]
  },
  {
   "cell_type": "markdown",
   "metadata": {},
   "source": [
    "This Notebook analyzes HR Data to determine staff distribution by Nationality, Appointment Type, Post Level, Goal Area, and Thematic Area by year. Funds utilization per staff in different goal areas and staff turnover is also examined."
   ]
  },
  {
   "cell_type": "code",
   "execution_count": null,
   "metadata": {},
   "outputs": [],
   "source": [
    "from pathlib import Path\n",
    "import re\n",
    "import os\n",
    "import pandas as pd\n",
    "import numpy as np\n",
    "import io\n",
    "from unicef_cpe.utils import *\n",
    "from unicef_cpe.config import PROJ_ROOT\n"
   ]
  },
  {
   "cell_type": "code",
   "execution_count": null,
   "metadata": {},
   "outputs": [],
   "source": [
    "country_map = {k:v for k,v in get_ecaro_countries_mapping(priority=False).items() if k in COUNTRY}\n",
    "country_code_map = {v:k for k,v in get_ecaro_countries_mapping('iso','code', priority=False).items()  if k in COUNTRY}\n"
   ]
  },
  {
   "cell_type": "markdown",
   "metadata": {},
   "source": [
    "## HR Data ##\n",
    "### Loading and Cleaning the Data"
   ]
  },
  {
   "cell_type": "code",
   "execution_count": null,
   "metadata": {},
   "outputs": [],
   "source": [
    "file_paths = PROJ_ROOT / data_source\n",
    "file_paths"
   ]
  },
  {
   "cell_type": "markdown",
   "metadata": {},
   "source": [
    "Read in the data"
   ]
  },
  {
   "cell_type": "code",
   "execution_count": null,
   "metadata": {},
   "outputs": [],
   "source": [
    "sheets = pd.ExcelFile(file_paths).sheet_names  # Get the list of sheet names\n",
    "df_hr = pd.DataFrame()\n",
    "\n",
    "for sheet in sheets:\n",
    "    df = pd.read_excel(file_paths, sheet_name=sheet)\n",
    "    df.rename(lambda x: x.strip().lower().replace(' ', '_'), axis=1, inplace=True)\n",
    "    # Extract the year from the sheet name (last 4 characters)\n",
    "    year =  sheet[-4:] \n",
    "    # Add the spreadsheet year as a new column ['ram3_year'] to the DataFrame\n",
    "    df['year'] = year\n",
    "    df_hr = pd.concat([df_hr, df], ignore_index=True)\n",
    "\n",
    "print('Shape:', df_hr.shape)"
   ]
  },
  {
   "cell_type": "markdown",
   "metadata": {},
   "source": [
    "Clean the HR DataFrame"
   ]
  },
  {
   "cell_type": "code",
   "execution_count": null,
   "metadata": {},
   "outputs": [],
   "source": [
    "# Merge columns with different names from 2016-2024\n",
    "# Merge the differently named country columns into a new column 'country'\n",
    "df_hr['country'] = df_hr['org_division/country_name'].combine_first(\n",
    "    df_hr['org_division_country_name'].combine_first(df_hr['org_division/country']))\n",
    "# Create a reverse mapping from the dictionary (NOTE: check Macedonia naming as various names are used!)\n",
    "df_hr['country'] = df_hr['country'].replace({v: k for k, v in country_map.items()})\n",
    "# Replace 'Macedonia' with 'MKD'\n",
    "df_hr['country'] = df_hr['country'].replace('Macedonia', 'MKD')\n",
    "\n",
    "# Merge the differently named start date columns into Appointment Effective Date\n",
    "df_hr['appointment_effective_date'] = df_hr['appointment_effective_date'].combine_first(df_hr['entry_into_position_date'])\n",
    "\n",
    "# Merge the differently named staff codes into Staff Level Code\n",
    "df_hr['staff_level_code'] = df_hr['staff_level_code'].combine_first(df_hr['staff_level'])"
   ]
  },
  {
   "cell_type": "code",
   "execution_count": null,
   "metadata": {},
   "outputs": [],
   "source": [
    "country_mask = df_hr['country'].eq(COUNTRY)\n",
    "df_hr = df_hr[country_mask].copy()\n",
    "print('Shape:', df_hr.shape)"
   ]
  },
  {
   "cell_type": "markdown",
   "metadata": {},
   "source": [
    "Add a column 'nationality' to distinguish between local and foreign staff."
   ]
  },
  {
   "cell_type": "code",
   "execution_count": null,
   "metadata": {},
   "outputs": [],
   "source": [
    "# Clean the country names in 'country_of_nationality'\n",
    "# Create a reverse mapping from the dictionary (NOTE: check Macedonia and BiH namin, various names are used!)\n",
    "df_hr['country_of_nationality'] = df_hr['country_of_nationality'].replace({v: k for k, v in country_code_map.items()})\n",
    "# Replace 'Macedonia, TFYR' and 'TFYR Macedonia' with 'MKD'\n",
    "df_hr['country_of_nationality'] = df_hr['country_of_nationality'].replace(\n",
    "    {'Macedonia, TFYR': 'MKD', 'TFYR Macedonia': 'MKD'})\n",
    "# Replace 'Bosnia and Herz' with 'BIH'\n",
    "df_hr['country_of_nationality'] = df_hr['country_of_nationality'].replace('Bosnia and Herz', 'BIH')"
   ]
  },
  {
   "cell_type": "code",
   "execution_count": null,
   "metadata": {},
   "outputs": [],
   "source": [
    "df_hr['nationality'] = np.where(df_hr['country'] == df_hr['country_of_nationality'], 'local', 'foreign')"
   ]
  },
  {
   "cell_type": "code",
   "execution_count": null,
   "metadata": {},
   "outputs": [],
   "source": [
    "# columns to keep\n",
    "to_keep = [\n",
    "    'index_number', \n",
    "    'country', \n",
    "    #'appointment_effective_date', \n",
    "    #'appointment_expiry_date', \n",
    "    'year', \n",
    "    #'country_of_nationality',\n",
    "    'nationality',\n",
    "    'appointment_type_name', \n",
    "    'staff_level_code', \n",
    "    'post_title'\n",
    "    ]\n",
    "\n",
    "df_hr = df_hr[to_keep].copy()\n",
    "df_hr.sort_values(by=['country', 'year'], ascending=[True,True], inplace=True)\n",
    "print('Shape:', df_hr.shape)"
   ]
  },
  {
   "cell_type": "code",
   "execution_count": null,
   "metadata": {},
   "outputs": [],
   "source": [
    "post_titles = df_hr.query(\"appointment_type_name != 'Vacant'\")[['staff_level_code', 'post_title']].drop_duplicates()"
   ]
  },
  {
   "cell_type": "code",
   "execution_count": null,
   "metadata": {},
   "outputs": [],
   "source": [
    "post_title_mapping ={\n",
    "    'Child Protection':     \n",
    "    ['Chief Child Protection', 'Child Protection Officer', 'Child Protection Specialist'] + ['Adolescent Development Officer', 'Adolescent Development Specialist', 'Child Development Officer', \n",
    "     'Early Childhood Development Officer', 'Youth & Adolescent Development Officer', \n",
    "     'Education for Development Specialist', 'Communication for Development Officer'],\n",
    "     'Education': \n",
    "    ['Education Officer', 'Education Specialist'],\n",
    "     'Health and Nutrition': \n",
    "    ['Health & Nutrition Officer', 'Health & Nutrition Specialist', 'Health Education Officer', \n",
    "     'Health Officer', 'Nutrition Officer', 'HIV/AIDS Officer'],\n",
    "    'Humanitarian Crises': \n",
    "    ['Emergency Officer'], \n",
    "    'Social Protection and Inclusion':\t\n",
    "    ['Social & Behavior Change Officer', 'Social & Economic Analysis Specialist', 'Social Policy & Economic Specialist', \n",
    "     'Social Policy Officer', 'Social Policy Specialist','Social Services Officer','Social Welfare Officer'],\n",
    "    'HR, Operation, Administration and Finance': \n",
    "    ['Driver', 'Human Resources Assistant', 'Human Resources Associate', 'Human Resources Officer', \n",
    "     'Operations Assistant', 'Operations Manager', 'Senior Driver',\n",
    "     'Accounting & Finance Assistant','Accounting & Finance Associate', 'Administrative & HR Assistant', \n",
    "     'Administrative & HR Associate', \n",
    "     'Administrative Assistant', 'Administrative Associate', 'Finance Assistant', 'Finance Associate', \n",
    "     'Finance/Accounts Assistant', 'Finance/Accounts Associate', 'Finance/HR Assistant', 'Senior Budget Associate', \n",
    "     'Senior Programme Budget Associate'],\n",
    "    'Monitoring, Evaluation, Research':\n",
    "    ['Monitoring & Evaluation Officer', 'Monitoring & Evaluation Specialist', 'Planning & Monitoring Officer', \n",
    "     'Planning Officer', 'Planning, Monitoring& Evaluation Officer', 'Research & Evaluation Officer', \n",
    "     'Statistics & Monitoring Officer'],\n",
    "    'Advocacy and Communication': \n",
    "    ['Advocacy and Communications Specialist', 'Communication Assistant', 'Communication Associate', \n",
    "     'Communication Officer', 'Communication Specialist', 'Programme Communication Assistant'],\n",
    "    'Management': \n",
    "    ['Chief Field Office', 'Deputy Representative', 'Representative'],\n",
    "    'Supply and Logistics':\n",
    "    ['Procurement & Administrative Associate', 'Procurement Associate', 'Procurement Officer'\n",
    "     , 'Administrative & Supply Assistant', 'Administrative & Supply Associate', \n",
    "     'Supply & Logistics Assistant']   \n",
    "}\n",
    "# The number of classified Post Titles\n",
    "print('Number of classified Post Titles:', sum(len(values) for values in post_title_mapping.values()))"
   ]
  },
  {
   "cell_type": "code",
   "execution_count": null,
   "metadata": {},
   "outputs": [],
   "source": [
    "# The total number of Post Titles\n",
    "post_titles = df_hr['post_title'].unique()\n",
    "print('Total number of Post Titles:', len(post_titles))"
   ]
  },
  {
   "cell_type": "code",
   "execution_count": null,
   "metadata": {},
   "outputs": [],
   "source": [
    "# Function to map post title to thematic areas\n",
    "def map_post_to_area(post_title):\n",
    "    for area, post in post_title_mapping.items():\n",
    "        if post_title in post:\n",
    "            return area\n",
    "    return None  # Return None if no match is found\n",
    "\n",
    "# Create a new column 'thematic_area' using the mapping function and assign 'Other'if not classified\n",
    "df_hr['thematic_area'] = df_hr['post_title'].apply(map_post_to_area)\n",
    "df_hr['thematic_area'] = df_hr['thematic_area'].fillna('Other')"
   ]
  },
  {
   "cell_type": "markdown",
   "metadata": {},
   "source": [
    "### Position and posttile to goal area mapping"
   ]
  },
  {
   "cell_type": "code",
   "execution_count": null,
   "metadata": {},
   "outputs": [],
   "source": [
    "\n",
    "\n",
    "to_goal_area_mapping = \"\"\"staff_level_code,post_title,goal_area\n",
    "P-5,Representative,Management\n",
    "G-5,Executive Assistant,Cross Sectoral\n",
    "NO-2,Communication Officer,Cross Sectoral\n",
    "NO-1,Programme Officer,Cross Sectoral\n",
    "G-6,Programme Assistant,Cross Sectoral\n",
    "NO-2,Programme Officer,Cross Sectoral\n",
    "G-7,Senior Programme Assistant,Cross Sectoral\n",
    "NO-3,Health & Nutrition Specialist,Survive and Thrive\n",
    "NO-2,Nutrition Officer,Survive and Thrive\n",
    "NO-3,Education Specialist,Learn\n",
    "G-5,Assistant,Cross Sectoral\n",
    "P-2,Child Protection Officer,Protection from Violence and Exploitation\n",
    "NO-3,Child Protection Specialist,Protection from Violence and Exploitation\n",
    "NO-3,Monitoring & Evaluation Specialist,Development Effectiveness\n",
    "P-4,Deputy Representative,Management\n",
    "G-2,Driver,Cross Sectoral\n",
    "G-6,Administrative & HR Assistant,Cross Sectoral\n",
    "G-6,Accounting & Finance Assistant,Management\n",
    "NO-3,Operations Manager,Management\n",
    "G-6,Information Comm. Technology Assistant,Cross Sectoral\n",
    "G-3,Senior Driver,Cross Sectoral\n",
    "NO-1,Education Officer,Learn\n",
    "G-6,Programme Associate,Cross Sectoral\n",
    "G-6,Accounting & Finance Associate,Management\n",
    "G-6,Information Comm. Technology Associate,Cross Sectoral\n",
    "G-6,Human Resources Associate,Management\n",
    "G-5,Administrative Assistant,Cross Sectoral\n",
    "G-5,Programme Communication Assistant,Cross Sectoral\n",
    "NO-2,Early Childhood Development Officer,Survive and Thrive\n",
    "NO-2,Planning & Monitoring Officer,Development Effectiveness\n",
    "NO-1,Adolescent Development Officer,Equitable Chance in Life\n",
    "G-6,Finance Associate,Management\n",
    "G-6,Administrative Associate,Cross Sectoral\n",
    "G-5,Programme Assistant,Cross Sectoral\n",
    "G-5,Supply & Logistics Assistant,Cross Sectoral\n",
    "NO-1,Research & Evaluation Officer,Development Effectiveness\n",
    "NO-3,Social Policy Specialist,Equitable Chance in Life\n",
    "NO-3,Communication Specialist,Cross Sectoral\n",
    "G-6,Procurement Associate,Cross Sectoral\n",
    "NO-1,Communication Officer,Cross Sectoral\n",
    "NO-1,Social & Behavior Change Officer,Cross Sectoral\n",
    "NO-2,Education Officer,Learn\n",
    "NO-2,Emergency Officer,Protection from Violence and Exploitation\n",
    "P-2,Youth & Adolescent Development Officer,Equitable Chance in Life\n",
    "NO-2,Communication for Development Officer,Cross Sectoral\n",
    "NO-2,Youth & Adolescent Development Officer,Equitable Chance in Life\n",
    "G-4,Administrative Assistant,Cross Sectoral\n",
    "G-6,Finance/HR Assistant,Management\n",
    "P-3,Adolescent Development Specialist,Equitable Chance in Life\n",
    "NO-2,Adolescent Development Officer,Equitable Chance in Life\n",
    "NO-2,Health & Nutrition Officer,Survive and Thrive\n",
    "G-5,Communication Assistant,Cross Sectoral\n",
    "G-6,Communication Associate,Cross Sectoral\n",
    "NO-3,Adolescent Development Specialist,Equitable Chance in Life\n",
    "NO-1,Emergency Officer,Protection from Violence and Exploitation\n",
    "P-3,Advocacy and Communications Specialist,Cross Sectoral\n",
    "NO-1,Early Childhood Development Officer,Survive and Thrive\n",
    "NO-1,Health Officer,Survive and Thrive\n",
    "NO-1,Human Resources Officer,Management\n",
    "G-7,Senior Programme Budget Associate,Management\n",
    "G-6,Procurement & Administrative Associate,Cross Sectoral\n",
    "G-6,Executive Associate,Cross Sectoral\n",
    "NO-2,Child Protection Officer,Protection from Violence and Exploitation\n",
    "P-3,Child Protection Specialist,Protection from Violence and Exploitation\n",
    "G-6,Finance Assistant,Management\n",
    "NO-1,Communication for Development Officer,Cross Sectoral\n",
    "NO-1,Child Protection Officer,Protection from Violence and Exploitation\n",
    "NO-1,Social Policy Officer,Equitable Chance in Life\n",
    "NO-1,Planning Officer,Development Effectiveness\n",
    "NO-1,Monitoring & Evaluation Officer,Development Effectiveness\n",
    "G-5,Operations Assistant,Cross Sectoral\n",
    "NO-2,Health Officer,Survive and Thrive\n",
    "NO-2,Social Policy Officer,Equitable Chance in Life\n",
    "G-6,Field Assistant,Cross Sectoral\n",
    "NO-1,Project Officer,Cross Sectoral\n",
    "P-4,Chief Field Office,Management\n",
    "P-3,Health & Nutrition Specialist,Survive and Thrive\n",
    "NO-1,Health Education Officer,Survive and Thrive\n",
    "G-7,Senior Project Assistant,Cross Sectoral\n",
    "NO-2,Social Welfare Officer,Equitable Chance in Life\n",
    "P-4,Child Protection Specialist,Protection from Violence and Exploitation\n",
    "NO-3,Social Policy & Economic Specialist,Equitable Chance in Life\n",
    "G-6,Finance/Accounts Assistant,Management\n",
    "NO-2,Statistics & Monitoring Officer,Development Effectiveness\n",
    "G-7,Senior Project Associate,Cross Sectoral\n",
    "G-6,Field Associate,Cross Sectoral\n",
    "G-6,Finance/Accounts Associate,Management\n",
    "P-4,Chief Child Protection,Protection from Violence and Exploitation\n",
    "G-6,IT Associate,Cross Sectoral\n",
    "G-5,Administrative & Supply Assistant,Cross Sectoral\n",
    "NO-2,Project Officer,Cross Sectoral\n",
    "G-7,Senior Budget Associate,Management\n",
    "G-5,Administrative & Supply Associate,Cross Sectoral\n",
    "NO-1,Health & Nutrition Officer,Survive and Thrive\n",
    "NO-2,Social Services Officer,Equitable Chance in Life\n",
    "G-6,Administrative & Supply Associate,Cross Sectoral\n",
    "NO-2,Social & Behavior Change Officer,Cross Sectoral\n",
    "G-6,Communication Assistant,Cross Sectoral\n",
    "G-6,Programmer Assistant,Cross Sectoral\n",
    "NO-1,Procurement Officer,Cross Sectoral\n",
    "G-6,Administrative & HR Associate,Management\n",
    "G-5,Administrative Associate,Cross Sectoral\n",
    "NO-1,Child Development Officer,Survive and Thrive\n",
    "NO-1,HIV/AIDS Officer,Survive and Thrive\n",
    "G-6,Information Technology Associate,Cross Sectoral\n",
    "NO-2,\"Planning, Monitoring& Evaluation Officer\",Development Effectiveness\n",
    "NO-2,Partnerships Officer,Cross Sectoral\n",
    "NO-3,Monitoring & Evaluation Officer,Development Effectiveness\n",
    "NO-3,Social & Economic Analysis Specialist,Equitable Chance in Life\n",
    "NO-3,Education for Development Specialist,Learn\n",
    "G-4,Programme Assistant,Cross Sectoral\n",
    "G-5,Administrative & HR Assistant,Management\n",
    "G-5,Human Resources Assistant,Management\n",
    "\"\"\"\n",
    "df_to_goal_area_mapping = pd.read_csv(io.StringIO(to_goal_area_mapping))\n",
    "df_to_goal_area_mapping.head()\n"
   ]
  },
  {
   "cell_type": "code",
   "execution_count": null,
   "metadata": {},
   "outputs": [],
   "source": [
    "to_goal_area_mapping = df_to_goal_area_mapping.set_index(['staff_level_code', 'post_title'])['goal_area'].to_dict()\n",
    "df_hr['goal_area'] = df_hr.set_index(['staff_level_code', 'post_title']).index.map(to_goal_area_mapping)"
   ]
  },
  {
   "cell_type": "markdown",
   "metadata": {},
   "source": [
    "### Staff against Utilization"
   ]
  },
  {
   "cell_type": "code",
   "execution_count": null,
   "metadata": {},
   "outputs": [],
   "source": [
    "\n",
    "df_activities_programme_stucture = pd.read_excel(upstream['20_activities_programme_stucture']['data'])\n",
    "\n",
    "\n",
    "# apply inverse mapping\n",
    "df_activities_programme_stucture['country_iso'] = df_activities_programme_stucture['country'].replace(dict(map(reversed, country_map.items())))\n",
    "\n",
    "# convert year to string to map\n",
    "df_activities_programme_stucture['year'] = df_activities_programme_stucture['year'].astype(str)\n",
    "\n",
    "df_activities_programme_stucture.head()"
   ]
  },
  {
   "cell_type": "code",
   "execution_count": null,
   "metadata": {},
   "outputs": [],
   "source": [
    "df_to_plot = df_hr.copy()\n",
    "df_to_plot = df_to_plot.query(\"~goal_area.isna()\").groupby(['country', 'year', 'goal_area']).size().reset_index(name='hr_count')\n",
    "print(df_to_plot.head())"
   ]
  },
  {
   "cell_type": "code",
   "execution_count": null,
   "metadata": {},
   "outputs": [],
   "source": [
    "activities_programme_stucture_map = df_activities_programme_stucture.groupby(['country_iso', 'year', 'goal_area']).agg({'utilized': 'sum'}).to_dict()['utilized']\n",
    "df_to_plot['utilized'] = df_to_plot.set_index(['country', 'year', 'goal_area']).index.map(activities_programme_stucture_map)\n",
    "df_to_plot['mean_utilized'] = (df_to_plot['utilized'] / df_to_plot['hr_count']).fillna(0)\n",
    "hr_count_against_utilized_by_goal_area = df_to_plot.copy()\n",
    "df_to_plot.head()"
   ]
  },
  {
   "cell_type": "markdown",
   "metadata": {},
   "source": [
    "### Staff Turnover and Appointment Types\n",
    "\n",
    "To find the staff turnover over ~ 1 year we calculate:\n",
    "\n",
    "**turnover = [(the number of employees who left within the time period)/(the number of employees in the year)] x 100**\n",
    "\n",
    "the number of employees who left within the time period: how many index numbers from say 2016 are not present in 2017\n",
    "\n",
    "the number of employees in the year: how many distinct index numbers in 2016\n",
    "\n",
    "Staff data are snapshots of employed staff:  31st Aug - 1st Sep for 2024-2018; 30th Sept for 2017 and 30th Oct for 2016"
   ]
  },
  {
   "cell_type": "code",
   "execution_count": null,
   "metadata": {},
   "outputs": [],
   "source": [
    "# Function that calculates the number of staff that work in a given year and that have left from the index_number\n",
    "def left_total(country, year):\n",
    "    country_this_year = set(df_hr.loc[(df_hr['country'] == country) & (df_hr['year'] == year), 'index_number'])\n",
    "    total = len(country_this_year)\n",
    "    next_year = str(int(year)+1)\n",
    "    country_next_year = set(df_hr.loc[(df_hr['country'] == country) & (df_hr['year'] == next_year), 'index_number'])\n",
    "    left = len(country_this_year - country_next_year)\n",
    "    index_list = list(country_this_year - country_next_year)\n",
    "    return left, total, index_list\n",
    "\n",
    "def count_local(country, year, index_list):\n",
    "    filtered_df = df_hr.loc[(df_hr['country'] == country) & (df_hr['year'] == year)]\n",
    "    filtered_df = filtered_df[(filtered_df['index_number'].isin(index_list))]\n",
    "    nationality_counts = filtered_df['nationality'].value_counts()\n",
    "\n",
    "    # Get the counts for 'local' and 'foreign'\n",
    "    local_count = nationality_counts.get('local', 0)\n",
    "    foreign_count = nationality_counts.get('foreign', 0)\n",
    "    return local_count, foreign_count\n"
   ]
  },
  {
   "cell_type": "code",
   "execution_count": null,
   "metadata": {},
   "outputs": [],
   "source": [
    "country_mask = df_hr['country'].eq(COUNTRY)\n",
    "df_hr = df_hr[country_mask].copy()\n",
    "print('Shape:', df_hr.shape)"
   ]
  },
  {
   "cell_type": "code",
   "execution_count": null,
   "metadata": {},
   "outputs": [],
   "source": [
    "years = df_hr['year'].unique()\n",
    "countries = df_hr['country'].unique()\n",
    "\n",
    "print(years)\n",
    "print(countries)\n",
    "\n",
    "dfs = []\n",
    "total_index_list = [] # indices of staff that have left\n",
    "\n",
    "# The entry for people left in the last year can't be calculated so we skip 2024\n",
    "for country in countries:\n",
    "    for year in years[:-1]:\n",
    "        left, total , index_list = left_total(country, year)\n",
    "        local_count, foreign_count = count_local(country, year, index_list)\n",
    "        turnover = 100*(left/total)\n",
    "        local_turnover = 100*(local_count/total)\n",
    "        foreign_turnover = 100*(foreign_count/total)\n",
    "        df_turnover = pd.DataFrame(\n",
    "            {'country': [country], 'year': [year], 'turnover':[turnover], 'local_turnover':[local_turnover],\n",
    "             'foreign_turnover':[foreign_turnover]\n",
    "             }\n",
    "            )\n",
    "        dfs.append(df_turnover)\n",
    "        for item in index_list:\n",
    "            total_index_list.append(item)\n",
    "\n",
    "df_turnover = pd.concat(dfs, axis=0, ignore_index=True)\n",
    "df_turnover.sort_values(by=['country', 'year'], ascending=True, inplace=True)\n",
    "\n",
    "print(df_turnover.head())"
   ]
  },
  {
   "cell_type": "markdown",
   "metadata": {},
   "source": [
    "Add contract types (appointment_type_name), nationality, staff level (staff_level_code) and combine with df_turnover. "
   ]
  },
  {
   "cell_type": "code",
   "execution_count": null,
   "metadata": {},
   "outputs": [],
   "source": [
    "def pivot_table(df, col_name):\n",
    "    staff = df_hr.groupby(['country', 'year'])[col_name].value_counts().reset_index()\n",
    "    df = staff.pivot_table(index=['country', 'year'], \n",
    "                                            columns=col_name, \n",
    "                                            values='count', \n",
    "                                            fill_value=0).reset_index()\n",
    "    return df"
   ]
  },
  {
   "cell_type": "code",
   "execution_count": null,
   "metadata": {},
   "outputs": [],
   "source": [
    "# Merge TA into Temporary Appt.\n",
    "df_hr['appointment_type_name'] = df_hr['appointment_type_name'].replace('TA', 'Temporary Appt.')\n",
    "\n",
    "\n",
    "# Count the appointment types\n",
    "df_staff = pivot_table(df_hr, 'appointment_type_name')\n",
    "\n",
    "# Count the nationalities\n",
    "df_nationality = pivot_table(df_hr, 'nationality')\n",
    "\n",
    "# Count the staff level\n",
    "df_level = pivot_table(df_hr, 'staff_level_code')\n",
    "\n",
    "# List of DataFrames to merge with df_staff\n",
    "to_merge = [df_nationality, df_level, df_turnover]\n",
    "\n",
    "# Merge all DataFrames in the list using a loop\n",
    "for df in to_merge:\n",
    "    df_staff = df_staff.merge(df, on=['country', 'year'], how='left')"
   ]
  },
  {
   "cell_type": "markdown",
   "metadata": {},
   "source": [
    "#### Looking at which Post Titles in Turnover\n",
    "\n",
    "Look at what type of staff have left within a year, to see if there is a pattern. df_turnover_positions stores the appointment types that have left within a year (this data is not exported to excel)."
   ]
  },
  {
   "cell_type": "code",
   "execution_count": null,
   "metadata": {},
   "outputs": [],
   "source": [
    "df_turnover_positions = pd.DataFrame({'index_number': total_index_list})\n",
    "# Merge the dataframes on 'index_number'\n",
    "\n",
    "# Get the first occurrence of each index_number from df_hr\n",
    "df_hr_unique = df_hr.drop_duplicates(subset='index_number')\n",
    "df_turnover_positions = df_turnover_positions.merge(\n",
    "    df_hr_unique[['index_number', 'country', 'post_title']], on='index_number', how='left')\n",
    "\n",
    "# Count the occurrences of each post_title\n",
    "df_post_title_counts = df_turnover_positions['post_title'].value_counts().reset_index()\n",
    "\n",
    "# Rename the columns for clarity\n",
    "df_post_title_counts.columns = ['post_title', 'count']"
   ]
  },
  {
   "cell_type": "markdown",
   "metadata": {},
   "source": [
    "### Number of Emergency Officers\n",
    "\n",
    "\n",
    "ARM: 1 in 2024\n",
    "\n",
    "AZE: 1 in 2023 and 2024 (same person)\n",
    "\n",
    "BIH: 1 from 2020 to 2024 (same person)\n",
    "\n",
    "GEO: 1 in 2020"
   ]
  },
  {
   "cell_type": "markdown",
   "metadata": {},
   "source": [
    "### Staff by Thematic Area\n",
    "\n",
    "Create a mapping of Post Titles to thematic areas:\n",
    "- Child Development \n",
    "- Child Protection\n",
    "- Climate Change and Environmental Sustainability \n",
    "- Education\n",
    "- Gender Equality \n",
    "- Health and Nutrition \n",
    "- HIV/AIDS\n",
    "- Humanitarian Crises \n",
    "- Social Protection and Inclusion\n",
    "- WASH\n",
    "\n",
    "Other areas:\n",
    "- Information Technology\n",
    "- HR and Operation\n",
    "- Administration and Finance\n",
    "- Monitoring\n",
    "- Communication\n",
    "- Management (P-4 and P-5)\n",
    "- Supply and Logistics\n",
    "\n",
    "Combine:\n",
    "\n",
    "Child Development = Early Childhood Development + Adolescent Development\n",
    "\n",
    "Health and Nutrition = Health and Nutrition + Health + Nutrition"
   ]
  },
  {
   "cell_type": "code",
   "execution_count": null,
   "metadata": {},
   "outputs": [],
   "source": [
    "# Count the occurrences of each post_title\n",
    "df_agg = df_hr.groupby(['country','year'])['thematic_area'].value_counts().reset_index()\n",
    "df_agg.rename(columns={'count': 'staff_number'}, inplace=True)\n",
    "\n",
    "# Calculate the total staff counts\n",
    "staff_counts = df_agg.groupby(['country', 'year'])['staff_number'].sum().reset_index()\n",
    "staff_counts.rename(columns={'staff_number': 'total_staff'}, inplace=True)\n",
    "\n",
    "# Merge total staff counts back to the original DataFrame\n",
    "df_agg = df_agg.merge(staff_counts, on=['country', 'year'])\n",
    "\n",
    "# Calculate the proportion of staff\n",
    "df_agg['staff_proportion'] = 100*(df_agg['staff_number'] / df_agg['total_staff'])\n",
    "df_agg.sort_values(by=['country', 'year', 'staff_proportion'], ascending=[True,True,False], inplace=True)"
   ]
  },
  {
   "cell_type": "markdown",
   "metadata": {},
   "source": [
    "### Output to Excel"
   ]
  },
  {
   "cell_type": "code",
   "execution_count": null,
   "metadata": {},
   "outputs": [],
   "source": [
    "# output df to excel file in '/data/outputs/HR_staff_data.xlsx'\n",
    "# Write the dataframes to separate sheets\n",
    "\n",
    "\n",
    "output_path = Path(product['data_staff'])\n",
    "output_path.parent.mkdir(parents=True, exist_ok=True)  # Create missing directories\n",
    "\n",
    "df_staff.to_excel(product['data_staff'], index=False)\n",
    "df_agg.to_excel(product['data_staff_thematic'], index=False)\n",
    "hr_count_against_utilized_by_goal_area.to_excel(product['data_hr_count_against_utilized_by_goal_area'], index=False)"
   ]
  }
 ],
 "metadata": {
  "kernelspec": {
   "display_name": "unicef-ecaro-cpe",
   "language": "python",
   "name": "python3"
  },
  "language_info": {
   "codemirror_mode": {
    "name": "ipython",
    "version": 3
   },
   "file_extension": ".py",
   "mimetype": "text/x-python",
   "name": "python",
   "nbconvert_exporter": "python",
   "pygments_lexer": "ipython3",
   "version": "3.10.16"
  }
 },
 "nbformat": 4,
 "nbformat_minor": 2
}
