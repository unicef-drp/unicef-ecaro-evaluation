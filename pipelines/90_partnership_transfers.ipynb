{
 "cells": [
  {
   "cell_type": "code",
   "execution_count": null,
   "metadata": {
    "tags": [
     "parameters"
    ]
   },
   "outputs": [],
   "source": [
    "# IMPORTANT: The parameters below are set only for running this notebook independently. \n",
    "# When executing the full Ploomber pipeline, these values will be overridden by the settings in `pipeline.yaml`. \n",
    "# Any modifications made here will not persist when running the pipeline.\n",
    "upstream = None\n",
    "COUNTRY =  'ARM' # Code of the Country\n",
    "product = {'data': f'../data/processed/{COUNTRY}/partnership_transfers.xlsx'}  # Path to save the final data product (stored under the 'data' key)\n",
    "data_source = 'data/raw/insight-dct-partnerships/insight-dct-partnerships-analysis-cube.xlsx'  # Path to the source data directory"
   ]
  },
  {
   "cell_type": "markdown",
   "metadata": {},
   "source": [
    "This Notebook summarizes the direct cash transfers (DCT) to partners, including total transfer amounts and goal areas (copy of **Partnership Transfers** in 01_main)."
   ]
  },
  {
   "cell_type": "code",
   "execution_count": null,
   "metadata": {},
   "outputs": [],
   "source": [
    "import re\n",
    "from pathlib import Path\n",
    "import pandas as pd\n",
    "import unicef_cpe as cpe\n",
    "\n",
    "from unicef_cpe.config import PROJ_ROOT\n",
    "\n",
    "\n",
    "\n",
    "country_map = {k:v for k,v in cpe.utils.get_ecaro_countries_mapping(priority=False).items() if k in COUNTRY}\n",
    "country_code_map = {v:k for k,v in country_map.items() }"
   ]
  },
  {
   "cell_type": "markdown",
   "metadata": {},
   "source": [
    "**Partnership Transfers**"
   ]
  },
  {
   "cell_type": "code",
   "execution_count": null,
   "metadata": {},
   "outputs": [],
   "source": [
    "file_path = PROJ_ROOT / data_source\n",
    "df_partnerships = pd.read_excel(file_path, sheet_name='by BA, Partner & FR', skiprows=6, skipfooter=1)\n",
    "df_partnerships.rename(lambda x: x.lower().replace(' ', '_'), axis=1, inplace=True)\n",
    "print('Shape:', df_partnerships.shape)\n",
    "print(df_partnerships.head())"
   ]
  },
  {
   "cell_type": "code",
   "execution_count": null,
   "metadata": {},
   "outputs": [],
   "source": [
    "df_partnerships.isna().sum()"
   ]
  },
  {
   "cell_type": "code",
   "execution_count": null,
   "metadata": {},
   "outputs": [],
   "source": [
    "for column in ('vendor', 'fr_start_year', 'fr_end_year', 'budget_business_area'):\n",
    "    df_partnerships[column] = df_partnerships[column].ffill()\n",
    "\n",
    "for column in ('fr_start_year', 'fr_end_year'):\n",
    "    df_partnerships[column] = df_partnerships[column].astype(int)\n",
    "\n",
    "print('Shape:', df_partnerships.shape)\n",
    "print(df_partnerships.head())"
   ]
  },
  {
   "cell_type": "code",
   "execution_count": null,
   "metadata": {},
   "outputs": [],
   "source": [
    "mapping = cpe.utils.get_ecaro_countries_mapping(keys='code', values='iso')\n",
    "df_partnerships['country'] = df_partnerships['budget_business_area'].str.split(' - ').str.get(-1).replace(mapping)\n",
    "df_partnerships = df_partnerships.loc[df_partnerships['country'].isin(mapping.values())].copy()\n",
    "assert not set(df_partnerships['country']) - set(mapping.values())\n",
    "\n",
    "print('Shape:', df_partnerships.shape)\n",
    "print(df_partnerships.head())"
   ]
  },
  {
   "cell_type": "code",
   "execution_count": null,
   "metadata": {},
   "outputs": [],
   "source": [
    "df_partnerships = df_partnerships[df_partnerships['country'].eq(COUNTRY)].copy()"
   ]
  },
  {
   "cell_type": "code",
   "execution_count": null,
   "metadata": {},
   "outputs": [],
   "source": [
    "output_path = Path(product['data'])\n",
    "output_path.parent.mkdir(parents=True, exist_ok=True)  # Create missing directories\n",
    "df_partnerships.to_excel(product['data'], index=False)"
   ]
  }
 ],
 "metadata": {
  "kernelspec": {
   "display_name": "unicef-ecaro-cpe",
   "language": "python",
   "name": "python3"
  },
  "language_info": {
   "codemirror_mode": {
    "name": "ipython",
    "version": 3
   },
   "file_extension": ".py",
   "mimetype": "text/x-python",
   "name": "python",
   "nbconvert_exporter": "python",
   "pygments_lexer": "ipython3",
   "version": "3.10.16"
  }
 },
 "nbformat": 4,
 "nbformat_minor": 4
}
